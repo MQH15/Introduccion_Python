{
 "cells": [
  {
   "cell_type": "markdown",
   "metadata": {},
   "source": [
    "# Ejercicios Resueltos"
   ]
  },
  {
   "cell_type": "markdown",
   "metadata": {},
   "source": [
    "    Parte 1"
   ]
  },
  {
   "cell_type": "markdown",
   "metadata": {},
   "source": [
    "- Implementar una función que tome como entrada tres variables y devuelva la más grande de las tres. ¡Haz esto sin usar la función Python max ()! Haga una versión sin ninguna variable local y otra con una variable local."
   ]
  },
  {
   "cell_type": "code",
   "execution_count": 1,
   "metadata": {},
   "outputs": [],
   "source": [
    "def fun_max(a,b,c):\n",
    "    if a > b:\n",
    "        if a > c:\n",
    "            return a\n",
    "        else:\n",
    "            return c\n",
    "    elif b > c:\n",
    "        return b\n",
    "    else:\n",
    "        return c"
   ]
  },
  {
   "cell_type": "code",
   "execution_count": 2,
   "metadata": {},
   "outputs": [
    {
     "data": {
      "text/plain": [
       "3"
      ]
     },
     "execution_count": 2,
     "metadata": {},
     "output_type": "execute_result"
    }
   ],
   "source": [
    "fun_max(1,2,3)"
   ]
  },
  {
   "cell_type": "code",
   "execution_count": 3,
   "metadata": {},
   "outputs": [
    {
     "data": {
      "text/plain": [
       "3"
      ]
     },
     "execution_count": 3,
     "metadata": {},
     "output_type": "execute_result"
    }
   ],
   "source": [
    "fun_max(2,3,1)"
   ]
  },
  {
   "cell_type": "code",
   "execution_count": 4,
   "metadata": {},
   "outputs": [
    {
     "data": {
      "text/plain": [
       "3"
      ]
     },
     "execution_count": 4,
     "metadata": {},
     "output_type": "execute_result"
    }
   ],
   "source": [
    "fun_max(3,1,2)"
   ]
  },
  {
   "cell_type": "code",
   "execution_count": 5,
   "metadata": {},
   "outputs": [],
   "source": [
    "def fun_max2(a,b,c):\n",
    "    val_max = 0\n",
    "    if val_max > a:\n",
    "        return val_max\n",
    "        if val_max > b:\n",
    "            return val_max\n",
    "            if val_max > c:\n",
    "                return val_max\n",
    "            else:\n",
    "                val_max = c\n",
    "                return val_max\n",
    "        elif b > c:\n",
    "            val_max = b\n",
    "            return val_max\n",
    "        else:\n",
    "            val_max = c\n",
    "            return val_max\n",
    "    elif a > b:\n",
    "        if a > c:\n",
    "            val_max = a\n",
    "            return val_max\n",
    "        else:\n",
    "            val_max = c\n",
    "            return val_max\n",
    "    else:\n",
    "        if b > c:\n",
    "            val_max = b\n",
    "            return val_max\n",
    "        else:\n",
    "            val_max = c\n",
    "            return val_max"
   ]
  },
  {
   "cell_type": "code",
   "execution_count": 6,
   "metadata": {},
   "outputs": [
    {
     "data": {
      "text/plain": [
       "3"
      ]
     },
     "execution_count": 6,
     "metadata": {},
     "output_type": "execute_result"
    }
   ],
   "source": [
    "fun_max2(1,2,3)"
   ]
  },
  {
   "cell_type": "code",
   "execution_count": 7,
   "metadata": {},
   "outputs": [
    {
     "data": {
      "text/plain": [
       "3"
      ]
     },
     "execution_count": 7,
     "metadata": {},
     "output_type": "execute_result"
    }
   ],
   "source": [
    "fun_max2(2,3,1)"
   ]
  },
  {
   "cell_type": "code",
   "execution_count": 8,
   "metadata": {},
   "outputs": [
    {
     "data": {
      "text/plain": [
       "3"
      ]
     },
     "execution_count": 8,
     "metadata": {},
     "output_type": "execute_result"
    }
   ],
   "source": [
    "fun_max2(3,1,2)"
   ]
  },
  {
   "cell_type": "markdown",
   "metadata": {},
   "source": [
    "- Escriba una función “centenario” que tome el Nombre y el año de nacimiento como entradas, verifique si el año de nacimiento es int y cámbielo a int si no, e imprima el nombre junto con el texto que explica cuándo la persona debe tener 100 años (pista: use isinstance)\n",
    "\n",
    "call to function: centenario(Antonio, 1967)\n",
    "\n",
    "output: Antonio will reach 100 years in 2067."
   ]
  },
  {
   "cell_type": "code",
   "execution_count": 37,
   "metadata": {},
   "outputs": [],
   "source": [
    "def centenario(a,b):\n",
    "    if isinstance(b,int) == True:\n",
    "        return \"%s will reach 100 years in %d\" %(a,b+100)\n",
    "    else:\n",
    "        b = int(b)\n",
    "        return \"%s will reach 100 years in %d\" %(a,b+100)"
   ]
  },
  {
   "cell_type": "code",
   "execution_count": 38,
   "metadata": {},
   "outputs": [
    {
     "data": {
      "text/plain": [
       "'Antonio will reach 100 years in 2067'"
      ]
     },
     "execution_count": 38,
     "metadata": {},
     "output_type": "execute_result"
    }
   ],
   "source": [
    "centenario(\"Antonio\",1967)"
   ]
  },
  {
   "cell_type": "markdown",
   "metadata": {},
   "source": [
    "- Escriba una función para calcular el número de palabras, el número de líneas y la longitud de una cadena de la misma manera que lo hace el comando wc en la línea de comandos"
   ]
  },
  {
   "cell_type": "code",
   "execution_count": 56,
   "metadata": {},
   "outputs": [],
   "source": [
    "def wc_python(m):\n",
    "    a = m\n",
    "    b = m.splitlines()\n",
    "    c = m.split(\" \")\n",
    "    print (\"El numero de letras es: %d;\" %(len(a)))\n",
    "    print (\"El numero de lineas es: %d;\" %(len(b)))\n",
    "    print (\"El numero de palabras es: %d\" %(len(c)))\n",
    "    return"
   ]
  },
  {
   "cell_type": "code",
   "execution_count": 60,
   "metadata": {},
   "outputs": [
    {
     "name": "stdout",
     "output_type": "stream",
     "text": [
      "El numero de letras es: 26;\n",
      "El numero de lineas es: 1;\n",
      "El numero de palabras es: 7\n"
     ]
    }
   ],
   "source": [
    "wc_python('seb sgn drgn drgn dgn d md')"
   ]
  },
  {
   "cell_type": "markdown",
   "metadata": {},
   "source": [
    "- Para una secuencia [1, 2, 3, 4, 5, 6, 7, 8] obtenga los valores cuadrados utilizando la función lambda."
   ]
  },
  {
   "cell_type": "code",
   "execution_count": 67,
   "metadata": {},
   "outputs": [],
   "source": [
    "a = [1,2,3,4,5,6,7,8]\n",
    "result = list(map(lambda x: x**2,a))"
   ]
  },
  {
   "cell_type": "code",
   "execution_count": 68,
   "metadata": {},
   "outputs": [
    {
     "data": {
      "text/plain": [
       "[1, 4, 9, 16, 25, 36, 49, 64]"
      ]
     },
     "execution_count": 68,
     "metadata": {},
     "output_type": "execute_result"
    }
   ],
   "source": [
    "result"
   ]
  },
  {
   "cell_type": "markdown",
   "metadata": {},
   "source": [
    "- Prepare una lista con 10 nombres. Haga un código que ponga todas las vocales a mayúsculas y todos los demás caracteres a letras más bajas."
   ]
  },
  {
   "cell_type": "code",
   "execution_count": 97,
   "metadata": {},
   "outputs": [],
   "source": [
    "result = []\n",
    "def vocal_mayus(m):\n",
    "    for value in m:\n",
    "        nombre = ''\n",
    "        for letter in value:\n",
    "            if letter in \"aeiouAEIOU\":\n",
    "                nombre = nombre + letter.upper()\n",
    "            else:\n",
    "                nombre = nombre + letter\n",
    "        result.append(nombre)"
   ]
  },
  {
   "cell_type": "code",
   "execution_count": 141,
   "metadata": {},
   "outputs": [],
   "source": [
    "a = ['Joseph','Michael','Andre','Rosario','Iossif','Julio','Sergio','Cesar']"
   ]
  },
  {
   "cell_type": "code",
   "execution_count": 98,
   "metadata": {},
   "outputs": [
    {
     "data": {
      "text/plain": [
       "['JOsEph', 'MIchAEl', 'AndrE', 'ROsArIO', 'IOssIf', 'JUlIO', 'SErgIO', 'CEsAr']"
      ]
     },
     "execution_count": 98,
     "metadata": {},
     "output_type": "execute_result"
    }
   ],
   "source": [
    "vocal_mayus(a);\n",
    "result"
   ]
  },
  {
   "cell_type": "markdown",
   "metadata": {},
   "source": [
    "- Invertir el orden de las palabras de la cadena de entrada"
   ]
  },
  {
   "cell_type": "code",
   "execution_count": 136,
   "metadata": {},
   "outputs": [],
   "source": [
    "nombre = []\n",
    "def inverse_nom(m):\n",
    "    for letter in m:\n",
    "        nombre.insert(0,letter)\n",
    "    return \"\".join(nombre)"
   ]
  },
  {
   "cell_type": "code",
   "execution_count": 137,
   "metadata": {},
   "outputs": [
    {
     "data": {
      "text/plain": [
       "'leahciM'"
      ]
     },
     "execution_count": 137,
     "metadata": {},
     "output_type": "execute_result"
    }
   ],
   "source": [
    "inverse_nom('Michael')"
   ]
  },
  {
   "cell_type": "markdown",
   "metadata": {},
   "source": [
    "- Escriba una función de Python que tome una lista de palabras y devuelva la longitud de la más larga."
   ]
  },
  {
   "cell_type": "code",
   "execution_count": 154,
   "metadata": {},
   "outputs": [],
   "source": [
    "max_len_nom = 0\n",
    "len_nom = []\n",
    "def max_len(m):\n",
    "    len_val = 0\n",
    "    for value in m:\n",
    "        len_val = len(value)\n",
    "        len_nom.append(len_val)\n",
    "    max_len_nom = max(len_nom)\n",
    "    return max_len_nom "
   ]
  },
  {
   "cell_type": "code",
   "execution_count": 155,
   "metadata": {},
   "outputs": [
    {
     "data": {
      "text/plain": [
       "['Joseph', 'Michael', 'Andre', 'Rosario', 'Iossif', 'Julio', 'Sergio', 'Cesar']"
      ]
     },
     "execution_count": 155,
     "metadata": {},
     "output_type": "execute_result"
    }
   ],
   "source": [
    "a"
   ]
  },
  {
   "cell_type": "code",
   "execution_count": 156,
   "metadata": {},
   "outputs": [
    {
     "data": {
      "text/plain": [
       "7"
      ]
     },
     "execution_count": 156,
     "metadata": {},
     "output_type": "execute_result"
    }
   ],
   "source": [
    "max_len(a)"
   ]
  },
  {
   "cell_type": "markdown",
   "metadata": {},
   "source": [
    "- Ordene una colección de cadenas por el número de letras distintas en cada cadena. (pista: usar set y lambda)"
   ]
  },
  {
   "cell_type": "code",
   "execution_count": 163,
   "metadata": {},
   "outputs": [],
   "source": [
    "a\n",
    "a.sort(key=lambda x:len(set(list(x))))"
   ]
  },
  {
   "cell_type": "code",
   "execution_count": 166,
   "metadata": {},
   "outputs": [
    {
     "data": {
      "text/plain": [
       "['Andre', 'Iossif', 'Julio', 'Cesar', 'Joseph', 'Rosario', 'Sergio', 'Michael']"
      ]
     },
     "execution_count": 166,
     "metadata": {},
     "output_type": "execute_result"
    }
   ],
   "source": [
    "a"
   ]
  },
  {
   "cell_type": "code",
   "execution_count": null,
   "metadata": {},
   "outputs": [],
   "source": []
  }
 ],
 "metadata": {
  "kernelspec": {
   "display_name": "Python 3",
   "language": "python",
   "name": "python3"
  },
  "language_info": {
   "codemirror_mode": {
    "name": "ipython",
    "version": 3
   },
   "file_extension": ".py",
   "mimetype": "text/x-python",
   "name": "python",
   "nbconvert_exporter": "python",
   "pygments_lexer": "ipython3",
   "version": "3.6.4"
  }
 },
 "nbformat": 4,
 "nbformat_minor": 2
}
