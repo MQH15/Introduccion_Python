{
 "cells": [
  {
   "cell_type": "markdown",
   "metadata": {},
   "source": [
    "# Ejercicios Resueltos"
   ]
  },
  {
   "cell_type": "code",
   "execution_count": 1,
   "metadata": {},
   "outputs": [],
   "source": [
    "import numpy as np"
   ]
  },
  {
   "cell_type": "markdown",
   "metadata": {},
   "source": [
    "### Ejercicio 1"
   ]
  },
  {
   "cell_type": "markdown",
   "metadata": {},
   "source": [
    "Cree una muestra de puntos que sigan la ecuación $Y = AX + B$, donde A = 2.5 y B = 20."
   ]
  },
  {
   "cell_type": "code",
   "execution_count": 5,
   "metadata": {},
   "outputs": [],
   "source": [
    "x = np.random.rand(100)\n",
    "y = 2.5 * x + 20"
   ]
  },
  {
   "cell_type": "markdown",
   "metadata": {},
   "source": [
    "### Ejercicio 2"
   ]
  },
  {
   "cell_type": "markdown",
   "metadata": {},
   "source": [
    "Representa la función logística o sigmoidea entre -20 y 20. Recuerda que su fórmula es:\n",
    "\n",
    "$$\\displaystyle S (x) = {\\frac {1}{1+e^{-x}}} = {\\frac {e^{x}}{e^{x}+1}}$$\n",
    "\n",
    "_Hint_: revisa la función np.exp"
   ]
  },
  {
   "cell_type": "markdown",
   "metadata": {},
   "source": [
    "- Metodo 1"
   ]
  },
  {
   "cell_type": "code",
   "execution_count": 9,
   "metadata": {},
   "outputs": [],
   "source": [
    "x = np.linspace(-20,20,100)\n",
    "y = np.exp(x) / (np.exp(x) + 1)"
   ]
  },
  {
   "cell_type": "markdown",
   "metadata": {},
   "source": [
    "- Metodo 2"
   ]
  },
  {
   "cell_type": "code",
   "execution_count": 10,
   "metadata": {},
   "outputs": [],
   "source": [
    "x = np.linspace(-20,20,100)\n",
    "\n",
    "def sigmoidea(m):\n",
    "    return np.exp(x) / (np.exp(x) + 1)\n",
    "\n",
    "y = sigmoidea(x)"
   ]
  },
  {
   "cell_type": "markdown",
   "metadata": {},
   "source": [
    "### Ejercicio 3"
   ]
  },
  {
   "cell_type": "markdown",
   "metadata": {},
   "source": [
    "En una granja de pollos y conejos hay 35 cabezas y 94 patas. ¿Cuántos pollos y cuántos conejos tenemos?"
   ]
  },
  {
   "cell_type": "markdown",
   "metadata": {},
   "source": [
    "Recuerda:\n",
    "\n",
    "$$A \\cdot X = B$$\n",
    "\n",
    "$$A^{-1} \\cdot A \\cdot X = I \\cdot X = A^{-1} \\cdot B$$\n",
    "\n",
    "$$X = A^{-1} \\cdot B$$"
   ]
  },
  {
   "cell_type": "markdown",
   "metadata": {},
   "source": [
    "Planetando el ejercicio:\n",
    "\n",
    "$p + c = 35$\n",
    "\n",
    "$2p +4c = 94$"
   ]
  },
  {
   "cell_type": "markdown",
   "metadata": {},
   "source": [
    "- Metodo 1"
   ]
  },
  {
   "cell_type": "code",
   "execution_count": 20,
   "metadata": {},
   "outputs": [
    {
     "data": {
      "text/plain": [
       "matrix([[23., 12.]])"
      ]
     },
     "execution_count": 20,
     "metadata": {},
     "output_type": "execute_result"
    }
   ],
   "source": [
    "B = np.array([35,94])\n",
    "\n",
    "A_prev = [1,1,2,4]\n",
    "A = np.array(a_prev).reshape(2,2)\n",
    "A_pos = np.mat(A)\n",
    "A_inv = A_pos.I\n",
    "A_inv\n",
    "\n",
    "x = A_inv.dot(B)\n",
    "x"
   ]
  },
  {
   "cell_type": "markdown",
   "metadata": {},
   "source": [
    "- Metodo 2"
   ]
  },
  {
   "cell_type": "code",
   "execution_count": 21,
   "metadata": {},
   "outputs": [],
   "source": [
    "B = np.array([35,94])\n",
    "\n",
    "A_prev = [1,1,2,4]\n",
    "A = np.array(a_prev).reshape(2,2)"
   ]
  },
  {
   "cell_type": "code",
   "execution_count": 22,
   "metadata": {},
   "outputs": [],
   "source": [
    "from numpy import linalg as la"
   ]
  },
  {
   "cell_type": "code",
   "execution_count": 23,
   "metadata": {},
   "outputs": [
    {
     "data": {
      "text/plain": [
       "array([23., 12.])"
      ]
     },
     "execution_count": 23,
     "metadata": {},
     "output_type": "execute_result"
    }
   ],
   "source": [
    "A_inv = la.inv(A)\n",
    "A_inv\n",
    "\n",
    "x = A_inv.dot(B)\n",
    "x"
   ]
  },
  {
   "cell_type": "code",
   "execution_count": 40,
   "metadata": {},
   "outputs": [
    {
     "data": {
      "text/plain": [
       "array([[-44.,  12.],\n",
       "       [ 12.,  51.]])"
      ]
     },
     "execution_count": 40,
     "metadata": {},
     "output_type": "execute_result"
    }
   ],
   "source": [
    "a[0:2,]"
   ]
  },
  {
   "cell_type": "markdown",
   "metadata": {},
   "source": [
    "### Ejercicio 4"
   ]
  },
  {
   "cell_type": "code",
   "execution_count": 42,
   "metadata": {
    "scrolled": false
   },
   "outputs": [
    {
     "name": "stdout",
     "output_type": "stream",
     "text": [
      "[[ -44.   12.]\n",
      " [  12.   51.]\n",
      " [1305.    0.]]\n",
      "[[ -88.   24.]\n",
      " [  24.  102.]\n",
      " [2610.    0.]]\n",
      "[[ -17.6    4.8]\n",
      " [   4.8   20.4]\n",
      " [2610.     0. ]]\n",
      "[2610.    0.]\n"
     ]
    }
   ],
   "source": [
    "lista_de_listas=[ [-44,12], \n",
    "                  [12.0,51], \n",
    "                  [1300, -5.0]]\n",
    "a = np.array(lista_de_listas)\n",
    "a\n",
    "\n",
    "# Restarle 5 a la fila 2 de la matriz\n",
    "#IMPLEMENTAR\n",
    "\n",
    "a[2,] = a[2,] + 5\n",
    "print(a)\n",
    "\n",
    "\n",
    "# Multiplicar por 2 toda la matriz\n",
    "#IMPLEMENTAR\n",
    "a = a * 2\n",
    "print(a)\n",
    "\n",
    "# Dividir por -5 las dos primeras filas de la matriz\n",
    "#IMPLEMENTAR\n",
    "a[0:2,] = a[0:2,] / 5\n",
    "print(a)\n",
    "\n",
    "\n",
    "#Imprimir la ultima fila de la matriz\n",
    "ultima_fila=0 # IMPLEMENTAR\n",
    "ultima_fila = a[2,]\n",
    "print(ultima_fila)"
   ]
  },
  {
   "cell_type": "code",
   "execution_count": 72,
   "metadata": {},
   "outputs": [
    {
     "name": "stdout",
     "output_type": "stream",
     "text": [
      "2658.4\n",
      "2658.4\n",
      "443.06666666666666\n",
      "443.06666666666666\n"
     ]
    }
   ],
   "source": [
    "# Calcular la suma de los elementos de a utilizando dos fors anidados\n",
    "suma = 0\n",
    "#IMPLEMENTAR\n",
    "for i in range(len(a)):\n",
    "    for j in range(len(a[i])):\n",
    "        suma = suma + a[i][j]\n",
    "print(suma)\n",
    "\n",
    "# Calcular la suma de los elementos de a utilizando np.sum\n",
    "#IMPLEMENTAR\n",
    "suma_2 = np.sum(a)\n",
    "print(suma_2)\n",
    "\n",
    "# Calcular el promedio de los elementos de las primeras dos filas de a\n",
    "# utilizando dos fors anidados\n",
    "entero = 0\n",
    "promedio=0\n",
    "suma=0\n",
    "#IMPLEMENTAR\n",
    "for i in range(len(a)):\n",
    "    for j in range(len(a[i])):\n",
    "        suma = suma + a[i][j]\n",
    "        entero = entero + 1\n",
    "        promedio = suma / entero\n",
    "print(promedio)\n",
    "\n",
    "# Calcular el promedio de los elementos de las primeras dos filas de utilizando slices y np.mean\n",
    "#IMPLEMENTAR\n",
    "promedio = np.mean(a)\n",
    "print(promedio)"
   ]
  }
 ],
 "metadata": {
  "kernelspec": {
   "display_name": "Python 3",
   "language": "python",
   "name": "python3"
  },
  "language_info": {
   "codemirror_mode": {
    "name": "ipython",
    "version": 3
   },
   "file_extension": ".py",
   "mimetype": "text/x-python",
   "name": "python",
   "nbconvert_exporter": "python",
   "pygments_lexer": "ipython3",
   "version": "3.6.4"
  }
 },
 "nbformat": 4,
 "nbformat_minor": 2
}
