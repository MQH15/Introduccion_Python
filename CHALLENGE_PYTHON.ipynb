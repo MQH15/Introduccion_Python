{
 "cells": [
  {
   "cell_type": "markdown",
   "metadata": {},
   "source": [
    "# Challenge Python"
   ]
  },
  {
   "cell_type": "markdown",
   "metadata": {},
   "source": [
    "## Ejercicio 1"
   ]
  },
  {
   "cell_type": "markdown",
   "metadata": {},
   "source": [
    "### Cuente el número de líneas en Python para cada archivo"
   ]
  },
  {
   "cell_type": "markdown",
   "metadata": {},
   "source": [
    "Los archivos son \"booking.csv.bz2\", \"searches.csv.bz2\""
   ]
  },
  {
   "cell_type": "code",
   "execution_count": 2,
   "metadata": {},
   "outputs": [
    {
     "name": "stdout",
     "output_type": "stream",
     "text": [
      "/home/dsc/Repos/Python\n"
     ]
    }
   ],
   "source": [
    "cd /home/dsc/Repos/Python"
   ]
  },
  {
   "cell_type": "code",
   "execution_count": 3,
   "metadata": {},
   "outputs": [
    {
     "name": "stdout",
     "output_type": "stream",
     "text": [
      "total 1189924\r\n",
      "-rw-r--r-- 1 dsc dsc  53252030 feb 13  2018 210104-180-multas-circulacion-detalle.csv\r\n",
      "-rw-r--r-- 1 dsc dsc  51575427 nov  8  2015 914310910_T_T100_SEGMENT_ALL_CARRIER_2015_All.csv\r\n",
      "-rw-r--r-- 1 dsc dsc      4341 nov  8  2015 914310910_T_T100_SEGMENT_ALL_CARRIER_ReadMe.csv\r\n",
      "-rw-r--r-- 1 dsc dsc      4268 nov  8  2015 914310910_T_T100_SEGMENT_ALL_CARRIER_Terms.csv\r\n",
      "-rwxr-x--- 1 dsc dsc 554970628 mar 13  2018 \u001b[0m\u001b[01;32mbookings.csv.bz2\u001b[0m*\r\n",
      "-rw-r--r-- 1 dsc dsc   4232732 feb  4 22:35 bookings_sample.csv\r\n",
      "-rw-r--r-- 1 dsc dsc    535893 feb  4 22:23 \u001b[01;31mbookings_sample.csv.bz2\u001b[0m\r\n",
      "-rw-r--r-- 1 dsc dsc       429 ene 30 02:31 CAN.csv\r\n",
      "-rw-r--r-- 1 dsc dsc     11342 ene 11 00:46 Ejercicios_INTRO_PYTHON.ipynb\r\n",
      "-rw-r--r-- 1 dsc dsc      7369 ene 29 03:26 Ejercicios_NUMPY.ipynb\r\n",
      "-rw-r--r-- 1 dsc dsc    121508 ene 30 03:56 Ejercicios_PANDAS.ipynb\r\n",
      "-rw-r--r-- 1 dsc dsc  62832640 ene 30 03:41 example.db\r\n",
      "-rw-r--r-- 1 dsc dsc     44858 ene  5 01:00 INTRO_PYTHON.ipynb\r\n",
      "-rw-r--r-- 1 dsc dsc    342091 ene 25 03:51 MATPLOTLIB.ipynb\r\n",
      "-rw-r--r-- 1 dsc dsc     39747 ene 24 03:40 NUMPY.ipynb\r\n",
      "-rw-r--r-- 1 dsc dsc    120832 ene 30 03:38 out.xls\r\n",
      "-rw-r--r-- 1 dsc dsc   1159134 ene 30 03:55 out.xlsx\r\n",
      "-rw-r--r-- 1 dsc dsc    113596 ene 24 03:39 PANDAS_2.ipynb\r\n",
      "-rw-r--r-- 1 dsc dsc    161976 ene 24 03:39 PANDAS.ipynb\r\n",
      "-rw-r--r-- 1 dsc dsc      2540 ene 30 03:57 README.md\r\n",
      "-rwxr-x--- 1 dsc dsc 483188920 mar 13  2018 \u001b[01;32msearches.csv.bz2\u001b[0m*\r\n",
      "-rwxr-x--- 1 dsc dsc   5709455 ene 30 02:01 \u001b[01;32mT100_SEGMENT_ALL_CARRIER_2015.zip\u001b[0m*\r\n"
     ]
    }
   ],
   "source": [
    "ls -l"
   ]
  },
  {
   "cell_type": "markdown",
   "metadata": {},
   "source": [
    "Primermente sacaremos una muestra del archivo:"
   ]
  },
  {
   "cell_type": "code",
   "execution_count": 52,
   "metadata": {
    "scrolled": true
   },
   "outputs": [
    {
     "name": "stdout",
     "output_type": "stream",
     "text": [
      "\r\n",
      "bzcat: I/O or other error, bailing out.  Possible reason follows.\r\n",
      "bzcat: Broken pipe\r\n",
      "\tInput file = bookings.csv.bz2, output file = (stdout)\r\n"
     ]
    }
   ],
   "source": [
    "!bzcat bookings.csv.bz2 | head -n 10000 > bookings_sample.csv"
   ]
  },
  {
   "cell_type": "code",
   "execution_count": 140,
   "metadata": {},
   "outputs": [
    {
     "name": "stdout",
     "output_type": "stream",
     "text": [
      "\r\n",
      "bzcat: I/O or other error, bailing out.  Possible reason follows.\r\n",
      "bzcat: Broken pipe\r\n",
      "\tInput file = searches.csv.bz2, output file = (stdout)\r\n"
     ]
    }
   ],
   "source": [
    "!bzcat searches.csv.bz2 | head -n 10000 > searches_sample.csv"
   ]
  },
  {
   "cell_type": "code",
   "execution_count": 37,
   "metadata": {},
   "outputs": [],
   "source": [
    "!bzip2 bookings_sample.csv"
   ]
  },
  {
   "cell_type": "code",
   "execution_count": 141,
   "metadata": {},
   "outputs": [],
   "source": [
    "!bzip2 searches_sample.csv"
   ]
  },
  {
   "cell_type": "code",
   "execution_count": 142,
   "metadata": {},
   "outputs": [
    {
     "name": "stdout",
     "output_type": "stream",
     "text": [
      "total 1190244\r\n",
      "-rw-r--r-- 1 dsc dsc  53252030 feb 13  2018 210104-180-multas-circulacion-detalle.csv\r\n",
      "-rw-r--r-- 1 dsc dsc  51575427 nov  8  2015 914310910_T_T100_SEGMENT_ALL_CARRIER_2015_All.csv\r\n",
      "-rw-r--r-- 1 dsc dsc      4341 nov  8  2015 914310910_T_T100_SEGMENT_ALL_CARRIER_ReadMe.csv\r\n",
      "-rw-r--r-- 1 dsc dsc      4268 nov  8  2015 914310910_T_T100_SEGMENT_ALL_CARRIER_Terms.csv\r\n",
      "-rw-r--r-- 1 dsc dsc     80147 feb  6 02:38 airports_pax.csv\r\n",
      "-rwxr-x--- 1 dsc dsc 554970628 mar 13  2018 \u001b[0m\u001b[01;32mbookings.csv.bz2\u001b[0m*\r\n",
      "-rw-r--r-- 1 dsc dsc   4232732 feb  4 22:35 bookings_sample.csv\r\n",
      "-rw-r--r-- 1 dsc dsc    535893 feb  4 22:23 \u001b[01;31mbookings_sample.csv.bz2\u001b[0m\r\n",
      "-rw-r--r-- 1 dsc dsc       429 ene 30 02:31 CAN.csv\r\n",
      "-rw-r--r-- 1 dsc dsc     11342 ene 11 00:46 Ejercicios_INTRO_PYTHON.ipynb\r\n",
      "-rw-r--r-- 1 dsc dsc      7369 ene 29 03:26 Ejercicios_NUMPY.ipynb\r\n",
      "-rw-r--r-- 1 dsc dsc    121508 ene 30 03:56 Ejercicios_PANDAS.ipynb\r\n",
      "-rw-r--r-- 1 dsc dsc  62832640 ene 30 03:41 example.db\r\n",
      "-rw-r--r-- 1 dsc dsc     44858 ene  5 01:00 INTRO_PYTHON.ipynb\r\n",
      "-rw-r--r-- 1 dsc dsc    342091 ene 25 03:51 MATPLOTLIB.ipynb\r\n",
      "-rw-r--r-- 1 dsc dsc     39747 ene 24 03:40 NUMPY.ipynb\r\n",
      "-rw-r--r-- 1 dsc dsc    120832 ene 30 03:38 out.xls\r\n",
      "-rw-r--r-- 1 dsc dsc   1159134 ene 30 03:55 out.xlsx\r\n",
      "-rw-r--r-- 1 dsc dsc    113596 ene 24 03:39 PANDAS_2.ipynb\r\n",
      "-rw-r--r-- 1 dsc dsc    161976 ene 24 03:39 PANDAS.ipynb\r\n",
      "-rw-r--r-- 1 dsc dsc      2540 ene 30 03:57 README.md\r\n",
      "-rwxr-x--- 1 dsc dsc 483188920 mar 13  2018 \u001b[01;32msearches.csv.bz2\u001b[0m*\r\n",
      "-rw-r--r-- 1 dsc dsc    244720 feb  6 03:29 \u001b[01;31msearches_sample.csv.bz2\u001b[0m\r\n",
      "-rwxr-x--- 1 dsc dsc   5709455 ene 30 02:01 \u001b[01;32mT100_SEGMENT_ALL_CARRIER_2015.zip\u001b[0m*\r\n"
     ]
    }
   ],
   "source": [
    "ls -l"
   ]
  },
  {
   "cell_type": "markdown",
   "metadata": {},
   "source": [
    "Opciones:\n",
    "    \n",
    "    - Sin descomprimir\n",
    "    - Usar parte del archivo sin comprimir"
   ]
  },
  {
   "cell_type": "markdown",
   "metadata": {},
   "source": [
    "**a)**"
   ]
  },
  {
   "cell_type": "code",
   "execution_count": 39,
   "metadata": {},
   "outputs": [],
   "source": [
    "import bz2"
   ]
  },
  {
   "cell_type": "code",
   "execution_count": 47,
   "metadata": {},
   "outputs": [],
   "source": [
    "filename = './bookings_sample.csv.bz2'\n",
    "fileBZ2=bz2.BZ2File(filename)"
   ]
  },
  {
   "cell_type": "code",
   "execution_count": 48,
   "metadata": {},
   "outputs": [
    {
     "name": "stdout",
     "output_type": "stream",
     "text": [
      "10000\n"
     ]
    }
   ],
   "source": [
    "k = 0\n",
    "for line in fileBZ2:\n",
    "    k+=1\n",
    "print (k)"
   ]
  },
  {
   "cell_type": "markdown",
   "metadata": {},
   "source": [
    "**b)**"
   ]
  },
  {
   "cell_type": "code",
   "execution_count": 53,
   "metadata": {},
   "outputs": [
    {
     "name": "stdout",
     "output_type": "stream",
     "text": [
      "10000\n"
     ]
    }
   ],
   "source": [
    "filename = './bookings_sample.csv'\n",
    "with open(filename, \"r\") as file_input:\n",
    "    k=0\n",
    "    for line in file_input:\n",
    "        k+=1\n",
    "print (k)"
   ]
  },
  {
   "cell_type": "code",
   "execution_count": 54,
   "metadata": {},
   "outputs": [
    {
     "data": {
      "text/plain": [
       "True"
      ]
     },
     "execution_count": 54,
     "metadata": {},
     "output_type": "execute_result"
    }
   ],
   "source": [
    "file_input.closed"
   ]
  },
  {
   "cell_type": "markdown",
   "metadata": {},
   "source": [
    "**or**"
   ]
  },
  {
   "cell_type": "code",
   "execution_count": 55,
   "metadata": {},
   "outputs": [
    {
     "name": "stdout",
     "output_type": "stream",
     "text": [
      "10000\n"
     ]
    }
   ],
   "source": [
    "filename = './bookings_sample.csv'\n",
    "with open(filename,'r') as file_input:\n",
    "    lines = sum( [1 for row in file_input] )\n",
    "print (lines)"
   ]
  },
  {
   "cell_type": "markdown",
   "metadata": {},
   "source": [
    "**¿Qué pasa si el archivo no existe? Utilice Try-except ...**"
   ]
  },
  {
   "cell_type": "code",
   "execution_count": 56,
   "metadata": {},
   "outputs": [
    {
     "name": "stdout",
     "output_type": "stream",
     "text": [
      "10000\n"
     ]
    }
   ],
   "source": [
    "filename = './bookings_sample.csv'\n",
    "try:\n",
    "    with open(filename,'r') as file_input:\n",
    "        lines = sum( [1 for row in file_input] )\n",
    "    print (lines)\n",
    "except IOError:\n",
    "    print (\"Error. Archivo no se puede abrir\")\n",
    "except ValueError:\n",
    "    print (\"No puede convertir a integer\")\n",
    "except:\n",
    "    print (\"Error desconocido\")"
   ]
  },
  {
   "cell_type": "markdown",
   "metadata": {},
   "source": [
    "## Ejercicio 2"
   ]
  },
  {
   "cell_type": "markdown",
   "metadata": {},
   "source": [
    "### Top 10 aeropuertos de llegada del mundo en 2013 (utilizando el archivo de reservas)"
   ]
  },
  {
   "cell_type": "markdown",
   "metadata": {},
   "source": [
    "El aeropuerto de llegada es la columna arr_port.\n",
    "\n",
    "Para obtener el número total de pasajeros para un aeropuerto, puede sumar la columna \"pax\", agrupando por arr_port.\n",
    "\n",
    "Tenga en cuenta que hay \"pax\" negativo. Eso corresponde a las cancelaciones. Entonces, para obtener el número total de pasajeros que realmente han reservado, debe sumar los negativos (que eliminarán las reservas canceladas).\n",
    "\n",
    "Imprima los 10 principales aeropuertos de llegada en la salida estándar, incluido el número de pasajeros.\n",
    "\n",
    "Punto de bonificación: obtenga el nombre de la ciudad o el aeropuerto correspondiente a ese aeropuerto (programáticamente, sugerimos echar un vistazo a GeoBases en Github)\n",
    "\n",
    "Punto extra: resuelva este problema utilizando pandas (en lugar de cualquier otro enfoque)"
   ]
  },
  {
   "cell_type": "markdown",
   "metadata": {},
   "source": [
    "**Pasos a seguir**"
   ]
  },
  {
   "cell_type": "markdown",
   "metadata": {},
   "source": [
    "**1) Familiarizate con los datos**"
   ]
  },
  {
   "cell_type": "markdown",
   "metadata": {},
   "source": [
    "**¿Qué pasa si no queremos leer todo el archivo?**"
   ]
  },
  {
   "cell_type": "markdown",
   "metadata": {},
   "source": [
    "1) preparar la muestra\n",
    "\n",
    "2) read_csv con la opción \"nrows\""
   ]
  },
  {
   "cell_type": "code",
   "execution_count": 57,
   "metadata": {},
   "outputs": [],
   "source": [
    "import pandas as pd"
   ]
  },
  {
   "cell_type": "code",
   "execution_count": 58,
   "metadata": {},
   "outputs": [],
   "source": [
    "file = pd.read_csv('bookings_sample.csv.bz2',sep = '^')"
   ]
  },
  {
   "cell_type": "markdown",
   "metadata": {},
   "source": [
    "**or**"
   ]
  },
  {
   "cell_type": "code",
   "execution_count": 59,
   "metadata": {},
   "outputs": [],
   "source": [
    "file = pd.read_csv('bookings.csv.bz2',sep = '^',nrows = 10000)"
   ]
  },
  {
   "cell_type": "code",
   "execution_count": 60,
   "metadata": {},
   "outputs": [
    {
     "data": {
      "text/html": [
       "<div>\n",
       "<style scoped>\n",
       "    .dataframe tbody tr th:only-of-type {\n",
       "        vertical-align: middle;\n",
       "    }\n",
       "\n",
       "    .dataframe tbody tr th {\n",
       "        vertical-align: top;\n",
       "    }\n",
       "\n",
       "    .dataframe thead th {\n",
       "        text-align: right;\n",
       "    }\n",
       "</style>\n",
       "<table border=\"1\" class=\"dataframe\">\n",
       "  <thead>\n",
       "    <tr style=\"text-align: right;\">\n",
       "      <th></th>\n",
       "      <th>act_date</th>\n",
       "      <th>source</th>\n",
       "      <th>pos_ctry</th>\n",
       "      <th>pos_iata</th>\n",
       "      <th>pos_oid</th>\n",
       "      <th>rloc</th>\n",
       "      <th>cre_date</th>\n",
       "      <th>duration</th>\n",
       "      <th>distance</th>\n",
       "      <th>dep_port</th>\n",
       "      <th>dep_city</th>\n",
       "      <th>dep_ctry</th>\n",
       "      <th>arr_port</th>\n",
       "      <th>arr_city</th>\n",
       "      <th>arr_ctry</th>\n",
       "      <th>lst_port</th>\n",
       "      <th>lst_city</th>\n",
       "      <th>lst_ctry</th>\n",
       "      <th>brd_port</th>\n",
       "      <th>brd_city</th>\n",
       "      <th>brd_ctry</th>\n",
       "      <th>off_port</th>\n",
       "      <th>off_city</th>\n",
       "      <th>off_ctry</th>\n",
       "      <th>mkt_port</th>\n",
       "      <th>mkt_city</th>\n",
       "      <th>mkt_ctry</th>\n",
       "      <th>intl</th>\n",
       "      <th>route</th>\n",
       "      <th>carrier</th>\n",
       "      <th>bkg_class</th>\n",
       "      <th>cab_class</th>\n",
       "      <th>brd_time</th>\n",
       "      <th>off_time</th>\n",
       "      <th>pax</th>\n",
       "      <th>year</th>\n",
       "      <th>month</th>\n",
       "      <th>oid</th>\n",
       "    </tr>\n",
       "  </thead>\n",
       "  <tbody>\n",
       "    <tr>\n",
       "      <th>0</th>\n",
       "      <td>2013-03-05 00:00:00</td>\n",
       "      <td>1A</td>\n",
       "      <td>DE</td>\n",
       "      <td>a68dd7ae953c8acfb187a1af2dcbe123</td>\n",
       "      <td>1a11ae49fcbf545fd2afc1a24d88d2b7</td>\n",
       "      <td>ea65900e72d71f4626378e2ebd298267</td>\n",
       "      <td>2013-02-22 00:00:00</td>\n",
       "      <td>1708</td>\n",
       "      <td>0</td>\n",
       "      <td>ZRH</td>\n",
       "      <td>ZRH</td>\n",
       "      <td>CH</td>\n",
       "      <td>LHR</td>\n",
       "      <td>LON</td>\n",
       "      <td>GB</td>\n",
       "      <td>ZRH</td>\n",
       "      <td>ZRH</td>\n",
       "      <td>CH</td>\n",
       "      <td>LHR</td>\n",
       "      <td>LON</td>\n",
       "      <td>GB</td>\n",
       "      <td>ZRH</td>\n",
       "      <td>ZRH</td>\n",
       "      <td>CH</td>\n",
       "      <td>LHRZRH</td>\n",
       "      <td>LONZRH</td>\n",
       "      <td>CHGB</td>\n",
       "      <td>1</td>\n",
       "      <td>LHRZRH</td>\n",
       "      <td>VI</td>\n",
       "      <td>T</td>\n",
       "      <td>Y</td>\n",
       "      <td>2013-03-07 08:50:00</td>\n",
       "      <td>2013-03-07 11:33:37</td>\n",
       "      <td>-1</td>\n",
       "      <td>2013</td>\n",
       "      <td>3</td>\n",
       "      <td>NULL</td>\n",
       "    </tr>\n",
       "    <tr>\n",
       "      <th>1</th>\n",
       "      <td>2013-03-26 00:00:00</td>\n",
       "      <td>1A</td>\n",
       "      <td>US</td>\n",
       "      <td>e612b9eeeee6f17f42d9b0d3b79e75ca</td>\n",
       "      <td>7437560d8f276d6d05eeb806d9e7edee</td>\n",
       "      <td>737295a86982c941f1c2da9a46a14043</td>\n",
       "      <td>2013-03-26 00:00:00</td>\n",
       "      <td>135270</td>\n",
       "      <td>0</td>\n",
       "      <td>SAL</td>\n",
       "      <td>SAL</td>\n",
       "      <td>SV</td>\n",
       "      <td>CLT</td>\n",
       "      <td>CLT</td>\n",
       "      <td>US</td>\n",
       "      <td>SAL</td>\n",
       "      <td>SAL</td>\n",
       "      <td>SV</td>\n",
       "      <td>SAL</td>\n",
       "      <td>SAL</td>\n",
       "      <td>SV</td>\n",
       "      <td>CLT</td>\n",
       "      <td>CLT</td>\n",
       "      <td>US</td>\n",
       "      <td>CLTSAL</td>\n",
       "      <td>CLTSAL</td>\n",
       "      <td>SVUS</td>\n",
       "      <td>1</td>\n",
       "      <td>SALATLCLT</td>\n",
       "      <td>NV</td>\n",
       "      <td>L</td>\n",
       "      <td>Y</td>\n",
       "      <td>2013-04-12 13:04:00</td>\n",
       "      <td>2013-04-12 22:05:40</td>\n",
       "      <td>1</td>\n",
       "      <td>2013</td>\n",
       "      <td>3</td>\n",
       "      <td>NULL</td>\n",
       "    </tr>\n",
       "    <tr>\n",
       "      <th>2</th>\n",
       "      <td>2013-03-26 00:00:00</td>\n",
       "      <td>1A</td>\n",
       "      <td>US</td>\n",
       "      <td>e612b9eeeee6f17f42d9b0d3b79e75ca</td>\n",
       "      <td>7437560d8f276d6d05eeb806d9e7edee</td>\n",
       "      <td>737295a86982c941f1c2da9a46a14043</td>\n",
       "      <td>2013-03-26 00:00:00</td>\n",
       "      <td>135270</td>\n",
       "      <td>0</td>\n",
       "      <td>SAL</td>\n",
       "      <td>SAL</td>\n",
       "      <td>SV</td>\n",
       "      <td>CLT</td>\n",
       "      <td>CLT</td>\n",
       "      <td>US</td>\n",
       "      <td>SAL</td>\n",
       "      <td>SAL</td>\n",
       "      <td>SV</td>\n",
       "      <td>CLT</td>\n",
       "      <td>CLT</td>\n",
       "      <td>US</td>\n",
       "      <td>SAL</td>\n",
       "      <td>SAL</td>\n",
       "      <td>SV</td>\n",
       "      <td>CLTSAL</td>\n",
       "      <td>CLTSAL</td>\n",
       "      <td>SVUS</td>\n",
       "      <td>1</td>\n",
       "      <td>CLTATLSAL</td>\n",
       "      <td>NV</td>\n",
       "      <td>U</td>\n",
       "      <td>Y</td>\n",
       "      <td>2013-07-15 07:00:00</td>\n",
       "      <td>2013-07-15 11:34:51</td>\n",
       "      <td>1</td>\n",
       "      <td>2013</td>\n",
       "      <td>3</td>\n",
       "      <td>NULL</td>\n",
       "    </tr>\n",
       "    <tr>\n",
       "      <th>3</th>\n",
       "      <td>2013-03-26 00:00:00</td>\n",
       "      <td>1A</td>\n",
       "      <td>AU</td>\n",
       "      <td>0f984b3bb6bd06661c95529bbd6193bc</td>\n",
       "      <td>36472c6dbaf7afec9136ac40364e2794</td>\n",
       "      <td>5ecf00fdcbcec761c43dc7285253d0c1</td>\n",
       "      <td>2013-03-26 00:00:00</td>\n",
       "      <td>30885</td>\n",
       "      <td>0</td>\n",
       "      <td>AKL</td>\n",
       "      <td>AKL</td>\n",
       "      <td>NZ</td>\n",
       "      <td>SVO</td>\n",
       "      <td>MOW</td>\n",
       "      <td>RU</td>\n",
       "      <td>AKL</td>\n",
       "      <td>AKL</td>\n",
       "      <td>NZ</td>\n",
       "      <td>AKL</td>\n",
       "      <td>AKL</td>\n",
       "      <td>NZ</td>\n",
       "      <td>SVO</td>\n",
       "      <td>MOW</td>\n",
       "      <td>RU</td>\n",
       "      <td>AKLSVO</td>\n",
       "      <td>AKLMOW</td>\n",
       "      <td>NZRU</td>\n",
       "      <td>1</td>\n",
       "      <td>AKLHKGSVO</td>\n",
       "      <td>XK</td>\n",
       "      <td>G</td>\n",
       "      <td>Y</td>\n",
       "      <td>2013-04-24 23:59:00</td>\n",
       "      <td>2013-04-25 16:06:31</td>\n",
       "      <td>1</td>\n",
       "      <td>2013</td>\n",
       "      <td>3</td>\n",
       "      <td>SYDA82546</td>\n",
       "    </tr>\n",
       "    <tr>\n",
       "      <th>4</th>\n",
       "      <td>2013-03-26 00:00:00</td>\n",
       "      <td>1A</td>\n",
       "      <td>AU</td>\n",
       "      <td>0f984b3bb6bd06661c95529bbd6193bc</td>\n",
       "      <td>36472c6dbaf7afec9136ac40364e2794</td>\n",
       "      <td>5ecf00fdcbcec761c43dc7285253d0c1</td>\n",
       "      <td>2013-03-26 00:00:00</td>\n",
       "      <td>30885</td>\n",
       "      <td>0</td>\n",
       "      <td>AKL</td>\n",
       "      <td>AKL</td>\n",
       "      <td>NZ</td>\n",
       "      <td>SVO</td>\n",
       "      <td>MOW</td>\n",
       "      <td>RU</td>\n",
       "      <td>AKL</td>\n",
       "      <td>AKL</td>\n",
       "      <td>NZ</td>\n",
       "      <td>SVO</td>\n",
       "      <td>MOW</td>\n",
       "      <td>RU</td>\n",
       "      <td>AKL</td>\n",
       "      <td>AKL</td>\n",
       "      <td>NZ</td>\n",
       "      <td>AKLSVO</td>\n",
       "      <td>AKLMOW</td>\n",
       "      <td>NZRU</td>\n",
       "      <td>1</td>\n",
       "      <td>SVOHKGAKL</td>\n",
       "      <td>XK</td>\n",
       "      <td>G</td>\n",
       "      <td>Y</td>\n",
       "      <td>2013-05-14 20:15:00</td>\n",
       "      <td>2013-05-16 10:44:50</td>\n",
       "      <td>1</td>\n",
       "      <td>2013</td>\n",
       "      <td>3</td>\n",
       "      <td>SYDA82546</td>\n",
       "    </tr>\n",
       "  </tbody>\n",
       "</table>\n",
       "</div>"
      ],
      "text/plain": [
       "   act_date             source  pos_ctry                          pos_iata  \\\n",
       "0  2013-03-05 00:00:00  1A      DE        a68dd7ae953c8acfb187a1af2dcbe123   \n",
       "1  2013-03-26 00:00:00  1A      US        e612b9eeeee6f17f42d9b0d3b79e75ca   \n",
       "2  2013-03-26 00:00:00  1A      US        e612b9eeeee6f17f42d9b0d3b79e75ca   \n",
       "3  2013-03-26 00:00:00  1A      AU        0f984b3bb6bd06661c95529bbd6193bc   \n",
       "4  2013-03-26 00:00:00  1A      AU        0f984b3bb6bd06661c95529bbd6193bc   \n",
       "\n",
       "                          pos_oid                      rloc            \\\n",
       "0  1a11ae49fcbf545fd2afc1a24d88d2b7  ea65900e72d71f4626378e2ebd298267   \n",
       "1  7437560d8f276d6d05eeb806d9e7edee  737295a86982c941f1c2da9a46a14043   \n",
       "2  7437560d8f276d6d05eeb806d9e7edee  737295a86982c941f1c2da9a46a14043   \n",
       "3  36472c6dbaf7afec9136ac40364e2794  5ecf00fdcbcec761c43dc7285253d0c1   \n",
       "4  36472c6dbaf7afec9136ac40364e2794  5ecf00fdcbcec761c43dc7285253d0c1   \n",
       "\n",
       "   cre_date             duration  distance  dep_port  dep_city  dep_ctry  \\\n",
       "0  2013-02-22 00:00:00      1708         0  ZRH       ZRH       CH         \n",
       "1  2013-03-26 00:00:00    135270         0  SAL       SAL       SV         \n",
       "2  2013-03-26 00:00:00    135270         0  SAL       SAL       SV         \n",
       "3  2013-03-26 00:00:00     30885         0  AKL       AKL       NZ         \n",
       "4  2013-03-26 00:00:00     30885         0  AKL       AKL       NZ         \n",
       "\n",
       "   arr_port  arr_city  arr_ctry  lst_port  lst_city  lst_ctry  brd_port  \\\n",
       "0  LHR       LON       GB        ZRH       ZRH       CH        LHR        \n",
       "1  CLT       CLT       US        SAL       SAL       SV        SAL        \n",
       "2  CLT       CLT       US        SAL       SAL       SV        CLT        \n",
       "3  SVO       MOW       RU        AKL       AKL       NZ        AKL        \n",
       "4  SVO       MOW       RU        AKL       AKL       NZ        SVO        \n",
       "\n",
       "   brd_city  brd_ctry  off_port  off_city  off_ctry  mkt_port  mkt_city  \\\n",
       "0  LON       GB        ZRH       ZRH       CH        LHRZRH    LONZRH     \n",
       "1  SAL       SV        CLT       CLT       US        CLTSAL    CLTSAL     \n",
       "2  CLT       US        SAL       SAL       SV        CLTSAL    CLTSAL     \n",
       "3  AKL       NZ        SVO       MOW       RU        AKLSVO    AKLMOW     \n",
       "4  MOW       RU        AKL       AKL       NZ        AKLSVO    AKLMOW     \n",
       "\n",
       "   mkt_ctry  intl  route           carrier  bkg_class  cab_class  \\\n",
       "0  CHGB         1  LHRZRH               VI  T          Y           \n",
       "1  SVUS         1  SALATLCLT            NV  L          Y           \n",
       "2  SVUS         1  CLTATLSAL            NV  U          Y           \n",
       "3  NZRU         1  AKLHKGSVO            XK  G          Y           \n",
       "4  NZRU         1  SVOHKGAKL            XK  G          Y           \n",
       "\n",
       "   brd_time             off_time             pax  year  month  oid        \n",
       "0  2013-03-07 08:50:00  2013-03-07 11:33:37   -1  2013      3  NULL       \n",
       "1  2013-04-12 13:04:00  2013-04-12 22:05:40    1  2013      3  NULL       \n",
       "2  2013-07-15 07:00:00  2013-07-15 11:34:51    1  2013      3  NULL       \n",
       "3  2013-04-24 23:59:00  2013-04-25 16:06:31    1  2013      3  SYDA82546  \n",
       "4  2013-05-14 20:15:00  2013-05-16 10:44:50    1  2013      3  SYDA82546  "
      ]
     },
     "execution_count": 60,
     "metadata": {},
     "output_type": "execute_result"
    }
   ],
   "source": [
    "file.head()"
   ]
  },
  {
   "cell_type": "code",
   "execution_count": 61,
   "metadata": {},
   "outputs": [],
   "source": [
    "pd.set_option('display.max_columns',100) #Con esta opción definimos el número de columnas visibles"
   ]
  },
  {
   "cell_type": "code",
   "execution_count": 62,
   "metadata": {},
   "outputs": [],
   "source": [
    "pd.set_option('display.max_columns', None)"
   ]
  },
  {
   "cell_type": "code",
   "execution_count": 63,
   "metadata": {},
   "outputs": [
    {
     "data": {
      "text/html": [
       "<div>\n",
       "<style scoped>\n",
       "    .dataframe tbody tr th:only-of-type {\n",
       "        vertical-align: middle;\n",
       "    }\n",
       "\n",
       "    .dataframe tbody tr th {\n",
       "        vertical-align: top;\n",
       "    }\n",
       "\n",
       "    .dataframe thead th {\n",
       "        text-align: right;\n",
       "    }\n",
       "</style>\n",
       "<table border=\"1\" class=\"dataframe\">\n",
       "  <thead>\n",
       "    <tr style=\"text-align: right;\">\n",
       "      <th></th>\n",
       "      <th>act_date</th>\n",
       "      <th>source</th>\n",
       "      <th>pos_ctry</th>\n",
       "      <th>pos_iata</th>\n",
       "      <th>pos_oid</th>\n",
       "      <th>rloc</th>\n",
       "      <th>cre_date</th>\n",
       "      <th>duration</th>\n",
       "      <th>distance</th>\n",
       "      <th>dep_port</th>\n",
       "      <th>dep_city</th>\n",
       "      <th>dep_ctry</th>\n",
       "      <th>arr_port</th>\n",
       "      <th>arr_city</th>\n",
       "      <th>arr_ctry</th>\n",
       "      <th>lst_port</th>\n",
       "      <th>lst_city</th>\n",
       "      <th>lst_ctry</th>\n",
       "      <th>brd_port</th>\n",
       "      <th>brd_city</th>\n",
       "      <th>brd_ctry</th>\n",
       "      <th>off_port</th>\n",
       "      <th>off_city</th>\n",
       "      <th>off_ctry</th>\n",
       "      <th>mkt_port</th>\n",
       "      <th>mkt_city</th>\n",
       "      <th>mkt_ctry</th>\n",
       "      <th>intl</th>\n",
       "      <th>route</th>\n",
       "      <th>carrier</th>\n",
       "      <th>bkg_class</th>\n",
       "      <th>cab_class</th>\n",
       "      <th>brd_time</th>\n",
       "      <th>off_time</th>\n",
       "      <th>pax</th>\n",
       "      <th>year</th>\n",
       "      <th>month</th>\n",
       "      <th>oid</th>\n",
       "    </tr>\n",
       "  </thead>\n",
       "  <tbody>\n",
       "    <tr>\n",
       "      <th>0</th>\n",
       "      <td>2013-03-05 00:00:00</td>\n",
       "      <td>1A</td>\n",
       "      <td>DE</td>\n",
       "      <td>a68dd7ae953c8acfb187a1af2dcbe123</td>\n",
       "      <td>1a11ae49fcbf545fd2afc1a24d88d2b7</td>\n",
       "      <td>ea65900e72d71f4626378e2ebd298267</td>\n",
       "      <td>2013-02-22 00:00:00</td>\n",
       "      <td>1708</td>\n",
       "      <td>0</td>\n",
       "      <td>ZRH</td>\n",
       "      <td>ZRH</td>\n",
       "      <td>CH</td>\n",
       "      <td>LHR</td>\n",
       "      <td>LON</td>\n",
       "      <td>GB</td>\n",
       "      <td>ZRH</td>\n",
       "      <td>ZRH</td>\n",
       "      <td>CH</td>\n",
       "      <td>LHR</td>\n",
       "      <td>LON</td>\n",
       "      <td>GB</td>\n",
       "      <td>ZRH</td>\n",
       "      <td>ZRH</td>\n",
       "      <td>CH</td>\n",
       "      <td>LHRZRH</td>\n",
       "      <td>LONZRH</td>\n",
       "      <td>CHGB</td>\n",
       "      <td>1</td>\n",
       "      <td>LHRZRH</td>\n",
       "      <td>VI</td>\n",
       "      <td>T</td>\n",
       "      <td>Y</td>\n",
       "      <td>2013-03-07 08:50:00</td>\n",
       "      <td>2013-03-07 11:33:37</td>\n",
       "      <td>-1</td>\n",
       "      <td>2013</td>\n",
       "      <td>3</td>\n",
       "      <td>NULL</td>\n",
       "    </tr>\n",
       "    <tr>\n",
       "      <th>1</th>\n",
       "      <td>2013-03-26 00:00:00</td>\n",
       "      <td>1A</td>\n",
       "      <td>US</td>\n",
       "      <td>e612b9eeeee6f17f42d9b0d3b79e75ca</td>\n",
       "      <td>7437560d8f276d6d05eeb806d9e7edee</td>\n",
       "      <td>737295a86982c941f1c2da9a46a14043</td>\n",
       "      <td>2013-03-26 00:00:00</td>\n",
       "      <td>135270</td>\n",
       "      <td>0</td>\n",
       "      <td>SAL</td>\n",
       "      <td>SAL</td>\n",
       "      <td>SV</td>\n",
       "      <td>CLT</td>\n",
       "      <td>CLT</td>\n",
       "      <td>US</td>\n",
       "      <td>SAL</td>\n",
       "      <td>SAL</td>\n",
       "      <td>SV</td>\n",
       "      <td>SAL</td>\n",
       "      <td>SAL</td>\n",
       "      <td>SV</td>\n",
       "      <td>CLT</td>\n",
       "      <td>CLT</td>\n",
       "      <td>US</td>\n",
       "      <td>CLTSAL</td>\n",
       "      <td>CLTSAL</td>\n",
       "      <td>SVUS</td>\n",
       "      <td>1</td>\n",
       "      <td>SALATLCLT</td>\n",
       "      <td>NV</td>\n",
       "      <td>L</td>\n",
       "      <td>Y</td>\n",
       "      <td>2013-04-12 13:04:00</td>\n",
       "      <td>2013-04-12 22:05:40</td>\n",
       "      <td>1</td>\n",
       "      <td>2013</td>\n",
       "      <td>3</td>\n",
       "      <td>NULL</td>\n",
       "    </tr>\n",
       "    <tr>\n",
       "      <th>2</th>\n",
       "      <td>2013-03-26 00:00:00</td>\n",
       "      <td>1A</td>\n",
       "      <td>US</td>\n",
       "      <td>e612b9eeeee6f17f42d9b0d3b79e75ca</td>\n",
       "      <td>7437560d8f276d6d05eeb806d9e7edee</td>\n",
       "      <td>737295a86982c941f1c2da9a46a14043</td>\n",
       "      <td>2013-03-26 00:00:00</td>\n",
       "      <td>135270</td>\n",
       "      <td>0</td>\n",
       "      <td>SAL</td>\n",
       "      <td>SAL</td>\n",
       "      <td>SV</td>\n",
       "      <td>CLT</td>\n",
       "      <td>CLT</td>\n",
       "      <td>US</td>\n",
       "      <td>SAL</td>\n",
       "      <td>SAL</td>\n",
       "      <td>SV</td>\n",
       "      <td>CLT</td>\n",
       "      <td>CLT</td>\n",
       "      <td>US</td>\n",
       "      <td>SAL</td>\n",
       "      <td>SAL</td>\n",
       "      <td>SV</td>\n",
       "      <td>CLTSAL</td>\n",
       "      <td>CLTSAL</td>\n",
       "      <td>SVUS</td>\n",
       "      <td>1</td>\n",
       "      <td>CLTATLSAL</td>\n",
       "      <td>NV</td>\n",
       "      <td>U</td>\n",
       "      <td>Y</td>\n",
       "      <td>2013-07-15 07:00:00</td>\n",
       "      <td>2013-07-15 11:34:51</td>\n",
       "      <td>1</td>\n",
       "      <td>2013</td>\n",
       "      <td>3</td>\n",
       "      <td>NULL</td>\n",
       "    </tr>\n",
       "    <tr>\n",
       "      <th>3</th>\n",
       "      <td>2013-03-26 00:00:00</td>\n",
       "      <td>1A</td>\n",
       "      <td>AU</td>\n",
       "      <td>0f984b3bb6bd06661c95529bbd6193bc</td>\n",
       "      <td>36472c6dbaf7afec9136ac40364e2794</td>\n",
       "      <td>5ecf00fdcbcec761c43dc7285253d0c1</td>\n",
       "      <td>2013-03-26 00:00:00</td>\n",
       "      <td>30885</td>\n",
       "      <td>0</td>\n",
       "      <td>AKL</td>\n",
       "      <td>AKL</td>\n",
       "      <td>NZ</td>\n",
       "      <td>SVO</td>\n",
       "      <td>MOW</td>\n",
       "      <td>RU</td>\n",
       "      <td>AKL</td>\n",
       "      <td>AKL</td>\n",
       "      <td>NZ</td>\n",
       "      <td>AKL</td>\n",
       "      <td>AKL</td>\n",
       "      <td>NZ</td>\n",
       "      <td>SVO</td>\n",
       "      <td>MOW</td>\n",
       "      <td>RU</td>\n",
       "      <td>AKLSVO</td>\n",
       "      <td>AKLMOW</td>\n",
       "      <td>NZRU</td>\n",
       "      <td>1</td>\n",
       "      <td>AKLHKGSVO</td>\n",
       "      <td>XK</td>\n",
       "      <td>G</td>\n",
       "      <td>Y</td>\n",
       "      <td>2013-04-24 23:59:00</td>\n",
       "      <td>2013-04-25 16:06:31</td>\n",
       "      <td>1</td>\n",
       "      <td>2013</td>\n",
       "      <td>3</td>\n",
       "      <td>SYDA82546</td>\n",
       "    </tr>\n",
       "    <tr>\n",
       "      <th>4</th>\n",
       "      <td>2013-03-26 00:00:00</td>\n",
       "      <td>1A</td>\n",
       "      <td>AU</td>\n",
       "      <td>0f984b3bb6bd06661c95529bbd6193bc</td>\n",
       "      <td>36472c6dbaf7afec9136ac40364e2794</td>\n",
       "      <td>5ecf00fdcbcec761c43dc7285253d0c1</td>\n",
       "      <td>2013-03-26 00:00:00</td>\n",
       "      <td>30885</td>\n",
       "      <td>0</td>\n",
       "      <td>AKL</td>\n",
       "      <td>AKL</td>\n",
       "      <td>NZ</td>\n",
       "      <td>SVO</td>\n",
       "      <td>MOW</td>\n",
       "      <td>RU</td>\n",
       "      <td>AKL</td>\n",
       "      <td>AKL</td>\n",
       "      <td>NZ</td>\n",
       "      <td>SVO</td>\n",
       "      <td>MOW</td>\n",
       "      <td>RU</td>\n",
       "      <td>AKL</td>\n",
       "      <td>AKL</td>\n",
       "      <td>NZ</td>\n",
       "      <td>AKLSVO</td>\n",
       "      <td>AKLMOW</td>\n",
       "      <td>NZRU</td>\n",
       "      <td>1</td>\n",
       "      <td>SVOHKGAKL</td>\n",
       "      <td>XK</td>\n",
       "      <td>G</td>\n",
       "      <td>Y</td>\n",
       "      <td>2013-05-14 20:15:00</td>\n",
       "      <td>2013-05-16 10:44:50</td>\n",
       "      <td>1</td>\n",
       "      <td>2013</td>\n",
       "      <td>3</td>\n",
       "      <td>SYDA82546</td>\n",
       "    </tr>\n",
       "  </tbody>\n",
       "</table>\n",
       "</div>"
      ],
      "text/plain": [
       "   act_date             source  pos_ctry                          pos_iata  \\\n",
       "0  2013-03-05 00:00:00  1A      DE        a68dd7ae953c8acfb187a1af2dcbe123   \n",
       "1  2013-03-26 00:00:00  1A      US        e612b9eeeee6f17f42d9b0d3b79e75ca   \n",
       "2  2013-03-26 00:00:00  1A      US        e612b9eeeee6f17f42d9b0d3b79e75ca   \n",
       "3  2013-03-26 00:00:00  1A      AU        0f984b3bb6bd06661c95529bbd6193bc   \n",
       "4  2013-03-26 00:00:00  1A      AU        0f984b3bb6bd06661c95529bbd6193bc   \n",
       "\n",
       "                          pos_oid                      rloc            \\\n",
       "0  1a11ae49fcbf545fd2afc1a24d88d2b7  ea65900e72d71f4626378e2ebd298267   \n",
       "1  7437560d8f276d6d05eeb806d9e7edee  737295a86982c941f1c2da9a46a14043   \n",
       "2  7437560d8f276d6d05eeb806d9e7edee  737295a86982c941f1c2da9a46a14043   \n",
       "3  36472c6dbaf7afec9136ac40364e2794  5ecf00fdcbcec761c43dc7285253d0c1   \n",
       "4  36472c6dbaf7afec9136ac40364e2794  5ecf00fdcbcec761c43dc7285253d0c1   \n",
       "\n",
       "   cre_date             duration  distance  dep_port  dep_city  dep_ctry  \\\n",
       "0  2013-02-22 00:00:00      1708         0  ZRH       ZRH       CH         \n",
       "1  2013-03-26 00:00:00    135270         0  SAL       SAL       SV         \n",
       "2  2013-03-26 00:00:00    135270         0  SAL       SAL       SV         \n",
       "3  2013-03-26 00:00:00     30885         0  AKL       AKL       NZ         \n",
       "4  2013-03-26 00:00:00     30885         0  AKL       AKL       NZ         \n",
       "\n",
       "   arr_port  arr_city  arr_ctry  lst_port  lst_city  lst_ctry  brd_port  \\\n",
       "0  LHR       LON       GB        ZRH       ZRH       CH        LHR        \n",
       "1  CLT       CLT       US        SAL       SAL       SV        SAL        \n",
       "2  CLT       CLT       US        SAL       SAL       SV        CLT        \n",
       "3  SVO       MOW       RU        AKL       AKL       NZ        AKL        \n",
       "4  SVO       MOW       RU        AKL       AKL       NZ        SVO        \n",
       "\n",
       "   brd_city  brd_ctry  off_port  off_city  off_ctry  mkt_port  mkt_city  \\\n",
       "0  LON       GB        ZRH       ZRH       CH        LHRZRH    LONZRH     \n",
       "1  SAL       SV        CLT       CLT       US        CLTSAL    CLTSAL     \n",
       "2  CLT       US        SAL       SAL       SV        CLTSAL    CLTSAL     \n",
       "3  AKL       NZ        SVO       MOW       RU        AKLSVO    AKLMOW     \n",
       "4  MOW       RU        AKL       AKL       NZ        AKLSVO    AKLMOW     \n",
       "\n",
       "   mkt_ctry  intl  route           carrier  bkg_class  cab_class  \\\n",
       "0  CHGB         1  LHRZRH               VI  T          Y           \n",
       "1  SVUS         1  SALATLCLT            NV  L          Y           \n",
       "2  SVUS         1  CLTATLSAL            NV  U          Y           \n",
       "3  NZRU         1  AKLHKGSVO            XK  G          Y           \n",
       "4  NZRU         1  SVOHKGAKL            XK  G          Y           \n",
       "\n",
       "   brd_time             off_time             pax  year  month  oid        \n",
       "0  2013-03-07 08:50:00  2013-03-07 11:33:37   -1  2013      3  NULL       \n",
       "1  2013-04-12 13:04:00  2013-04-12 22:05:40    1  2013      3  NULL       \n",
       "2  2013-07-15 07:00:00  2013-07-15 11:34:51    1  2013      3  NULL       \n",
       "3  2013-04-24 23:59:00  2013-04-25 16:06:31    1  2013      3  SYDA82546  \n",
       "4  2013-05-14 20:15:00  2013-05-16 10:44:50    1  2013      3  SYDA82546  "
      ]
     },
     "execution_count": 63,
     "metadata": {},
     "output_type": "execute_result"
    }
   ],
   "source": [
    "file.head()"
   ]
  },
  {
   "cell_type": "code",
   "execution_count": 64,
   "metadata": {},
   "outputs": [
    {
     "data": {
      "text/plain": [
       "act_date               10000\n",
       "source                 10000\n",
       "pos_ctry               10000\n",
       "pos_iata               10000\n",
       "pos_oid                10000\n",
       "rloc                   10000\n",
       "cre_date               10000\n",
       "duration               10000\n",
       "distance               10000\n",
       "dep_port               10000\n",
       "dtype: int64"
      ]
     },
     "execution_count": 64,
     "metadata": {},
     "output_type": "execute_result"
    }
   ],
   "source": [
    "file.count().head(10) #Con count() vemos la cantidad de columnas con nombre y numero de filas"
   ]
  },
  {
   "cell_type": "code",
   "execution_count": 65,
   "metadata": {},
   "outputs": [
    {
     "data": {
      "text/html": [
       "<div>\n",
       "<style scoped>\n",
       "    .dataframe tbody tr th:only-of-type {\n",
       "        vertical-align: middle;\n",
       "    }\n",
       "\n",
       "    .dataframe tbody tr th {\n",
       "        vertical-align: top;\n",
       "    }\n",
       "\n",
       "    .dataframe thead th {\n",
       "        text-align: right;\n",
       "    }\n",
       "</style>\n",
       "<table border=\"1\" class=\"dataframe\">\n",
       "  <thead>\n",
       "    <tr style=\"text-align: right;\">\n",
       "      <th></th>\n",
       "      <th>duration</th>\n",
       "      <th>distance</th>\n",
       "      <th>intl</th>\n",
       "      <th>pax</th>\n",
       "      <th>year</th>\n",
       "      <th>month</th>\n",
       "    </tr>\n",
       "  </thead>\n",
       "  <tbody>\n",
       "    <tr>\n",
       "      <th>count</th>\n",
       "      <td>10000.000000</td>\n",
       "      <td>10000.000000</td>\n",
       "      <td>10000.000000</td>\n",
       "      <td>10000.000000</td>\n",
       "      <td>10000.0</td>\n",
       "      <td>10000.0</td>\n",
       "    </tr>\n",
       "    <tr>\n",
       "      <th>mean</th>\n",
       "      <td>20209.543000</td>\n",
       "      <td>455.563300</td>\n",
       "      <td>0.596300</td>\n",
       "      <td>0.516300</td>\n",
       "      <td>2013.0</td>\n",
       "      <td>3.0</td>\n",
       "    </tr>\n",
       "    <tr>\n",
       "      <th>std</th>\n",
       "      <td>42241.125937</td>\n",
       "      <td>1738.810081</td>\n",
       "      <td>0.490663</td>\n",
       "      <td>1.783943</td>\n",
       "      <td>0.0</td>\n",
       "      <td>0.0</td>\n",
       "    </tr>\n",
       "    <tr>\n",
       "      <th>min</th>\n",
       "      <td>59.000000</td>\n",
       "      <td>0.000000</td>\n",
       "      <td>0.000000</td>\n",
       "      <td>-25.000000</td>\n",
       "      <td>2013.0</td>\n",
       "      <td>3.0</td>\n",
       "    </tr>\n",
       "    <tr>\n",
       "      <th>25%</th>\n",
       "      <td>3339.000000</td>\n",
       "      <td>0.000000</td>\n",
       "      <td>0.000000</td>\n",
       "      <td>-1.000000</td>\n",
       "      <td>2013.0</td>\n",
       "      <td>3.0</td>\n",
       "    </tr>\n",
       "    <tr>\n",
       "      <th>50%</th>\n",
       "      <td>7734.500000</td>\n",
       "      <td>0.000000</td>\n",
       "      <td>1.000000</td>\n",
       "      <td>1.000000</td>\n",
       "      <td>2013.0</td>\n",
       "      <td>3.0</td>\n",
       "    </tr>\n",
       "    <tr>\n",
       "      <th>75%</th>\n",
       "      <td>19077.000000</td>\n",
       "      <td>0.000000</td>\n",
       "      <td>1.000000</td>\n",
       "      <td>1.000000</td>\n",
       "      <td>2013.0</td>\n",
       "      <td>3.0</td>\n",
       "    </tr>\n",
       "    <tr>\n",
       "      <th>max</th>\n",
       "      <td>488131.000000</td>\n",
       "      <td>18481.000000</td>\n",
       "      <td>1.000000</td>\n",
       "      <td>25.000000</td>\n",
       "      <td>2013.0</td>\n",
       "      <td>3.0</td>\n",
       "    </tr>\n",
       "  </tbody>\n",
       "</table>\n",
       "</div>"
      ],
      "text/plain": [
       "            duration      distance          intl           pax     year  \\\n",
       "count   10000.000000  10000.000000  10000.000000  10000.000000  10000.0   \n",
       "mean    20209.543000    455.563300      0.596300      0.516300   2013.0   \n",
       "std     42241.125937   1738.810081      0.490663      1.783943      0.0   \n",
       "min        59.000000      0.000000      0.000000    -25.000000   2013.0   \n",
       "25%      3339.000000      0.000000      0.000000     -1.000000   2013.0   \n",
       "50%      7734.500000      0.000000      1.000000      1.000000   2013.0   \n",
       "75%     19077.000000      0.000000      1.000000      1.000000   2013.0   \n",
       "max    488131.000000  18481.000000      1.000000     25.000000   2013.0   \n",
       "\n",
       "         month  \n",
       "count  10000.0  \n",
       "mean       3.0  \n",
       "std        0.0  \n",
       "min        3.0  \n",
       "25%        3.0  \n",
       "50%        3.0  \n",
       "75%        3.0  \n",
       "max        3.0  "
      ]
     },
     "execution_count": 65,
     "metadata": {},
     "output_type": "execute_result"
    }
   ],
   "source": [
    "file.describe()"
   ]
  },
  {
   "cell_type": "code",
   "execution_count": 66,
   "metadata": {},
   "outputs": [
    {
     "data": {
      "text/plain": [
       "(10000, 38)"
      ]
     },
     "execution_count": 66,
     "metadata": {},
     "output_type": "execute_result"
    }
   ],
   "source": [
    "file.shape"
   ]
  },
  {
   "cell_type": "code",
   "execution_count": 67,
   "metadata": {
    "scrolled": true
   },
   "outputs": [
    {
     "name": "stdout",
     "output_type": "stream",
     "text": [
      "<class 'pandas.core.frame.DataFrame'>\n",
      "RangeIndex: 10000 entries, 0 to 9999\n",
      "Data columns (total 38 columns):\n",
      "act_date               10000 non-null object\n",
      "source                 10000 non-null object\n",
      "pos_ctry               10000 non-null object\n",
      "pos_iata               10000 non-null object\n",
      "pos_oid                10000 non-null object\n",
      "rloc                   10000 non-null object\n",
      "cre_date               10000 non-null object\n",
      "duration               10000 non-null int64\n",
      "distance               10000 non-null int64\n",
      "dep_port               10000 non-null object\n",
      "dep_city               10000 non-null object\n",
      "dep_ctry               10000 non-null object\n",
      "arr_port               10000 non-null object\n",
      "arr_city               10000 non-null object\n",
      "arr_ctry               10000 non-null object\n",
      "lst_port               10000 non-null object\n",
      "lst_city               10000 non-null object\n",
      "lst_ctry               10000 non-null object\n",
      "brd_port               10000 non-null object\n",
      "brd_city               10000 non-null object\n",
      "brd_ctry               10000 non-null object\n",
      "off_port               10000 non-null object\n",
      "off_city               10000 non-null object\n",
      "off_ctry               10000 non-null object\n",
      "mkt_port               10000 non-null object\n",
      "mkt_city               10000 non-null object\n",
      "mkt_ctry               10000 non-null object\n",
      "intl                   10000 non-null int64\n",
      "route                  10000 non-null object\n",
      "carrier                10000 non-null object\n",
      "bkg_class              10000 non-null object\n",
      "cab_class              10000 non-null object\n",
      "brd_time               10000 non-null object\n",
      "off_time               10000 non-null object\n",
      "pax                    10000 non-null int64\n",
      "year                   10000 non-null int64\n",
      "month                  10000 non-null int64\n",
      "oid                    10000 non-null object\n",
      "dtypes: int64(6), object(32)\n",
      "memory usage: 2.9+ MB\n"
     ]
    }
   ],
   "source": [
    "file.info() #Con info() vemos el formato de cada campo"
   ]
  },
  {
   "cell_type": "code",
   "execution_count": 68,
   "metadata": {
    "scrolled": true
   },
   "outputs": [
    {
     "data": {
      "text/plain": [
       "['act_date           ',\n",
       " 'source',\n",
       " 'pos_ctry',\n",
       " 'pos_iata',\n",
       " 'pos_oid  ',\n",
       " 'rloc          ',\n",
       " 'cre_date           ',\n",
       " 'duration',\n",
       " 'distance',\n",
       " 'dep_port',\n",
       " 'dep_city',\n",
       " 'dep_ctry',\n",
       " 'arr_port',\n",
       " 'arr_city',\n",
       " 'arr_ctry',\n",
       " 'lst_port',\n",
       " 'lst_city',\n",
       " 'lst_ctry',\n",
       " 'brd_port',\n",
       " 'brd_city',\n",
       " 'brd_ctry',\n",
       " 'off_port',\n",
       " 'off_city',\n",
       " 'off_ctry',\n",
       " 'mkt_port',\n",
       " 'mkt_city',\n",
       " 'mkt_ctry',\n",
       " 'intl',\n",
       " 'route          ',\n",
       " 'carrier',\n",
       " 'bkg_class',\n",
       " 'cab_class',\n",
       " 'brd_time           ',\n",
       " 'off_time           ',\n",
       " 'pax',\n",
       " 'year',\n",
       " 'month',\n",
       " 'oid      ']"
      ]
     },
     "execution_count": 68,
     "metadata": {},
     "output_type": "execute_result"
    }
   ],
   "source": [
    "list(file.columns) #puedes detectar fácilmente el espacio en blanco de los nombres de las columnas transformando en listas"
   ]
  },
  {
   "cell_type": "code",
   "execution_count": 69,
   "metadata": {},
   "outputs": [],
   "source": [
    "file.columns = file.columns.str.strip() #quitamos los espacios en blanco de los nombres de las columnas"
   ]
  },
  {
   "cell_type": "markdown",
   "metadata": {},
   "source": [
    "**2) Selecciona las columnas de interés.**"
   ]
  },
  {
   "cell_type": "code",
   "execution_count": 70,
   "metadata": {},
   "outputs": [],
   "source": [
    "file = pd.read_csv('bookings_sample.csv.bz2',sep = '^',usecols = ['year','pax','arr_port'])"
   ]
  },
  {
   "cell_type": "markdown",
   "metadata": {},
   "source": [
    "**3) ¿Qué hacer con NaN?**"
   ]
  },
  {
   "cell_type": "code",
   "execution_count": 71,
   "metadata": {},
   "outputs": [],
   "source": [
    "file = file.dropna() #En la muestra, todo puede estar bien, pero debemos prepararnos para el caso de NaN"
   ]
  },
  {
   "cell_type": "markdown",
   "metadata": {},
   "source": [
    "**4) Hacer plan de accion**"
   ]
  },
  {
   "cell_type": "markdown",
   "metadata": {},
   "source": [
    "1. filtrar 2013\n",
    "2. borrar la columna year (opcional)\n",
    "3. groupby arr_airport  -  airport --> pax\n",
    "4. sumar pax\n",
    "5. ordenar\n",
    "6. top 10"
   ]
  },
  {
   "cell_type": "code",
   "execution_count": 72,
   "metadata": {},
   "outputs": [
    {
     "name": "stdout",
     "output_type": "stream",
     "text": [
      "<class 'pandas.core.frame.DataFrame'>\n",
      "Int64Index: 9999 entries, 0 to 9998\n",
      "Data columns (total 3 columns):\n",
      "arr_port    9999 non-null object\n",
      "pax         9999 non-null int64\n",
      "year        9999 non-null int64\n",
      "dtypes: int64(2), object(1)\n",
      "memory usage: 312.5+ KB\n"
     ]
    }
   ],
   "source": [
    "file.info()"
   ]
  },
  {
   "cell_type": "code",
   "execution_count": 73,
   "metadata": {},
   "outputs": [],
   "source": [
    "file = file[file['year'] == 2013]"
   ]
  },
  {
   "cell_type": "code",
   "execution_count": 74,
   "metadata": {
    "scrolled": true
   },
   "outputs": [
    {
     "data": {
      "text/plain": [
       "<pandas.core.groupby.DataFrameGroupBy object at 0x7fd38f0b7b38>"
      ]
     },
     "execution_count": 74,
     "metadata": {},
     "output_type": "execute_result"
    }
   ],
   "source": [
    "file.groupby('arr_port')"
   ]
  },
  {
   "cell_type": "code",
   "execution_count": 75,
   "metadata": {},
   "outputs": [
    {
     "data": {
      "text/plain": [
       "{'AAL     ': Int64Index([4084, 4085], dtype='int64'),\n",
       " 'ABQ     ': Int64Index([1606, 1607, 3341, 3342, 6023, 6024, 6025, 6026, 6464, 6465, 7517,\n",
       "             7518],\n",
       "            dtype='int64'),\n",
       " 'ABV     ': Int64Index([3277, 3278, 4093, 4094, 7849, 7850], dtype='int64'),\n",
       " 'ABZ     ': Int64Index([3483, 3484, 6062, 6063, 6064, 6065], dtype='int64'),\n",
       " 'ACC     ': Int64Index([118, 119, 2512, 2513, 2514, 2515, 6164, 6165, 6888, 6889, 8695,\n",
       "             8696],\n",
       "            dtype='int64'),\n",
       " 'ADD     ': Int64Index([207, 208, 301, 302, 2302, 2303, 3517, 3518, 3519, 3520, 5735, 5736,\n",
       "             6216],\n",
       "            dtype='int64'),\n",
       " 'ADZ     ': Int64Index([8892, 8893], dtype='int64'),\n",
       " 'AEP     ': Int64Index([1812, 2697, 2698, 2699, 2700, 2701, 2702, 2703, 2704, 3982, 3983,\n",
       "             8402, 8403],\n",
       "            dtype='int64'),\n",
       " 'AER     ': Int64Index([1939, 2420, 2421], dtype='int64'),\n",
       " 'AES     ': Int64Index([1701, 1702, 4999], dtype='int64'),\n",
       " 'AFA     ': Int64Index([8412, 8413], dtype='int64'),\n",
       " 'AGA     ': Int64Index([1965, 1966, 1967, 1968, 4675, 4676, 4677, 4678], dtype='int64'),\n",
       " 'AGP     ': Int64Index([397, 398, 1432, 1433, 4149, 4150, 4151, 4152], dtype='int64'),\n",
       " 'AGU     ': Int64Index([5362, 5363], dtype='int64'),\n",
       " 'AGX     ': Int64Index([6154], dtype='int64'),\n",
       " 'AJA     ': Int64Index([4194, 5639, 5640, 5641, 5642, 7483, 9514, 9515], dtype='int64'),\n",
       " 'AJF     ': Int64Index([1377, 1378, 1379, 1380, 6700], dtype='int64'),\n",
       " 'AKL     ': Int64Index([1068, 1069, 1070, 1071, 1072, 3260, 3311, 3312, 3525, 3526, 3527,\n",
       "             3528],\n",
       "            dtype='int64'),\n",
       " 'ALA     ': Int64Index([76, 77, 2133, 2134, 8652, 8653, 8654, 8655, 8656, 8657, 8658,\n",
       "             8659],\n",
       "            dtype='int64'),\n",
       " 'ALB     ': Int64Index([1220, 1221, 1222, 1223], dtype='int64'),\n",
       " 'ALC     ': Int64Index([ 909,  910, 3875, 3876, 6645, 9498, 9499, 9500, 9501, 9502, 9503,\n",
       "             9504, 9505, 9506, 9507],\n",
       "            dtype='int64'),\n",
       " 'ALG     ': Int64Index([  34,   35,   36,   37,  558,  559, 1827, 1828, 1930, 1931, 2212,\n",
       "             2213, 4449, 4450, 5687, 5688, 7687, 7688, 7689, 7690],\n",
       "            dtype='int64'),\n",
       " 'AMD     ': Int64Index([732, 2525, 2526, 2527, 2528, 6979, 6980, 6981], dtype='int64'),\n",
       " 'AMM     ': Int64Index([1703, 1704, 2351, 3720, 6184, 6417, 6418, 6419, 6584, 6585, 6634,\n",
       "             6635, 7252, 7271, 7272, 9423, 9934, 9935, 9936, 9937],\n",
       "            dtype='int64'),\n",
       " 'AMS     ': Int64Index([ 494,  888,  889,  890,  891, 1135, 1136, 2076, 2077, 2139, 2142,\n",
       "             2143, 2146, 2147, 2234, 2235, 2963, 3256, 3257, 3348, 3402, 3403,\n",
       "             3891, 4532, 4622, 4623, 4974, 4975, 4976, 4977, 6754, 6755, 6756,\n",
       "             7023, 7024, 7307, 7308, 7469, 7470, 7471, 8595, 8798, 8799, 8800,\n",
       "             8801],\n",
       "            dtype='int64'),\n",
       " 'ANC     ': Int64Index([ 432,  433, 1084, 1085, 1086, 1087, 3307, 3308, 3309, 3310, 4140,\n",
       "             4141, 5159, 5160, 5161, 5162, 6684, 7011, 7012, 7013, 7014, 7015,\n",
       "             7016, 8570, 8571, 8636, 8637, 8638, 8639, 9697, 9698],\n",
       "            dtype='int64'),\n",
       " 'ANF     ': Int64Index([4184, 4185, 4186, 4187, 4188, 4189], dtype='int64'),\n",
       " 'ANU     ': Int64Index([6394, 6395, 6396, 6397], dtype='int64'),\n",
       " 'AOE     ': Int64Index([5077], dtype='int64'),\n",
       " 'AOI     ': Int64Index([5297, 5298], dtype='int64'),\n",
       " 'AQP     ': Int64Index([3898, 3899, 7103, 7104], dtype='int64'),\n",
       " 'ARH     ': Int64Index([1383], dtype='int64'),\n",
       " 'ARN     ': Int64Index([1748, 1749, 1750, 1751, 2175, 2176, 2983, 2984, 3066, 3067, 5996,\n",
       "             9666, 9667, 9668, 9981, 9982],\n",
       "            dtype='int64'),\n",
       " 'ASE     ': Int64Index([1617, 1618, 3305, 3306], dtype='int64'),\n",
       " 'ASU     ': Int64Index([548, 549, 550, 551, 724, 725], dtype='int64'),\n",
       " 'ASW     ': Int64Index([1661, 1662], dtype='int64'),\n",
       " 'ATH     ': Int64Index([ 313,  314,  739,  748, 1172, 1173, 1236, 1237, 1392, 1393, 1497,\n",
       "             1498, 1499, 1500, 2154, 2155, 2156, 2206, 2207, 2395, 2396, 2524,\n",
       "             4310, 4311, 5780, 5785, 5894, 5895, 6325, 6326, 6327, 6328, 6329,\n",
       "             6330, 6331, 6332, 6333, 6334, 6335, 6336, 6734, 6735, 6882, 6883,\n",
       "             7977, 7978, 8101, 8902, 8903, 8904, 8905, 8906, 8907, 9136, 9426,\n",
       "             9427, 9681, 9682, 9683, 9716, 9717, 9718, 9719, 9756, 9757, 9778,\n",
       "             9779],\n",
       "            dtype='int64'),\n",
       " 'ATL     ': Int64Index([ 147,  404,  908, 1029, 1030, 1041, 1042, 1219, 1251, 1252, 1260,\n",
       "             1261, 1763, 1764, 1774, 1775, 1776, 1777, 1778, 1779, 2399, 2441,\n",
       "             2442, 2905, 2906, 2907, 2908, 2955, 2956, 2957, 2958, 3188, 3208,\n",
       "             3615, 3616, 3617, 3618, 3658, 3702, 3703, 3704, 3705, 3706, 3707,\n",
       "             3708, 3709, 3746, 3835, 3836, 4491, 4492, 4636, 4637, 4736, 4737,\n",
       "             5156, 5230, 5231, 5232, 5233, 5869, 5870, 5871, 5872, 6081, 6371,\n",
       "             6630, 6631, 6857, 6858, 7009, 7010, 7162, 7163, 7236, 7237, 7541,\n",
       "             7542, 8806, 8807, 8973, 8974, 8975, 8976, 8977, 8978, 9398, 9458,\n",
       "             9464, 9465, 9480, 9481, 9490, 9491, 9553, 9554, 9824, 9825],\n",
       "            dtype='int64'),\n",
       " 'ATQ     ': Int64Index([801, 802, 803, 8572], dtype='int64'),\n",
       " 'ATW     ': Int64Index([5459, 6272, 6273], dtype='int64'),\n",
       " 'AUA     ': Int64Index([3650, 3651, 3652, 3653, 6525, 6526], dtype='int64'),\n",
       " 'AUH     ': Int64Index([733, 734, 1605, 4206, 4207, 7579, 7580], dtype='int64'),\n",
       " 'AUS     ': Int64Index([ 380,  381, 1891, 2304, 2305, 2306, 2307, 3535, 3536, 3678, 3679,\n",
       "             3680, 3681, 4048, 4049, 4342, 4343, 4344, 4345, 4995, 4996, 5559,\n",
       "             5560, 5561, 5562, 5769, 5770, 5771, 5772, 5994, 5995, 8243, 8500,\n",
       "             8949, 8950, 9259, 9836, 9837],\n",
       "            dtype='int64'),\n",
       " 'AVL     ': Int64Index([1533, 1534, 9595, 9596], dtype='int64'),\n",
       " 'AVP     ': Int64Index([7114, 7115], dtype='int64'),\n",
       " 'AXM     ': Int64Index([1097, 1098, 1099, 1100], dtype='int64'),\n",
       " 'AYT     ': Int64Index([81, 82, 83, 500, 1710, 1711, 1712, 1713, 1714, 1715, 8363, 8364,\n",
       "             8756, 8757],\n",
       "            dtype='int64'),\n",
       " 'BAH     ': Int64Index([4959, 6930, 7063, 7064, 8139], dtype='int64'),\n",
       " 'BBI     ': Int64Index([151, 152, 1487, 1488, 1489, 1490, 1491, 1872, 1873, 2356, 2357,\n",
       "             2358],\n",
       "            dtype='int64'),\n",
       " 'BCD     ': Int64Index([2899, 3124, 3125, 3126, 3127], dtype='int64'),\n",
       " 'BCN     ': Int64Index([ 320,  321,  979, 1108, 1149, 1182, 2361, 2362, 2363, 2364, 2365,\n",
       "             2366, 2367, 2368, 2852, 2853, 2870, 2871, 3624, 3625, 4275, 4564,\n",
       "             5139, 5256, 5257, 5258, 5620, 5621, 5622, 6466, 6467, 7200, 7820,\n",
       "             7821, 7953, 7954, 7955, 8085, 8086, 8410, 8411, 9190, 9191, 9192,\n",
       "             9193, 9194, 9255, 9256, 9257, 9258, 9770, 9771, 9772, 9773],\n",
       "            dtype='int64'),\n",
       " 'BDA     ': Int64Index([5839], dtype='int64'),\n",
       " 'BDL     ': Int64Index([6034, 6035, 8012, 9016, 9017, 9018, 9019], dtype='int64'),\n",
       " 'BEG     ': Int64Index([5649], dtype='int64'),\n",
       " 'BEY     ': Int64Index([ 415,  416,  509,  510, 3797, 3798, 4497, 4498, 4499, 4724, 5773,\n",
       "             5774, 6559, 6560, 6561, 6562, 6563, 6564, 6890, 8890, 8891, 9745,\n",
       "             9746, 9747],\n",
       "            dtype='int64'),\n",
       " 'BFN     ': Int64Index([1371, 1372], dtype='int64'),\n",
       " 'BGA     ': Int64Index([5598, 5599, 6862, 6863, 6864, 6865], dtype='int64'),\n",
       " 'BGI     ': Int64Index([3568, 3569, 3570, 3571, 3772, 3773, 4404, 4405, 4406, 4407, 5884,\n",
       "             5885, 6726, 6727, 6728, 6729],\n",
       "            dtype='int64'),\n",
       " 'BGO     ': Int64Index([1359, 7151, 7152, 7153, 7154, 8670, 8671, 8970, 8971], dtype='int64'),\n",
       " 'BHH     ': Int64Index([4594], dtype='int64'),\n",
       " 'BHM     ': Int64Index([ 497,  498,  499, 1012, 2254, 2255, 5020, 5021, 5022, 5023, 5024,\n",
       "             5025, 5929, 5930, 6970, 6971, 8181],\n",
       "            dtype='int64'),\n",
       " 'BHX     ': Int64Index([1338, 1339, 1340, 1341, 2575, 2576, 6206, 6207, 7551, 7552, 7553,\n",
       "             7554],\n",
       "            dtype='int64'),\n",
       " 'BIO     ': Int64Index([8165, 8166, 8464, 8465, 8752, 8753, 8754, 8755], dtype='int64'),\n",
       " 'BIQ     ': Int64Index([1150, 1151, 1152, 1153, 1154, 1155, 1156, 1157, 1158, 1159, 1160], dtype='int64'),\n",
       " 'BJA     ': Int64Index([1465, 1466, 1467, 1468, 2375], dtype='int64'),\n",
       " 'BJV     ': Int64Index([ 695,  696, 2744, 2745, 2746, 2747, 2748, 2749, 5302, 5303, 5304,\n",
       "             5305, 6933, 6934],\n",
       "            dtype='int64'),\n",
       " 'BJX     ': Int64Index([ 983,  984, 2006, 2007, 2008, 2009, 2010, 2011, 4178, 4179, 7901,\n",
       "             7902, 7903, 7904, 7905, 7906],\n",
       "            dtype='int64'),\n",
       " 'BKI     ': Int64Index([7005, 7006], dtype='int64'),\n",
       " 'BKK     ': Int64Index([ 100,  101, 1019, 1020, 1111, 1829, 1830, 1831, 1832, 1833, 2270,\n",
       "             2271, 2858, 2859, 2860, 2861, 2862, 2863, 3490, 3491, 3764, 3765,\n",
       "             4297, 4298, 4299, 4300, 4301, 4302, 4317, 4318, 4997, 4998, 5382,\n",
       "             5383, 5691, 6161, 6162, 6163, 6676, 6696, 6697, 6698, 6699, 7071,\n",
       "             7072, 7073, 7074, 7137, 7138, 7139, 7140, 7253, 7885, 7886, 7964,\n",
       "             7965, 7974, 7975, 8810, 8812, 8813, 9086, 9087, 9088, 9369, 9370,\n",
       "             9371, 9372, 9738],\n",
       "            dtype='int64'),\n",
       " 'BLJ     ': Int64Index([5387, 5388], dtype='int64'),\n",
       " 'BLL     ': Int64Index([3710, 3711], dtype='int64'),\n",
       " 'BLQ     ': Int64Index([718, 719, 2671, 2672, 5183, 5184, 5185], dtype='int64'),\n",
       " 'BLR     ': Int64Index([49, 50, 51, 308, 4992, 8104, 8105, 8106, 8107, 8164], dtype='int64'),\n",
       " 'BME     ': Int64Index([8132], dtype='int64'),\n",
       " 'BNA     ': Int64Index([ 372,  373,  374,  375,  376,  377,  774,  775,  776,  777, 3030,\n",
       "             3031, 3108, 3109, 3759, 3760, 3761, 3762, 5390, 5391, 8178, 8179,\n",
       "             9882, 9883],\n",
       "            dtype='int64'),\n",
       " 'BNE     ': Int64Index([ 335,  336,  337,  338,  795,  796, 1962, 1963, 1964, 4392, 4393,\n",
       "             6692, 6693, 6694, 6695, 7799, 7800, 7801, 7802, 7803, 7804, 8879,\n",
       "             8880, 9373, 9374, 9375],\n",
       "            dtype='int64'),\n",
       " 'BOD     ': Int64Index([6876, 6877], dtype='int64'),\n",
       " 'BOG     ': Int64Index([ 602,  603,  604,  605,  606,  607,  608,  609, 2625, 2626, 2627,\n",
       "             2628, 2629, 2630, 2631, 3362, 3363, 3364, 3458, 3459, 3460, 3461,\n",
       "             6732, 6733, 7110, 7111, 9028, 9029],\n",
       "            dtype='int64'),\n",
       " 'BOI     ': Int64Index([143, 144, 567, 1747, 4061, 4062, 4063, 4064, 4514, 9967, 9968], dtype='int64'),\n",
       " 'BOM     ': Int64Index([ 576,  577,  622,  623,  624, 1296, 1297, 1298, 1299, 1861, 1862,\n",
       "             2208, 2209, 2864, 2865, 2866, 2867, 3441, 3442, 3443, 3476, 3596,\n",
       "             3597, 3887, 3995, 3996, 3997, 4086, 4087, 4088, 4089, 4322, 4323,\n",
       "             4748, 4968, 4969, 5654, 5655, 6038, 6039, 6040, 6041, 7932, 8581,\n",
       "             8582, 8685, 8894, 8895, 9652, 9653, 9654, 9655],\n",
       "            dtype='int64'),\n",
       " 'BOS     ': Int64Index([ 182,  183,  221,  222,  463,  586,  587,  588,  589, 1037, 1038,\n",
       "             2053, 2054, 2055, 2056, 2057, 2058, 2186, 2187, 2595, 2596, 2819,\n",
       "             2820, 3145, 3146, 3284, 4379, 4380, 4710, 4711, 5439, 5440, 5763,\n",
       "             5764, 5781, 5782, 5783, 5784, 5997, 5998, 5999, 6000, 6001, 6002,\n",
       "             6003, 6174, 6175, 6228, 6266, 6267, 6344, 6468, 6469, 6544, 6545,\n",
       "             6866, 8030, 8031, 8032, 8033, 8034, 8035, 8054, 8055, 8213, 8214,\n",
       "             8256, 8272, 8273, 8274, 8275, 8916, 9037, 9038, 9482, 9483, 9591,\n",
       "             9592, 9894, 9895, 9896, 9897, 9930, 9931, 9943, 9944, 9945, 9946],\n",
       "            dtype='int64'),\n",
       " 'BPS     ': Int64Index([3634, 3635, 4756, 4757], dtype='int64'),\n",
       " 'BQK     ': Int64Index([3548, 3549, 4035, 4036, 4037, 4038, 4039, 4040], dtype='int64'),\n",
       " 'BRC     ': Int64Index([9063, 9064, 9065, 9066], dtype='int64'),\n",
       " 'BRD     ': Int64Index([455, 456], dtype='int64'),\n",
       " 'BRE     ': Int64Index([5656, 9270], dtype='int64'),\n",
       " 'BRI     ': Int64Index([2402, 2403, 2404, 2405, 2406, 2407, 4155, 4156, 4157, 4158, 4159,\n",
       "             4160],\n",
       "            dtype='int64'),\n",
       " 'BRM     ': Int64Index([9444, 9445, 9446], dtype='int64'),\n",
       " 'BRU     ': Int64Index([ 262,  263,  264,  265,  735,  736, 2149, 2150, 2151, 2445, 2959,\n",
       "             2960, 2961, 2962, 4142, 4143, 5052, 5053, 6580, 6581, 7182, 7183,\n",
       "             7194, 7195, 8592, 8593, 8828, 8829, 8830, 8831],\n",
       "            dtype='int64'),\n",
       " 'BRW     ': Int64Index([3850, 3851], dtype='int64'),\n",
       " 'BSL     ': Int64Index([8280, 8281, 9656], dtype='int64'),\n",
       " 'BTM     ': Int64Index([5985, 5986], dtype='int64'),\n",
       " 'BTR     ': Int64Index([4437, 4438], dtype='int64'),\n",
       " 'BTV     ': Int64Index([7559], dtype='int64'),\n",
       " 'BUD     ': Int64Index([ 957,  958,  959,  960, 3176, 3177, 3178, 3179, 3180, 3181, 3406,\n",
       "             3407, 3408, 3409, 4015, 4229, 4230, 4231, 4232, 4820, 5708, 5709,\n",
       "             5710, 5711, 6239, 6240, 6241, 6242, 6281, 6282, 6283, 6284, 6285,\n",
       "             6286, 6405, 6406, 7043, 7044, 8049, 8050, 8761, 8762],\n",
       "            dtype='int64'),\n",
       " 'BUF     ': Int64Index([358, 359, 1645, 3003, 4774, 5543, 5544, 6492, 6493, 8306, 8307], dtype='int64'),\n",
       " 'BUR     ': Int64Index([3020, 4535, 4536, 4537, 4538], dtype='int64'),\n",
       " 'BWI     ': Int64Index([  52,   53,  102,  103, 1531, 1532, 1566, 1567, 1568, 1569, 1887,\n",
       "             1888, 1958, 2222, 2223, 2723, 2724, 3190, 3191, 4002, 4003, 4004,\n",
       "             4005, 4006, 4533, 4534, 4553, 4554, 4712, 4713, 4921, 5494, 5495,\n",
       "             5496, 5497, 5498, 5499, 5537, 5538, 6185, 6186, 6187, 6188, 6189,\n",
       "             6533, 6534, 6759, 6760, 6796, 6797, 7176, 7390, 7391, 7392, 7393,\n",
       "             7851, 7852, 7948, 8141, 8142, 8842, 8843, 8955, 8956, 9459],\n",
       "            dtype='int64'),\n",
       " 'BWN     ': Int64Index([8095, 8096, 8097, 8098], dtype='int64'),\n",
       " 'BZE     ': Int64Index([5332, 5333, 5334, 5335, 5336, 5337], dtype='int64'),\n",
       " 'CAG     ': Int64Index([164, 165, 166, 167], dtype='int64'),\n",
       " 'CAI     ': Int64Index([ 126,  127,  554,  555, 1471, 1472, 1473, 1474, 2386, 2387, 2426,\n",
       "             2427, 2428, 2429, 3266, 3267, 3347, 3668, 3669, 3670, 4962, 5128,\n",
       "             5129, 5130, 5131, 5132, 5133, 5134, 5135, 6122, 6123, 6208, 6209,\n",
       "             6210, 6211, 6212, 6213, 6214, 6215, 6785, 6786, 7379, 7796, 7797,\n",
       "             7798],\n",
       "            dtype='int64'),\n",
       " 'CAK     ': Int64Index([1737, 1738, 7174, 7175, 8514], dtype='int64'),\n",
       " 'CAN     ': Int64Index([ 728,  729,  730,  731, 2670, 3376, 3377, 3378, 3379, 3572, 3573,\n",
       "             3574, 4303, 4304, 4305, 4306, 4626, 4627, 4692, 4693, 4901, 4928,\n",
       "             4929, 4930, 4931, 5911, 5912, 5913, 5914, 5915, 5916, 5917, 5918,\n",
       "             5919, 5920, 5940, 5941, 5942, 6202, 6203, 6204, 6205, 7294, 7493,\n",
       "             7494, 7495, 7496, 7497, 8729, 8730, 8731, 8732, 9098, 9099, 9100,\n",
       "             9101],\n",
       "            dtype='int64'),\n",
       " 'CBR     ': Int64Index([656, 657, 658, 659], dtype='int64'),\n",
       " 'CCJ     ': Int64Index([ 324,  325,  326,  327,  477,  478,  479,  480,  481,  482,  483,\n",
       "             3253, 3254, 3255, 4090, 4766, 4767, 4956, 4957, 4958, 5392, 5393,\n",
       "             5394, 5395, 5748, 5749, 5750, 5751, 7506, 9421, 9422],\n",
       "            dtype='int64'),\n",
       " 'CCP     ': Int64Index([2220, 2221, 5510, 5511, 5512, 5513], dtype='int64'),\n",
       " 'CCS     ': Int64Index([ 354,  355, 2341, 2342, 4598, 5098, 5099, 5100, 5101, 5102, 5103,\n",
       "             5104, 5105, 5106, 7159, 7160, 8735, 9218, 9219, 9220, 9221, 9222],\n",
       "            dtype='int64'),\n",
       " 'CCU     ': Int64Index([7068, 7193], dtype='int64'),\n",
       " 'CDG     ': Int64Index([  93,   94,  124,  125,  244,  255,  758,  759,  760,  761,\n",
       "             ...\n",
       "             9519, 9520, 9521, 9522, 9549, 9550, 9551, 9552, 9909, 9910],\n",
       "            dtype='int64', length=151),\n",
       " 'CEB     ': Int64Index([2064, 2065, 3233, 3234, 5136, 5137, 5138, 8632, 8633], dtype='int64'),\n",
       " 'CEK     ': Int64Index([2437, 2438, 3433, 3434, 5574, 5575, 5576, 5577], dtype='int64'),\n",
       " 'CFE     ': Int64Index([2987, 2988], dtype='int64'),\n",
       " 'CGK     ': Int64Index([ 328,  329,  330,  331,  360,  361,  362,  363, 2649, 2650, 3149,\n",
       "             4541, 4542, 4543, 4544, 4662, 4663, 6745, 6746, 6747, 6748, 6749,\n",
       "             6750, 6751, 8665, 8672, 8673, 8674, 8675, 8691, 8733, 8734],\n",
       "            dtype='int64'),\n",
       " 'CGN     ': Int64Index([1348, 1349, 1350, 1351, 9663, 9664], dtype='int64'),\n",
       " 'CGO     ': Int64Index([2218, 2219, 5862, 5863], dtype='int64'),\n",
       " 'CHA     ': Int64Index([7600, 7601], dtype='int64'),\n",
       " 'CHC     ': Int64Index([8425, 8426], dtype='int64'),\n",
       " 'CHQ     ': Int64Index([594, 595, 3854, 3855, 3856, 3857], dtype='int64'),\n",
       " 'CHS     ': Int64Index([4041, 4042, 4889, 4890, 4891, 4892, 5846, 9462, 9463, 9768, 9769], dtype='int64'),\n",
       " 'CID     ': Int64Index([2041, 2042, 7170, 7171], dtype='int64'),\n",
       " 'CJS     ': Int64Index([2090, 2091, 2092, 2093], dtype='int64'),\n",
       " 'CLE     ': Int64Index([3638, 3639, 3640, 3641, 6599, 6600, 7369, 7370, 7371, 7372, 8022,\n",
       "             8023, 8024, 8025, 8026, 8889],\n",
       "            dtype='int64'),\n",
       " 'CLJ     ': Int64Index([4091, 4092, 6738, 6739], dtype='int64'),\n",
       " 'CLO     ': Int64Index([2140, 2141, 2971, 2972, 2973, 2974, 2975, 2976, 3369, 3370, 3371,\n",
       "             7255, 7256],\n",
       "            dtype='int64'),\n",
       " 'CLT     ': Int64Index([   1,    2,  501,  502,  503,  504,  688,  689,  714,  715,  716,\n",
       "              717,  794, 1530, 1596, 1597, 1598, 1599, 2072, 2073, 3016, 3037,\n",
       "             3339, 3340, 3911, 3912, 4009, 4010, 4530, 4531, 5472, 5974, 5975,\n",
       "             6625, 7845, 8114, 8115, 8552, 8553, 9241, 9242, 9243, 9244, 9245,\n",
       "             9246, 9348, 9349, 9628, 9629, 9630, 9631],\n",
       "            dtype='int64'),\n",
       " 'CMB     ': Int64Index([ 740,  741,  742,  743, 2392, 3064, 3065, 4559, 4560, 4908, 4909,\n",
       "             4910, 4911, 4912, 4913, 5170, 5299, 5704, 5705, 5724, 6132, 8246,\n",
       "             8247, 8340, 9007, 9008],\n",
       "            dtype='int64'),\n",
       " 'CMH     ': Int64Index([1813, 1814, 2476, 3676, 3677, 7225, 7508, 7509], dtype='int64'),\n",
       " 'CMN     ': Int64Index([1211, 1212, 1982, 1983, 3500, 3501, 3502, 3503, 3504, 3505, 3506,\n",
       "             3507, 4210, 4211, 6650, 6651, 6652, 6653, 6654, 6655, 6656, 6657,\n",
       "             7079, 7080, 9677, 9678, 9924, 9925, 9926, 9927, 9928, 9929],\n",
       "            dtype='int64'),\n",
       " 'CNS     ': Int64Index([2343, 2344, 3466, 3467, 9784, 9785], dtype='int64'),\n",
       " 'CNX     ': Int64Index([3279, 3280], dtype='int64'),\n",
       " 'COK     ': Int64Index([332, 552, 553, 6859, 6860, 6861, 9055, 9056], dtype='int64'),\n",
       " 'COR     ': Int64Index([5719, 5720, 5721, 5722], dtype='int64'),\n",
       " 'COS     ': Int64Index([170, 171, 4557, 4558], dtype='int64'),\n",
       " 'CPH     ': Int64Index([1922, 1923, 1924, 1925, 1926, 1927, 1928, 1929, 4455, 4456, 5108,\n",
       "             5109, 5110, 5111, 5112, 5113, 5790, 5791, 5792, 5793, 6366, 6367,\n",
       "             6368, 6369, 6370, 6485, 6486, 7458, 7459, 7822, 7823, 7854, 7855,\n",
       "             8186, 8187, 8188, 8189, 8190, 8248, 8249, 9693, 9694, 9695, 9696],\n",
       "            dtype='int64'),\n",
       " 'CPR     ': Int64Index([3963, 5250, 5251], dtype='int64'),\n",
       " 'CPT     ': Int64Index([6958, 6959, 6960, 6961, 7350, 7351, 7352, 7353, 7430, 7431, 8850,\n",
       "             8851, 9108, 9109, 9110, 9111, 9112, 9113, 9114, 9115, 9116],\n",
       "            dtype='int64'),\n",
       " 'CRK     ': Int64Index([1021, 1022], dtype='int64'),\n",
       " 'CRL     ': Int64Index([9273, 9274], dtype='int64'),\n",
       " 'CRW     ': Int64Index([6392, 6393, 7504, 7505], dtype='int64'),\n",
       " 'CSG     ': Int64Index([7309, 7310, 7311], dtype='int64'),\n",
       " 'CTA     ': Int64Index([20, 21, 3946, 3947, 6448, 6449, 6450, 6451, 6548, 6549, 8579], dtype='int64'),\n",
       " 'CTG     ': Int64Index([1976, 1977, 6276, 6277], dtype='int64'),\n",
       " 'CTS     ': Int64Index([5486, 5487, 5488, 5489, 5490, 5491, 5652, 5653, 9424, 9425], dtype='int64'),\n",
       " 'CTU     ': Int64Index([7291, 7292, 7293], dtype='int64'),\n",
       " 'CUC     ': Int64Index([4203], dtype='int64'),\n",
       " 'CUL     ': Int64Index([1014, 1015], dtype='int64'),\n",
       " 'CUN     ': Int64Index([ 570,  571,  631,  632,  633,  634, 2501, 2502, 2909, 2910, 3189,\n",
       "             3659, 3660, 3661, 3662, 3838, 3839, 3840, 3841, 3842, 3843, 3941,\n",
       "             3942, 3943, 3944, 4549, 4550, 4551, 4552, 4650, 4651, 4652, 4653,\n",
       "             4654, 4655, 4656, 4657, 4738, 4739, 5277, 5278, 5825, 5826, 5873,\n",
       "             5874, 6304, 6305, 9178, 9179, 9180, 9181, 9182, 9183, 9266, 9267,\n",
       "             9346, 9347, 9524, 9525, 9699, 9700],\n",
       "            dtype='int64'),\n",
       " 'CUR     ': Int64Index([421, 422, 423, 424, 5089, 6350, 6351, 6352, 6353], dtype='int64'),\n",
       " 'CUZ     ': Int64Index([572, 573, 574, 575, 5355, 5356, 5357, 9311, 9312, 9313, 9314], dtype='int64'),\n",
       " 'CVG     ': Int64Index([  85,   86,   87,   88,   89,   90,  662,  663,  664,  665, 1620,\n",
       "             1621, 2165, 2166, 2167, 2168, 2881, 2882, 3074, 3160, 3161, 3564,\n",
       "             3565, 3566, 3567, 5034, 5035, 5446, 5447, 8458, 8459, 9868, 9869],\n",
       "            dtype='int64'),\n",
       " 'CZM     ': Int64Index([368, 369, 4138, 4139], dtype='int64'),\n",
       " 'DAB     ': Int64Index([797, 9042, 9043], dtype='int64'),\n",
       " 'DAC     ': Int64Index([ 652,  653, 2537, 2538, 2539, 4361, 4673, 4674, 5168, 5169, 5406,\n",
       "             5407, 5647, 5648, 9447, 9448, 9449, 9774, 9775],\n",
       "            dtype='int64'),\n",
       " 'DAL     ': Int64Index([1663, 1664], dtype='int64'),\n",
       " 'DAY     ': Int64Index([176, 177, 5936, 5937], dtype='int64'),\n",
       " 'DBV     ': Int64Index([9601, 9602], dtype='int64'),\n",
       " 'DCA     ': Int64Index([ 168,  169,  223,  224,  399,  400,  772,  773,  790,  791,  792,\n",
       "              793, 1090, 1091, 1092, 1093, 1767, 1768, 1893, 1894, 2499, 2500,\n",
       "             2799, 2800, 3026, 3027, 3038, 3039, 3150, 3151, 3287, 3288, 3289,\n",
       "             3290, 3291, 3292, 3293, 3294, 3295, 3296, 3297, 3748, 3749, 3980,\n",
       "             3981, 4045, 4071, 4072, 4384, 4385, 4415, 4481, 4482, 5312, 5313,\n",
       "             5314, 5315, 5316, 5340, 5341, 5568, 5858, 5859, 6019, 6020, 6068,\n",
       "             6069, 6180, 6181, 6182, 6183, 6501, 6502, 6503, 6504, 6556, 7166,\n",
       "             7167, 7221, 7222, 7645, 7646, 8263, 8264, 9227, 9228, 9409, 9410],\n",
       "            dtype='int64'),\n",
       " 'DEL     ': Int64Index([  54,   55,   56,   57,  192,  282,  283,  284,  285,  846,  847,\n",
       "              864,  967,  968, 1073, 1076, 1132, 1133, 1134, 1381, 1382, 1863,\n",
       "             2200, 3770, 3771, 4640, 4641, 4642, 4643, 4838, 4839, 4840, 4841,\n",
       "             4842, 4843, 5473, 5474, 5475, 5476, 5477, 5478, 5716, 5717, 6354,\n",
       "             6355, 6836, 6837, 6838, 6839, 8265, 8266, 8267, 8318, 8319, 8427,\n",
       "             8428, 8643, 8877, 8878, 9053, 9054, 9816, 9817],\n",
       "            dtype='int64'),\n",
       " 'DEN     ': Int64Index([ 434,  435,  580,  581,  786,  787, 1176, 1177, 1562, 1563, 1564,\n",
       "             1565, 1723, 1724, 1725, 1726, 1772, 1773, 1940, 1941, 2338, 2339,\n",
       "             2675, 2708, 2710, 2711, 2934, 2935, 2997, 2998, 2999, 3000, 3057,\n",
       "             3058, 3162, 3163, 3164, 3209, 3210, 3316, 3317, 3318, 3319, 3320,\n",
       "             3321, 3322, 3323, 3324, 3325, 3336, 3811, 3812, 3985, 4770, 4771,\n",
       "             4993, 4994, 5595, 5596, 5729, 5730, 5988, 6364, 6365, 7118, 7119,\n",
       "             7513, 7514, 7536, 7537, 7846, 7847, 8259, 8260, 8261, 8262, 8439,\n",
       "             8440, 8929, 8930, 8931, 8932, 8979, 9303, 9304, 9460, 9461, 9951,\n",
       "             9952],\n",
       "            dtype='int64'),\n",
       " 'DFW     ': Int64Index([ 193,  194,  195,  196,  619,  620,  746,  747, 1224, 1225, 1226,\n",
       "             1576, 1577, 1892, 2801, 2802, 2808, 2809, 2994, 2995, 3183, 3184,\n",
       "             3537, 3538, 3636, 3637, 3757, 3961, 3962, 4212, 4213, 4328, 4329,\n",
       "             4394, 4395, 4561, 4562, 4563, 4628, 4932, 4933, 5065, 5066, 5317,\n",
       "             5318, 5875, 6042, 6043, 6611, 6724, 6725, 6736, 6737, 7126, 7127,\n",
       "             7220, 7404, 7405, 7987, 8090, 8300, 8301, 8302, 8303, 8468, 8556,\n",
       "             8557, 8612, 8613, 8834, 8835, 8965, 8966, 8967, 8968, 9020, 9021,\n",
       "             9140, 9141, 9586, 9587, 9690, 9691],\n",
       "            dtype='int64'),\n",
       " 'DIE     ': Int64Index([5681, 5682, 5683, 6196], dtype='int64'),\n",
       " 'DKR     ': Int64Index([1137, 1138, 2116, 2117, 4719, 4720, 8337, 8338, 8339, 8436, 8437,\n",
       "             8438],\n",
       "            dtype='int64'),\n",
       " 'DLA     ': Int64Index([1870, 1871, 2320, 2321, 2322, 2323, 7318, 7319, 7320, 7321], dtype='int64'),\n",
       " 'DME     ': Int64Index([2655, 2891, 2892, 6153, 7095, 7096, 7322, 8760], dtype='int64'),\n",
       " 'DMM     ': Int64Index([38, 39, 40, 41, 42, 43, 4254, 4255, 4256, 4257, 5275, 5276, 6677,\n",
       "             6678],\n",
       "            dtype='int64'),\n",
       " 'DOH     ': Int64Index([ 315,  737,  738, 1352, 1353, 1354, 2443, 2444, 3451, 3452, 3785,\n",
       "             3786, 3787, 3788, 3833, 3834, 6044, 6045, 6046, 6047, 6895, 6896,\n",
       "             6897, 6898, 6899, 7188, 7217, 7218, 7219, 7412, 7413, 7414, 7415,\n",
       "             7416, 7813, 7814, 7815, 8376, 8933, 8934, 8935, 8936, 9090, 9091,\n",
       "             9092, 9093],\n",
       "            dtype='int64'),\n",
       " 'DPS     ': Int64Index([1026, 1027, 1028, 1625, 1626, 1654, 1655, 1656, 1657, 4241, 4242,\n",
       "             4243, 4294, 4295, 4500, 4501, 4502, 6628, 6629, 6813, 6814, 6815,\n",
       "             6816, 6817, 6818],\n",
       "            dtype='int64'),\n",
       " 'DRS     ': Int64Index([8135, 8136], dtype='int64'),\n",
       " 'DRW     ': Int64Index([3398, 3399, 3453], dtype='int64'),\n",
       " 'DSM     ': Int64Index([6935, 6936, 9235, 9399, 9400, 9401, 9402, 9403, 9404], dtype='int64'),\n",
       " 'DTW     ': Int64Index([ 109,  110,  382,  971,  972,  973,  974, 1959, 2084, 2085, 2169,\n",
       "             2170, 2898, 3032, 3033, 4204, 4205, 5149, 5150, 5222, 5223, 5397,\n",
       "             5605, 5606, 5607, 5608, 5969, 5970, 5971, 6516, 8304, 8305, 9247,\n",
       "             9730, 9731],\n",
       "            dtype='int64'),\n",
       " 'DUB     ': Int64Index([1144, 2779, 2780, 5157, 5158, 8573, 8919, 8920, 9084, 9085, 9450,\n",
       "             9451, 9452, 9453, 9758, 9759, 9760, 9761, 9762, 9763],\n",
       "            dtype='int64'),\n",
       " 'DUR     ': Int64Index([1366, 1367, 5421, 5422, 7085, 7086], dtype='int64'),\n",
       " 'DUS     ': Int64Index([1423, 2034, 2035, 2292, 2293, 2294, 2295, 2521, 2522, 2523, 2529,\n",
       "             2530, 2531, 2532, 2811, 2812, 2813, 2814, 3404, 3405, 3485, 3831,\n",
       "             3832, 4018, 4019, 6118, 6119, 6690, 6691, 9523, 9615, 9616, 9617,\n",
       "             9618, 9619, 9940, 9941, 9942],\n",
       "            dtype='int64'),\n",
       " 'DXB     ': Int64Index([ 342,  343,  344,  345,  346,  347,  348,  349,  484,  485,  486,\n",
       "              487,  488,  489,  505,  506,  507,  508,  744,  745, 1060, 1061,\n",
       "             1126, 1127, 1128, 1129, 1318, 1319, 2095, 2096, 2097, 2098, 3372,\n",
       "             3373, 3374, 3375, 4315, 4316, 4671, 4672, 5081, 5082, 5643, 5644,\n",
       "             5667, 5668, 5669, 5670, 5795, 5796, 5797, 5798, 5799, 5800, 5804,\n",
       "             5805, 5806, 5807, 6260, 6261, 6315, 6316, 6459, 6855, 6856, 7373,\n",
       "             7374, 8108, 8109, 8110, 8399, 8939, 8940, 9089, 9986, 9987, 9988,\n",
       "             9989, 9990, 9991],\n",
       "            dtype='int64'),\n",
       " 'DZA     ': Int64Index([1112, 1113, 1114, 1115, 9675, 9676], dtype='int64'),\n",
       " 'EAS     ': Int64Index([3877, 3878], dtype='int64'),\n",
       " 'EBL     ': Int64Index([1555, 2281, 2282, 2283, 2284, 2285, 2286, 2422, 2423, 3028, 3029], dtype='int64'),\n",
       " 'ECN     ': Int64Index([8056, 8057], dtype='int64'),\n",
       " 'ECP     ': Int64Index([4368, 4369, 9171, 9556], dtype='int64'),\n",
       " 'EDI     ': Int64Index([5054, 5055, 5056, 5057, 5058, 5059, 5060, 5061, 5062, 5063, 5465,\n",
       "             5466, 6689, 7681, 7682, 7683, 7684, 7685, 7686, 9067, 9068, 9069,\n",
       "             9070, 9947, 9948],\n",
       "            dtype='int64'),\n",
       " 'ELP     ': Int64Index([ 132,  133,  134,  135,  136,  137,  138,  139, 2461, 2462, 4319,\n",
       "             4320, 4321, 5801, 5802],\n",
       "            dtype='int64'),\n",
       " 'ERI     ': Int64Index([1209], dtype='int64'),\n",
       " 'ESB     ': Int64Index([1807, 7449, 7450], dtype='int64'),\n",
       " 'EVN     ': Int64Index([6819, 6820, 6821, 6822], dtype='int64'),\n",
       " 'EWN     ': Int64Index([1900], dtype='int64'),\n",
       " 'EWR     ': Int64Index([ 106,  107,  225,  226,  616,  617, 1049, 1050, 1051, 1475, 1476,\n",
       "             1477, 1478, 1479, 1480, 2148, 2181, 2182, 2542, 2617, 2618, 5155,\n",
       "             5321, 5322, 5671, 5672, 5673, 5674, 5723, 5855, 5978, 6399, 6400,\n",
       "             7386, 7387, 7388, 7389, 7610, 7611, 7856, 7857, 7939, 7940, 7941,\n",
       "             8312, 8313, 8540, 8541, 8542, 8543, 8558, 8559, 9033, 9034, 9035,\n",
       "             9036, 9260, 9261, 9262, 9263, 9563, 9564, 9739, 9740, 9874, 9875],\n",
       "            dtype='int64'),\n",
       " 'EYW     ': Int64Index([9649, 9650], dtype='int64'),\n",
       " 'EZE     ': Int64Index([ 816,  817,  818,  819, 2024, 2025, 2272, 2273, 2274, 2275, 2876,\n",
       "             2877, 2878, 3258, 3259, 6990, 6991, 7453, 7454, 7455, 7456, 7457,\n",
       "             7612, 7613, 7614, 7615, 8774, 8775, 8776, 8777, 8994],\n",
       "            dtype='int64'),\n",
       " 'EZS     ': Int64Index([3972, 3973], dtype='int64'),\n",
       " 'FAI     ': Int64Index([274, 275], dtype='int64'),\n",
       " 'FAO     ': Int64Index([322, 323, 7581], dtype='int64'),\n",
       " 'FAR     ': Int64Index([2312, 2313], dtype='int64'),\n",
       " 'FAT     ': Int64Index([4867, 7402, 7403], dtype='int64'),\n",
       " 'FAY     ': Int64Index([7120, 9597, 9598], dtype='int64'),\n",
       " 'FCA     ': Int64Index([2496], dtype='int64'),\n",
       " 'FCO     ': Int64Index([  78,   79,   80,  865,  866,  867,  868, 1406, 1407, 1408, 1409,\n",
       "             1410, 1411, 1412, 1413, 1414, 1676, 1677, 2253, 2769, 2770, 2771,\n",
       "             2883, 2884, 2885, 2886, 3264, 3265, 3412, 3413, 3414, 3672, 3673,\n",
       "             4539, 4540, 4605, 4606, 4607, 4608, 4609, 4610, 4611, 4686, 4687,\n",
       "             5083, 5084, 5295, 5819, 5820, 5821, 5822, 5823, 5824, 7336, 8133,\n",
       "             8134, 8460, 8461, 8580, 8758, 8759, 9169, 9170, 9393, 9394, 9395,\n",
       "             9557, 9558, 9888, 9889],\n",
       "            dtype='int64'),\n",
       " 'FDH     ': Int64Index([1094, 1095, 1096], dtype='int64'),\n",
       " 'FIH     ': Int64Index([5410, 5411, 5412, 5413, 5414, 5415], dtype='int64'),\n",
       " 'FLL     ': Int64Index([ 691,  913,  914,  931,  932, 1204, 1355, 1356, 1643, 1644, 3998,\n",
       "             3999, 4050, 4055, 4056, 4258, 4259, 4705, 5177, 5178, 5179, 5180,\n",
       "             5181, 5182, 5500, 5501, 5528, 5529, 6124, 6125, 6280, 6535, 6891,\n",
       "             6892, 6893, 6894, 8011, 8013, 8014, 8784, 8785, 8957, 8958, 9486,\n",
       "             9487, 9488, 9489, 9539, 9859, 9923],\n",
       "            dtype='int64'),\n",
       " 'FLN     ': Int64Index([5880, 5881], dtype='int64'),\n",
       " 'FLO     ': Int64Index([4648, 4649], dtype='int64'),\n",
       " 'FLR     ': Int64Index([1364, 1365, 2838, 3698], dtype='int64'),\n",
       " 'FNA     ': Int64Index([6248, 6249, 6250, 6251], dtype='int64'),\n",
       " 'FNC     ': Int64Index([5080, 7273, 7274], dtype='int64'),\n",
       " 'FOC     ': Int64Index([4924, 4925, 4926, 4927, 5220, 5221, 7303, 7304, 8357, 8358, 8574,\n",
       "             8575],\n",
       "            dtype='int64'),\n",
       " 'FOR     ': Int64Index([7928, 7929, 7930, 7931], dtype='int64'),\n",
       " 'FPO     ': Int64Index([9159, 9160], dtype='int64'),\n",
       " 'FRA     ': Int64Index([ 162,  163,  297,  298, 1336, 1337, 1635, 1636, 2318, 2319, 2593,\n",
       "             2594, 2759, 2760, 2761, 2762, 4195, 4196, 4197, 4198, 5050, 5051,\n",
       "             5192, 5193, 6176, 6177, 6178, 6179, 6565, 6566, 6567, 6568, 6569,\n",
       "             6570, 6571, 6572, 6994, 7277, 7278, 7279, 7329, 7330, 7783, 7784,\n",
       "             7816, 7817, 7818, 7819, 8646, 8647, 8648, 8649, 9107, 9379, 9380,\n",
       "             9381, 9382],\n",
       "            dtype='int64'),\n",
       " 'FRU     ': Int64Index([9343, 9344], dtype='int64'),\n",
       " 'FSD     ': Int64Index([6070, 6071], dtype='int64'),\n",
       " 'FSP     ': Int64Index([3671], dtype='int64'),\n",
       " 'FUE     ': Int64Index([646, 647, 648, 649], dtype='int64'),\n",
       " 'FUK     ': Int64Index([4592, 4593], dtype='int64'),\n",
       " 'FWA     ': Int64Index([7907], dtype='int64'),\n",
       " 'GAU     ': Int64Index([271, 272, 273, 6995], dtype='int64'),\n",
       " 'GCC     ': Int64Index([6005, 6006], dtype='int64'),\n",
       " 'GCM     ': Int64Index([6021, 6022, 7243, 7244], dtype='int64'),\n",
       " 'GDL     ': Int64Index([2606, 2607, 5201, 5202, 6256, 6257, 6258, 7779, 7780, 8327, 8328,\n",
       "             8329, 8330, 8331, 8332, 8333, 8334, 8335, 8336, 8921, 8922],\n",
       "            dtype='int64'),\n",
       " 'GDN     ': Int64Index([3435, 3436, 3592, 3593, 3594, 3595, 7527, 7528, 7529, 7538, 7539,\n",
       "             7732, 7733, 7734, 7735],\n",
       "            dtype='int64'),\n",
       " 'GEG     ': Int64Index([2340, 4046, 4047, 6601, 6602], dtype='int64'),\n",
       " 'GEO     ': Int64Index([2102, 2103, 2104, 2105, 2106, 2107, 7960, 7961], dtype='int64'),\n",
       " 'GFK     ': Int64Index([3674, 3675], dtype='int64'),\n",
       " 'GIG     ': Int64Index([5922, 5923, 5924, 5925, 5926, 6761, 6762, 7543, 7544, 7545, 7546,\n",
       "             9002, 9003, 9004, 9005],\n",
       "            dtype='int64'),\n",
       " 'GIZ     ': Int64Index([880, 881, 882, 883, 3096], dtype='int64'),\n",
       " 'GLA     ': Int64Index([3462, 3463, 5675, 5676, 6550, 6551], dtype='int64'),\n",
       " 'GMP     ': Int64Index([2787, 2788, 2789, 2790, 5467, 6517, 6518, 6964, 6965, 8697, 8698,\n",
       "             8699, 8700, 9651, 9972],\n",
       "            dtype='int64'),\n",
       " 'GNV     ': Int64Index([3852], dtype='int64'),\n",
       " 'GOA     ': Int64Index([5896, 5897, 5898, 5899, 5900, 5901, 5902, 5903, 5904, 5905], dtype='int64'),\n",
       " 'GOJ     ': Int64Index([5285, 5286, 5287, 5288], dtype='int64'),\n",
       " 'GOT     ': Int64Index([2022, 2023, 2382, 2383, 7421, 7422], dtype='int64'),\n",
       " 'GPT     ': Int64Index([3695, 3696, 3697, 9117, 9118], dtype='int64'),\n",
       " 'GRB     ': Int64Index([2171, 2172, 2173, 2174, 4388, 4389, 4390, 4391, 8147, 8788], dtype='int64'),\n",
       " 'GRR     ': Int64Index([2573, 2574, 3023, 3024, 3025, 6833, 6834, 6835, 8701, 9291, 9292,\n",
       "             9293, 9294, 9295, 9296, 9297, 9298, 9299],\n",
       "            dtype='int64'),\n",
       " 'GRU     ': Int64Index([ 565,  566,  933,  934,  935,  936,  937,  938, 1399, 1400, 1401,\n",
       "             1402, 2850, 2851, 3248, 3249, 3250, 3251, 3721, 3722, 3723, 3724,\n",
       "             3725, 3726, 3727, 3728, 3729, 3730, 4011, 4012, 4565, 4566, 5876,\n",
       "             5877, 5878, 5879, 7033, 7034, 8046, 8047, 8763, 8764, 8765, 8766,\n",
       "             8819, 9300, 9301, 9302],\n",
       "            dtype='int64'),\n",
       " 'GSP     ': Int64Index([2352, 2353, 2354, 2355, 2714, 2715, 2868, 2869, 4428, 4429, 4430,\n",
       "             9826, 9827, 9828, 9829],\n",
       "            dtype='int64'),\n",
       " 'GTF     ': Int64Index([3068, 3069, 9184, 9185, 9186, 9187, 9188, 9189], dtype='int64'),\n",
       " 'GUA     ': Int64Index([1109, 1110, 2384, 2385, 5423, 5424, 5425, 5426, 5427, 6112, 6113,\n",
       "             6114, 6115, 6116, 6117, 6356, 6638, 6639, 6640, 6641, 6642, 6643,\n",
       "             7436, 7437],\n",
       "            dtype='int64'),\n",
       " 'GUM     ': Int64Index([ 339,  692, 1016, 1017, 1824, 1825, 2490, 2491, 2492, 2493, 3326,\n",
       "             3327, 3328, 3329, 3330, 3331, 3332, 3333, 5164, 5165],\n",
       "            dtype='int64'),\n",
       " 'GVA     ': Int64Index([1140, 1141, 1142, 1143, 1145, 1146, 1147, 1148, 2032, 2033, 2795,\n",
       "             2796, 2797, 2798, 3410, 3411, 6233, 6234, 6235, 6236, 6594, 6669,\n",
       "             6670, 6671, 6672, 9626, 9627],\n",
       "            dtype='int64'),\n",
       " 'GYD     ': Int64Index([8207, 8208, 8209, 8210], dtype='int64'),\n",
       " 'GYE     ': Int64Index([1580, 1581, 3894, 3895, 5833, 5834, 6200, 6201, 6345, 7189, 7190,\n",
       "             7191, 7192, 8087, 8088],\n",
       "            dtype='int64'),\n",
       " 'GZP     ': Int64Index([7025, 7026], dtype='int64'),\n",
       " 'HAJ     ': Int64Index([2448, 6307, 6308, 8316, 8317], dtype='int64'),\n",
       " 'HAK     ': Int64Index([8341, 8342, 8343, 8344, 8345, 8346], dtype='int64'),\n",
       " 'HAM     ': Int64Index([1118, 1586, 2012, 2013, 2126, 2127, 2260, 3428, 5389, 8254, 8255], dtype='int64'),\n",
       " 'HAN     ': Int64Index([3078, 9734, 9735, 9736, 9737, 9994, 9995, 9996], dtype='int64'),\n",
       " 'HAV     ': Int64Index([95, 96, 97, 98, 6155, 6156, 6217, 6218, 6536, 6537, 7481, 7482], dtype='int64'),\n",
       " 'HBA     ': Int64Index([8743, 8744, 8745, 8746, 8747, 8748], dtype='int64'),\n",
       " 'HBE     ': Int64Index([2001, 2002, 2003, 3252, 3602, 3603, 3860, 3861], dtype='int64'),\n",
       " 'HDY     ': Int64Index([1194], dtype='int64'),\n",
       " 'HEL     ': Int64Index([2135, 2136, 2137, 2138, 3394, 3395, 3396, 3397, 4664, 8167, 8168,\n",
       "             9938, 9939],\n",
       "            dtype='int64'),\n",
       " 'HER     ': Int64Index([900, 901, 3945, 4985, 6582, 6583, 7860, 7861], dtype='int64'),\n",
       " 'HFE     ': Int64Index([4314], dtype='int64'),\n",
       " 'HGH     ': Int64Index([2589, 2590], dtype='int64'),\n",
       " 'HHH     ': Int64Index([9544], dtype='int64'),\n",
       " 'HKG     ': Int64Index([ 233,  234,  473,  474, 1163, 1164, 1539, 1540, 1541, 1542,\n",
       "             ...\n",
       "             8740, 9364, 9365, 9440, 9441, 9442, 9679, 9680, 9834, 9835],\n",
       "            dtype='int64', length=122),\n",
       " 'HKT     ': Int64Index([2276, 2277, 3275, 3276, 5067, 5068, 5069, 5070, 5071, 5072, 5073,\n",
       "             5074, 5075, 5236, 5237, 5238, 5239, 5240, 5241, 5242, 5243, 5244,\n",
       "             5245, 5246, 5247, 5248, 5249, 7105, 7106, 7107, 8349, 8350, 8351,\n",
       "             8352, 8353, 8354, 8355, 8356, 8779, 8780, 8781, 9319, 9320],\n",
       "            dtype='int64'),\n",
       " 'HLA     ': Int64Index([6811, 6812, 8149], dtype='int64'),\n",
       " 'HMO     ': Int64Index([140, 5864, 5865], dtype='int64'),\n",
       " 'HNL     ': Int64Index([ 441,  442,  443,  444, 1174, 1175, 1253, 1734, 1735, 1736, 1815,\n",
       "             1816, 2925, 2926, 4360, 4742, 4743, 5163, 5274, 5756, 5757, 5758,\n",
       "             6259, 6740, 7234, 7235, 7488, 7489, 8282, 8283, 8284, 8285, 8286,\n",
       "             8287, 8534, 8544, 8545, 8602, 8603, 9105, 9106, 9748, 9749, 9822,\n",
       "             9823],\n",
       "            dtype='int64'),\n",
       " 'HOU     ': Int64Index([8219], dtype='int64'),\n",
       " 'HPN     ': Int64Index([5445], dtype='int64'),\n",
       " 'HRG     ': Int64Index([7066, 7067], dtype='int64'),\n",
       " 'HRK     ': Int64Index([5706, 5707], dtype='int64'),\n",
       " 'HUX     ': Int64Index([2585, 2586], dtype='int64'),\n",
       " 'HYD     ': Int64Index([1428, 1429, 1430, 1431, 2045, 2046, 2047, 2048, 4101, 4102, 4121,\n",
       "             4122, 4123, 8686, 8687, 8688, 8689, 9788],\n",
       "            dtype='int64'),\n",
       " 'IAD     ': Int64Index([1689, 1690, 1691, 1692, 1693, 1694, 1695, 1696, 1697, 1698, 1699,\n",
       "             1700, 2051, 2052, 2945, 2946, 3544, 3545, 3546, 3547, 4296, 4377,\n",
       "             4378, 4644, 4645, 4799, 4800, 5549, 5550, 5835, 5836, 5837, 5838,\n",
       "             5844, 5845, 5888, 8388, 8389, 8824, 8917, 8918, 8969, 9466, 9467,\n",
       "             9468],\n",
       "            dtype='int64'),\n",
       " 'IAH     ': Int64Index([1524, 1608, 1609, 1610, 1611, 1612, 1613, 1716, 1717, 2099, 2164,\n",
       "             2581, 2582, 2583, 2584, 2591, 2592, 2610, 2611, 2938, 3055, 3056,\n",
       "             3220, 3221, 3619, 3620, 3621, 3813, 4027, 4028, 4029, 4030, 4031,\n",
       "             4124, 4125, 4362, 4363, 4381, 4382, 5043, 5364, 5365, 5366, 5367,\n",
       "             5368, 5369, 5370, 5371, 5372, 5458, 5684, 6264, 6265, 8466, 8467,\n",
       "             8627, 9268, 9269, 9532, 9533, 9534, 9588],\n",
       "            dtype='int64'),\n",
       " 'IAS     ': Int64Index([1507, 1508, 1509], dtype='int64'),\n",
       " 'IBZ     ': Int64Index([5373, 5374, 5375, 5376], dtype='int64'),\n",
       " 'ICN     ': Int64Index([ 517,  518,  519,  520, 1257, 1578, 1579, 1956, 1957, 1969, 1970,\n",
       "             1971, 2004, 2005, 2705, 2706, 2707, 2915, 2916, 2917, 2918, 2989,\n",
       "             2990, 3235, 3236, 3237, 3238, 3380, 3693, 3694, 3896, 3897, 4128,\n",
       "             4129, 4130, 4131, 4132, 4133, 4515, 4516, 4815, 4816, 4817, 4818,\n",
       "             4819, 4884, 4885, 4886, 4887, 4888, 5186, 5187, 5188, 5189, 5261,\n",
       "             5262, 5689, 5690, 6794, 6795, 7445, 7446, 7447, 7448, 7602, 7603,\n",
       "             7738, 7739, 7740, 7741, 7742, 7743, 8145, 8146, 8257, 8258, 9953,\n",
       "             9954],\n",
       "            dtype='int64'),\n",
       " 'ICT     ': Int64Index([4807, 9957, 9958], dtype='int64'),\n",
       " 'IDR     ': Int64Index([1370], dtype='int64'),\n",
       " 'IGU     ': Int64Index([5600], dtype='int64'),\n",
       " 'IKA     ': Int64Index([5533, 5534, 5535, 5536, 8489, 8490, 9657, 9658], dtype='int64'),\n",
       " 'IKT     ': Int64Index([8898, 8899], dtype='int64'),\n",
       " 'ILM     ': Int64Index([7637, 7638, 7639, 7640, 7641, 7642, 7643, 7644], dtype='int64'),\n",
       " 'IND     ': Int64Index([ 750,  751,  752, 1740, 1741, 1742, 1743, 2451, 2548, 4053, 4054,\n",
       "             8215, 8216, 8296, 8297, 8390, 8391, 8451, 8452, 8583, 8584, 8585],\n",
       "            dtype='int64'),\n",
       " 'IQQ     ': Int64Index([1866, 1867, 1868, 1869], dtype='int64'),\n",
       " 'ISB     ': Int64Index([153, 154, 155, 156], dtype='int64'),\n",
       " 'ISN     ': Int64Index([1525, 1526, 1527, 1528, 5433, 5434], dtype='int64'),\n",
       " 'IST     ': Int64Index([ 148,  235,  236,  650,  651,  955,  956, 1062, 1189, 1190,\n",
       "             ...\n",
       "             9566, 9567, 9568, 9569, 9570, 9571, 9572, 9573, 9574, 9575],\n",
       "            dtype='int64', length=118),\n",
       " 'ISU     ': Int64Index([635, 636, 637, 638, 639, 640], dtype='int64'),\n",
       " 'ITM     ': Int64Index([8634, 8635], dtype='int64'),\n",
       " 'IVL     ': Int64Index([7976], dtype='int64'),\n",
       " 'IXB     ': Int64Index([8140], dtype='int64'),\n",
       " 'IXC     ': Int64Index([1754, 1755], dtype='int64'),\n",
       " 'IXE     ': Int64Index([256, 257, 258, 259, 260, 261, 2662, 2663, 2664, 2665, 2666, 2667,\n",
       "             8371, 8660],\n",
       "            dtype='int64'),\n",
       " 'IXZ     ': Int64Index([5283, 5284], dtype='int64'),\n",
       " 'JAC     ': Int64Index([307, 395, 396, 436, 1264, 1265], dtype='int64'),\n",
       " 'JAN     ': Int64Index([6229, 6230, 7616, 8607], dtype='int64'),\n",
       " 'JAX     ': Int64Index([ 975,  976,  977,  978, 1520, 1521, 1522, 1523, 2481, 2482, 3415,\n",
       "             4119, 4120, 4416, 4417, 5593, 5594, 5866, 6752, 6753, 7035, 7036,\n",
       "             7037, 7038, 7039, 7040, 8767, 8768, 8769, 8770, 9750, 9751],\n",
       "            dtype='int64'),\n",
       " 'JDH     ': Int64Index([4457, 4458], dtype='int64'),\n",
       " 'JED     ': Int64Index([ 268,  269,  309,  310,  311,  312,  707,  896,  897,  898,  899,\n",
       "             1119, 1120, 1121, 2376, 2377, 2408, 2409, 2509, 2911, 2912, 2913,\n",
       "             2914, 3873, 3874, 4582, 4583, 4633, 4679, 4680, 4681, 4903, 4904,\n",
       "             4905, 5085, 5086, 5087, 5088, 5293, 5294, 5386, 5468, 5469, 5470,\n",
       "             6054, 6055, 6066, 6067, 6708, 6709, 6710, 6711, 6712, 6713, 6714,\n",
       "             6715, 6716, 6717, 7718, 7719, 7720, 7721, 7874, 7875, 7876, 7966,\n",
       "             7967, 7968, 7969, 8078, 8079, 8080, 8081, 8082, 8083, 9137, 9172,\n",
       "             9173, 9174, 9175, 9411, 9412, 9413, 9414, 9417, 9418, 9419, 9420],\n",
       "            dtype='int64'),\n",
       " 'JFK     ': Int64Index([ 597,  598,  712,  713,  871,  872,  873,  874,  875,  876,\n",
       "             ...\n",
       "             9724, 9725, 9789, 9790, 9791, 9792, 9793, 9870, 9871, 9966],\n",
       "            dtype='int64', length=175),\n",
       " 'JJN     ': Int64Index([4364, 4365, 4366, 4367], dtype='int64'),\n",
       " 'JKH     ': Int64Index([1018], dtype='int64'),\n",
       " 'JLN     ': Int64Index([1918, 1919], dtype='int64'),\n",
       " 'JNB     ': Int64Index([ 965,  966, 1074, 1075, 1684, 1685, 1889, 1890, 2677, 2678, 2679,\n",
       "             2680, 2681, 2682, 2683, 2684, 2685, 2686, 2687, 2688, 2689, 2690,\n",
       "             2691, 2692, 4696, 5627, 5628, 5808, 5809, 5810, 5811, 6302, 6303,\n",
       "             6962, 6963, 7348, 7349, 7354, 7355, 7356, 7357, 7438, 7439, 7484,\n",
       "             7485, 7781, 7782, 8006],\n",
       "            dtype='int64'),\n",
       " 'JNU     ': Int64Index([2411, 2412, 2413, 2414, 2415, 2416, 2417, 2418], dtype='int64'),\n",
       " 'JRO     ': Int64Index([2374, 6825, 6826, 6827, 6828, 6829, 6830, 6831, 6832], dtype='int64'),\n",
       " 'JST     ': Int64Index([4065, 4066], dtype='int64'),\n",
       " 'JYV     ': Int64Index([6878, 6879], dtype='int64'),\n",
       " 'KBL     ': Int64Index([6082, 6083, 6084, 6085], dtype='int64'),\n",
       " 'KBP     ': Int64Index([1935, 1936, 2120, 2121, 5677, 5678, 6870, 7097, 7098, 7099, 7100,\n",
       "             9599, 9600, 9743, 9744],\n",
       "            dtype='int64'),\n",
       " 'KEF     ': Int64Index([8650, 8651], dtype='int64'),\n",
       " 'KGD     ': Int64Index([3924, 3925], dtype='int64'),\n",
       " 'KGI     ': Int64Index([7924, 7925], dtype='int64'),\n",
       " 'KGS     ': Int64Index([3048], dtype='int64'),\n",
       " 'KHI     ': Int64Index([ 850,  851, 4906, 4907, 5471, 6052, 6053, 6056, 6057, 8324, 8986,\n",
       "             8987, 9528, 9529, 9530, 9531],\n",
       "            dtype='int64'),\n",
       " 'KIN     ': Int64Index([1501, 1502, 7254, 8725, 8726, 9469, 9470], dtype='int64'),\n",
       " 'KIV     ': Int64Index([364, 365, 366, 367, 7263, 7264, 7265, 7266], dtype='int64'),\n",
       " 'KIX     ': Int64Index([2446, 2447, 2846, 2847, 2848, 2849, 4941, 4942, 6157, 6158, 6159,\n",
       "             6160, 6290, 6291, 6420, 6421, 7124, 7125, 7337, 7338, 7339, 7340,\n",
       "             8290, 8291],\n",
       "            dtype='int64'),\n",
       " 'KLX     ': Int64Index([1139, 1332, 1333, 1334], dtype='int64'),\n",
       " 'KOA     ': Int64Index([1023, 1791, 1792, 3040, 3041, 3042, 3043, 4948, 4949, 8462, 8463], dtype='int64'),\n",
       " 'KRK     ': Int64Index([5122, 5123], dtype='int64'),\n",
       " 'KSM     ': Int64Index([7238, 7239, 7240], dtype='int64'),\n",
       " 'KSN     ': Int64Index([1686, 1687, 1688], dtype='int64'),\n",
       " 'KTM     ': Int64Index([2843, 6787, 6788], dtype='int64'),\n",
       " 'KTN     ': Int64Index([9593, 9594], dtype='int64'),\n",
       " 'KUL     ': Int64Index([ 451,  452,  453,  454,  610,  611, 2201, 2202, 2634, 2635, 2636,\n",
       "             2637, 2638, 3667, 3868, 3869, 3870, 3871, 4095, 4096, 4148, 4459,\n",
       "             4460, 4461, 4462, 4463, 4464, 4465, 4466, 4765, 5000, 5001, 5030,\n",
       "             5031, 5032, 5033, 7211, 7212, 7213, 7214, 7215, 7216, 8377, 8378,\n",
       "             8379, 8380, 8546, 8547, 8548, 8549, 8550, 8551, 9510, 9511, 9512,\n",
       "             9513],\n",
       "            dtype='int64'),\n",
       " 'KWI     ': Int64Index([2432, 2656, 2657, 2658, 2659, 3872, 4960, 4961, 6199, 6805, 6806,\n",
       "             6807, 6808, 9368, 9804, 9805],\n",
       "            dtype='int64'),\n",
       " 'KWL     ': Int64Index([7112, 7113], dtype='int64'),\n",
       " 'KYA     ': Int64Index([7261, 7262], dtype='int64'),\n",
       " 'LAO     ': Int64Index([641], dtype='int64'),\n",
       " 'LAS     ': Int64Index([ 141,  142,  445,  446,  590,  591,  768,  769,  806,  807,\n",
       "             ...\n",
       "             8488, 8578, 9201, 9202, 9203, 9356, 9357, 9726, 9727, 9844],\n",
       "            dtype='int64', length=107),\n",
       " 'LAX     ': Int64Index([ 197,  198,  199,  200,  201,  202,  203,  204,  205,  206,\n",
       "             ...\n",
       "             9022, 9023, 9537, 9538, 9838, 9839, 9866, 9867, 9913, 9914],\n",
       "            dtype='int64', length=202),\n",
       " 'LBV     ': Int64Index([8868, 8869, 8870, 8871], dtype='int64'),\n",
       " 'LCA     ': Int64Index([157, 7136, 8858, 9251, 9252, 9253, 9254], dtype='int64'),\n",
       " 'LCG     ': Int64Index([2545, 2546, 2547, 3956, 3959, 3960], dtype='int64'),\n",
       " 'LCY     ': Int64Index([187, 188, 1998, 2743, 3350, 3351, 8778], dtype='int64'),\n",
       " 'LED     ': Int64Index([44, 316, 317, 318, 319, 1460, 2977, 2978, 4443, 4444, 4789, 8072,\n",
       "             8073, 9665],\n",
       "            dtype='int64'),\n",
       " 'LEX     ': Int64Index([7933, 7934, 8038, 8039, 8040, 8041], dtype='int64'),\n",
       " 'LFT     ': Int64Index([6487, 6488, 6489], dtype='int64'),\n",
       " 'LGA     ': Int64Index([   5,    6,  122,  123,  191,  431,  464,  465,  469,  470,\n",
       "             ...\n",
       "             9576, 9577, 9589, 9590, 9832, 9833, 9903, 9904, 9905, 9906],\n",
       "            dtype='int64', length=150),\n",
       " 'LGB     ': Int64Index([8848, 8849], dtype='int64'),\n",
       " 'LGW     ': Int64Index([1116, 1117, 4612, 4613, 7316, 7317, 7377, 7378, 8158, 8159], dtype='int64'),\n",
       " 'LHE     ': Int64Index([1999, 2000, 7769, 7770, 7771, 7772], dtype='int64'),\n",
       " 'LHR     ': Int64Index([   0,  158,  159,  160,  161,  350,  351,  844,  845,  869,\n",
       "             ...\n",
       "             9845, 9846, 9898, 9899, 9900, 9901, 9977, 9978, 9979, 9980],\n",
       "            dtype='int64', length=212),\n",
       " 'LIG     ': Int64Index([7101, 7102], dtype='int64'),\n",
       " 'LIH     ': Int64Index([3143, 3144, 3343, 3344, 3345, 3346, 4528, 5401, 5402, 5403, 5404,\n",
       "             6974, 6975, 6976],\n",
       "            dtype='int64'),\n",
       " 'LIL     ': Int64Index([6875], dtype='int64'),\n",
       " 'LIM     ': Int64Index([ 525,  526,  560,  561,  562,  563,  852,  853,  854,  855,  856,\n",
       "              857,  858,  859, 1705, 1706, 4716, 4717, 4718, 4783, 4784, 4813,\n",
       "             4814, 6538, 6539, 7584, 7585, 7586, 7587, 9315, 9316, 9317, 9318,\n",
       "             9911, 9912],\n",
       "            dtype='int64'),\n",
       " 'LIN     ': Int64Index([ 654,  655, 1883, 1884, 1885, 1886, 3268, 3269, 3270, 3271, 3712,\n",
       "             3713, 3718, 3719, 3824, 3825, 9711, 9712, 9713, 9714],\n",
       "            dtype='int64'),\n",
       " 'LIR     ': Int64Index([211, 788, 789, 4370, 4371, 4646, 4647, 5428, 5429, 7116, 7117], dtype='int64'),\n",
       " 'LIS     ': Int64Index([  45,   46,   47,   48,  270,  916,  917, 3550, 3551, 3552, 3553,\n",
       "             3554, 3555, 3556, 4761, 4762, 5012, 5013, 5014, 5015, 5650, 5651,\n",
       "             6309, 6310, 6311, 6312, 6313, 6314, 6868, 6869, 8127, 9786, 9787],\n",
       "            dtype='int64'),\n",
       " 'LIT     ': Int64Index([295, 296, 4495, 4496, 5989, 5990], dtype='int64'),\n",
       " 'LJU     ': Int64Index([7223, 7224], dtype='int64'),\n",
       " 'LKO     ': Int64Index([4016, 4017, 4467, 9798, 9799, 9800, 9801], dtype='int64'),\n",
       " 'LOS     ': Int64Index([753, 754, 755, 2516, 3243, 3244, 3245, 3246, 4603, 4604, 5950,\n",
       "             5951],\n",
       "            dtype='int64'),\n",
       " 'LPA     ': Int64Index([3222, 3223, 3224, 3225], dtype='int64'),\n",
       " 'LRT     ': Int64Index([3766], dtype='int64'),\n",
       " 'LSE     ': Int64Index([1213, 1214, 1215, 1216], dtype='int64'),\n",
       " 'LTN     ': Int64Index([2503, 2504, 3776, 3777, 7531], dtype='int64'),\n",
       " 'LUG     ': Int64Index([4262, 4263], dtype='int64'),\n",
       " 'LUO     ': Int64Index([5803], dtype='int64'),\n",
       " 'LYR     ': Int64Index([245, 246, 247, 248, 6911, 6912, 6913, 6914, 6915, 6916], dtype='int64'),\n",
       " 'LYS     ': Int64Index([6262, 6263, 6992, 6993], dtype='int64'),\n",
       " 'MAA     ': Int64Index([ 703,  704,  705,  706, 2826, 2827, 5661, 7029, 7030, 7596, 7597,\n",
       "             7598, 7599, 7809, 7810, 7811, 7812, 8169, 8325, 8326, 9932, 9933],\n",
       "            dtype='int64'),\n",
       " 'MAD     ': Int64Index([ 462, 1161, 1162, 1342, 1343, 2198, 2199, 3763, 3939, 3940, 3957,\n",
       "             3958, 4795, 4796, 4797, 4798, 5026, 5027, 5046, 5047, 5048, 5049,\n",
       "             5702, 5703, 5718, 6346, 6347, 7432, 7433, 8171, 8172, 8359, 8360,\n",
       "             8502, 8503, 9802, 9803, 9808, 9809],\n",
       "            dtype='int64'),\n",
       " 'MAF     ': Int64Index([3303, 3304], dtype='int64'),\n",
       " 'MAN     ': Int64Index([ 535,  536, 1558, 1559, 1560, 1561, 2543, 2544, 2569, 2570, 2571,\n",
       "             2572, 3021, 3022, 3914, 3915, 3916, 3917, 4667, 4668, 4669, 4670,\n",
       "             4882, 4883, 6873, 6874, 7853, 8182, 8183, 8184, 8185, 8231, 8232],\n",
       "            dtype='int64'),\n",
       " 'MAO     ': Int64Index([5921, 7343, 7344, 7345, 7346, 7347, 7668, 7669, 7670], dtype='int64'),\n",
       " 'MAR     ': Int64Index([4402, 4403, 4596, 4597], dtype='int64'),\n",
       " 'MBA     ': Int64Index([4614, 4615, 4616, 4617, 4618, 4619, 4620, 4621, 8854, 8855, 9383,\n",
       "             9384, 9385, 9386, 9387, 9388],\n",
       "            dtype='int64'),\n",
       " 'MBJ     ': Int64Index([1622, 1623, 3935, 3936, 3937, 3938, 3976, 3977, 3978, 3979, 5038,\n",
       "             5039, 6288, 6289, 7341, 7342, 7736, 7737, 8121, 8122, 8961, 8962],\n",
       "            dtype='int64'),\n",
       " 'MCI     ': Int64Index([ 215,  216,  834,  835, 2088, 2089, 2224, 2225, 2226, 2227, 2785,\n",
       "             2786, 2804, 2805, 2806, 2807, 4706, 4707, 4834, 4835, 5328, 5329,\n",
       "             5526, 5527, 6231, 6232, 7295, 7296, 7297, 7298, 7299, 7728, 7729,\n",
       "             9728, 9729, 9907],\n",
       "            dtype='int64'),\n",
       " 'MCO     ': Int64Index([ 180,  181,  495,  496,  537,  538,  539,  540,  541,  542,\n",
       "             ...\n",
       "             9176, 9177, 9199, 9200, 9332, 9333, 9334, 9335, 9880, 9881],\n",
       "            dtype='int64', length=121),\n",
       " 'MCT     ': Int64Index([848, 849, 3359, 8982, 8983, 9366, 9367], dtype='int64'),\n",
       " 'MDE     ': Int64Index([2122, 2123, 2124, 2125, 4410, 4411, 4412, 5523, 7156, 8125, 8126], dtype='int64'),\n",
       " 'MDT     ': Int64Index([5040], dtype='int64'),\n",
       " 'MDW     ': Int64Index([4658, 4659, 4950, 4951, 5342, 5360, 5361, 5987, 9061, 9062], dtype='int64'),\n",
       " 'MDZ     ': Int64Index([627, 820, 821, 822, 6682, 6683], dtype='int64'),\n",
       " 'MED     ': Int64Index([556, 557, 9250], dtype='int64'),\n",
       " 'MEL     ': Int64Index([ 492,  493,  592,  593, 1835, 1836, 1837, 1838, 1839, 1840, 2203,\n",
       "             2204, 2205, 2251, 2252, 3128, 3129, 3130, 3131, 3132, 3133, 3134,\n",
       "             3135, 3136, 3137, 3138, 3139, 3140, 3141, 3142, 4291, 4292, 4293,\n",
       "             5485, 6840, 6841, 8741, 8742],\n",
       "            dtype='int64'),\n",
       " 'MEM     ': Int64Index([ 998,  999, 2308, 2309, 2479, 2480, 2716, 2717, 3313, 3314, 3315,\n",
       "             3508, 4469, 4470, 4471, 4472, 4473, 4474, 4914, 7267, 7268, 8278,\n",
       "             8279, 8526, 8527, 8528, 8529],\n",
       "            dtype='int64'),\n",
       " 'MEX     ': Int64Index([ 104,  276,  277,  612,  613,  614,  615,  840,  841,  842,  843,\n",
       "             1185, 1186, 1187, 1188, 1780, 1781, 1782, 1783, 1784, 1785, 1786,\n",
       "             1787, 1937, 1938, 2108, 2109, 2893, 2894, 2895, 2896, 2897, 3107,\n",
       "             4420, 4421, 4919, 4920, 5733, 5734, 5840, 5841, 6782, 6783, 6784,\n",
       "             7147, 7148, 7247, 7248, 7898, 8292, 8293, 8294, 8295, 9150, 9161,\n",
       "             9162, 9195, 9196, 9197, 9198],\n",
       "            dtype='int64'),\n",
       " 'MFR     ': Int64Index([7476, 7477, 9849, 9850, 9851, 9852], dtype='int64'),\n",
       " 'MGA     ': Int64Index([3468, 3469, 3470, 3471, 4952, 4953, 4954, 4955, 5036, 5037, 8111,\n",
       "             8314, 8315],\n",
       "            dtype='int64'),\n",
       " 'MGW     ': Int64Index([823, 824, 825, 826, 827, 828], dtype='int64'),\n",
       " 'MHT     ': Int64Index([1031, 1032, 1033, 1034, 1035, 1036, 1819, 1820, 1821, 1822, 1823,\n",
       "             6018],\n",
       "            dtype='int64'),\n",
       " 'MIA     ': Int64Index([ 213,  214,  596,  673,  674,  812,  813,  814,  815,  830,\n",
       "             ...\n",
       "             8206, 8808, 8809, 9030, 9031, 9032, 9287, 9288, 9345, 9443],\n",
       "            dtype='int64', length=109),\n",
       " 'MID     ': Int64Index([3105, 3106], dtype='int64'),\n",
       " 'MIR     ': Int64Index([2039, 2040], dtype='int64'),\n",
       " 'MKE     ': Int64Index([1859, 1860, 2183, 2830, 3913, 4787, 5204, 5259, 5260, 5886, 5887,\n",
       "             8245, 8522, 8523, 8524, 8525],\n",
       "            dtype='int64'),\n",
       " 'MKG     ': Int64Index([3426, 3427], dtype='int64'),\n",
       " 'MLA     ': Int64Index([4599, 4600, 4601, 4602, 4759, 4760], dtype='int64'),\n",
       " 'MLB     ': Int64Index([4936, 4937], dtype='int64'),\n",
       " 'MLE     ': Int64Index([5171, 5279, 5280], dtype='int64'),\n",
       " 'MLI     ': Int64Index([2966, 2967, 2968, 2969, 5400, 7717], dtype='int64'),\n",
       " 'MLX     ': Int64Index([628, 629, 630], dtype='int64'),\n",
       " 'MME     ': Int64Index([1770, 1771, 4523, 4524, 4525, 4526, 4527], dtype='int64'),\n",
       " 'MNL     ': Int64Index([  59,   60,   61,   62,   63,   64,  642,  643,  701,  702,\n",
       "             ...\n",
       "             8631, 8692, 8963, 8964, 9582, 9583, 9584, 9585, 9892, 9893],\n",
       "            dtype='int64', length=129),\n",
       " 'MOB     ': Int64Index([3418, 3419], dtype='int64'),\n",
       " 'MPM     ': Int64Index([3829, 3830], dtype='int64'),\n",
       " 'MQN     ': Int64Index([266, 267], dtype='int64'),\n",
       " 'MRS     ': Int64Index([ 249,  250,  251,  252,  253,  254,  918,  939,  940, 2239, 2240,\n",
       "             4324, 4325, 9216, 9217, 9983],\n",
       "            dtype='int64'),\n",
       " 'MRU     ': Int64Index([9810, 9811], dtype='int64'),\n",
       " 'MRV     ': Int64Index([7334, 7335], dtype='int64'),\n",
       " 'MRY     ': Int64Index([5569, 5570, 5571, 5572, 6221, 6222, 7623, 7624, 8469, 8470], dtype='int64'),\n",
       " 'MSN     ': Int64Index([992, 993, 994, 995, 1633, 1634, 3089, 3090, 3091, 5547, 5548, 5759,\n",
       "             5760, 9918],\n",
       "            dtype='int64'),\n",
       " 'MSO     ': Int64Index([578, 579, 2184, 2185], dtype='int64'),\n",
       " 'MSP     ': Int64Index([2970, 3077, 3767, 3768, 4383, 4453, 4454, 5786, 5787, 5812, 5813,\n",
       "             6192, 6193, 6403, 6404, 8229, 8230, 8475, 8476, 8518, 8519, 8706,\n",
       "             8707, 8708, 8709, 8710, 8711, 8712, 8713, 8840, 8841, 9741, 9742,\n",
       "             9754, 9755],\n",
       "            dtype='int64'),\n",
       " 'MSQ     ': Int64Index([6665, 6666, 6667, 6668], dtype='int64'),\n",
       " 'MSU     ': Int64Index([6299, 6300, 6301], dtype='int64'),\n",
       " 'MSY     ': Int64Index([ 475,  476, 1183, 1184, 1793, 1794, 1795, 1796, 3059, 3543, 3654,\n",
       "             3655, 3732, 4026, 6521, 6522, 6523, 6524, 6765, 6766, 6767, 6768,\n",
       "             7486, 7487, 8600, 8601, 9872, 9873],\n",
       "            dtype='int64'),\n",
       " 'MTR     ': Int64Index([8093, 8094], dtype='int64'),\n",
       " 'MTY     ': Int64Index([7108, 7109], dtype='int64'),\n",
       " 'MUC     ': Int64Index([ 290,  708,  709, 1285, 1286, 1933, 1934, 2430, 2431, 2791, 2792,\n",
       "             2793, 2794, 3357, 3358, 4192, 4193, 4221, 4222, 4223, 4224, 4225,\n",
       "             4226, 5419, 5420, 5591, 5592, 5761, 5762, 6319, 6320, 7269, 7270,\n",
       "             7417, 7418, 7419, 7420, 7625, 7626, 7627, 7628, 8128, 8129, 8130,\n",
       "             8131, 8320, 8321, 9703, 9704, 9705, 9706, 9707, 9708],\n",
       "            dtype='int64'),\n",
       " 'MVD     ': Int64Index([84, 1357, 1358, 6413, 6414, 6415, 6416], dtype='int64'),\n",
       " 'MXP     ': Int64Index([1294, 1295, 1373, 1374, 1375, 1376, 2497, 2498, 4790, 4791, 5775,\n",
       "             5776, 6937, 6938, 7157, 7158, 7206, 7207, 7208, 7209, 7210, 7677,\n",
       "             7678, 8666, 8667, 8668, 8669],\n",
       "            dtype='int64'),\n",
       " 'MYR     ': Int64Index([2484, 2485, 3735, 3736, 8367], dtype='int64'),\n",
       " 'NAG     ': Int64Index([8811], dtype='int64'),\n",
       " 'NAN     ': Int64Index([7275, 7276, 9214, 9215], dtype='int64'),\n",
       " 'NAP     ': Int64Index([2388, 2389, 2390, 2391, 2821, 2822, 8773, 8972, 9389, 9390, 9391,\n",
       "             9392],\n",
       "            dtype='int64'),\n",
       " 'NAS     ': Int64Index([ 466,  467,  660,  661,  710,  711,  860,  861,  862,  863, 5173,\n",
       "             5174, 7472, 7473, 7474, 7475, 7710, 7711, 7921, 7922, 9814, 9815],\n",
       "            dtype='int64'),\n",
       " 'NBC     ': Int64Index([7604, 7605], dtype='int64'),\n",
       " 'NBO     ': Int64Index([ 545,  546,  547, 2600, 2601, 3862, 3966, 3967, 3968, 3969, 5972,\n",
       "             5973, 7027, 7444, 9843],\n",
       "            dtype='int64'),\n",
       " 'NCE     ': Int64Index([1864, 1865, 2298, 2299, 3112, 4876, 4877, 5028, 5029, 6675, 7092,\n",
       "             7877, 7878, 7926, 7927],\n",
       "            dtype='int64'),\n",
       " 'NCL     ': Int64Index([9715], dtype='int64'),\n",
       " 'NGB     ': Int64Index([8941, 8942, 8943, 8944, 8945, 8946, 8947, 9236, 9237, 9238, 9239,\n",
       "             9240],\n",
       "            dtype='int64'),\n",
       " 'NOS     ': Int64Index([5657, 5658, 5659, 5660], dtype='int64'),\n",
       " 'NPL     ': Int64Index([9059, 9060], dtype='int64'),\n",
       " 'NRT     ': Int64Index([  99,  953,  954, 1088, 1089, 1876, 1877, 2648, 3477, 3478, 4346,\n",
       "             4347, 4348, 4349, 4350, 4584, 4585, 4586, 4587, 4588, 4589, 4590,\n",
       "             4591, 6603, 6604, 6605, 6606, 6632, 6633, 7358, 7359, 8074, 8075,\n",
       "             8554, 8555, 8693, 8694, 9642, 9857, 9858, 9973, 9974, 9975, 9976],\n",
       "            dtype='int64'),\n",
       " 'NSI     ': Int64Index([5814, 5815, 6527, 6528, 6529, 6530, 6531, 6532], dtype='int64'),\n",
       " 'NTE     ': Int64Index([2236, 2237, 6378, 9322, 9323], dtype='int64'),\n",
       " 'NUE     ': Int64Index([7425, 7440, 7441], dtype='int64'),\n",
       " 'OAG     ': Int64Index([4260, 4261], dtype='int64'),\n",
       " 'OAJ     ': Int64Index([1574, 1575], dtype='int64'),\n",
       " 'OAK     ': Int64Index([798, 799, 3097, 3098, 3099, 3100, 8536, 8537, 9701, 9702], dtype='int64'),\n",
       " 'OGG     ': Int64Index([ 231,  232,  693,  694, 4247, 4248, 5234, 5235, 5556, 5557, 5558,\n",
       "             5908, 5909, 5910, 5979, 5980, 5981, 5982, 5983, 5984, 6030, 6031,\n",
       "             6741, 6742, 6743, 6744, 6901, 6902, 6903, 6904, 7515, 8015, 8016,\n",
       "             8017, 8018],\n",
       "            dtype='int64'),\n",
       " 'OKA     ': Int64Index([8702, 8703, 8704, 8705], dtype='int64'),\n",
       " 'OKC     ': Int64Index([2474, 2475, 3970, 3971, 4433, 4434, 5685, 5686, 6079, 6080, 7516,\n",
       "             8233, 8234, 8727, 8728],\n",
       "            dtype='int64'),\n",
       " 'OMA     ': Int64Index([ 111,  112,  113,  114,  115, 1044, 1045, 1046, 5531, 5532, 6244,\n",
       "             6245, 6246, 6247, 9545, 9546, 9547, 9548],\n",
       "            dtype='int64'),\n",
       " 'OME     ': Int64Index([8091, 8092], dtype='int64'),\n",
       " 'OMS     ': Int64Index([4013, 4014, 5603], dtype='int64'),\n",
       " 'ONT     ': Int64Index([4153, 4154], dtype='int64'),\n",
       " 'OPO     ': Int64Index([5078, 5079, 6661, 6662, 6663, 6664, 7003, 7004], dtype='int64'),\n",
       " 'ORD     ': Int64Index([ 401,  402,  403,  471,  472,  532,  533,  534,  666,  667,\n",
       "             ...\n",
       "             9536, 9540, 9541, 9542, 9543, 9959, 9960, 9961, 9962, 9963],\n",
       "            dtype='int64', length=175),\n",
       " 'ORF     ': Int64Index([4356, 4357, 4746, 4747, 4963, 4964, 4965, 4966], dtype='int64'),\n",
       " 'ORK     ': Int64Index([7828, 7829, 7866, 7867], dtype='int64'),\n",
       " 'ORN     ': Int64Index([1124, 1125, 2028, 2029, 2030, 2031, 2157, 2158, 2241, 2242, 2243,\n",
       "             2244],\n",
       "            dtype='int64'),\n",
       " 'ORY     ': Int64Index([ 407,  408,  409,  410,  411,  412, 1122, 1123, 1587, 2163, 2210,\n",
       "             2211, 2424, 2425, 2740, 3866, 3867, 4190, 4191, 4567, 4568, 4569,\n",
       "             4570, 4576, 4577, 5064, 5272, 5273, 6951, 6952, 7451, 7452, 8160,\n",
       "             8161, 8162, 8163, 8852, 8853, 8900, 8901, 9208, 9209, 9659, 9660,\n",
       "             9661, 9662],\n",
       "            dtype='int64'),\n",
       " 'OSL     ': Int64Index([5151, 5152, 5153, 5154, 6920, 6921, 7510, 7511], dtype='int64'),\n",
       " 'OSR     ': Int64Index([7887, 7888, 7889, 7890, 7891, 8948], dtype='int64'),\n",
       " 'OTP     ': Int64Index([  91,   92,  149,  150,  490,  491,  902,  903, 1178, 1179, 1180,\n",
       "             1181, 1707, 1708, 1709, 1788, 1789, 3070, 3071, 4792, 5582, 5583,\n",
       "             7007, 7008, 7478, 8308, 8309, 8310, 8311, 9508, 9509],\n",
       "            dtype='int64'),\n",
       " 'OUD     ': Int64Index([8644, 8645], dtype='int64'),\n",
       " 'OVB     ': Int64Index([3360, 3361], dtype='int64'),\n",
       " 'PAD     ': Int64Index([2014, 2015, 2016, 2017, 2018, 2019], dtype='int64'),\n",
       " 'PAP     ': Int64Index([1600, 1601, 1602, 1603, 1950, 1951], dtype='int64'),\n",
       " 'PAT     ': Int64Index([5508, 5509], dtype='int64'),\n",
       " 'PBI     ': Int64Index([425, 426, 1326, 1327, 3046, 3215, 4408, 4409, 4439, 4440, 4441,\n",
       "             4442, 4938],\n",
       "            dtype='int64'),\n",
       " 'PBM     ': Int64Index([2519, 2520, 6147, 6148, 6149, 6150, 6151, 6152], dtype='int64'),\n",
       " 'PDL     ': Int64Index([5629, 5630, 5631, 5632, 5633, 5634, 5635, 5636, 5637, 5638], dtype='int64'),\n",
       " 'PDX     ': Int64Index([ 299,  300,  669,  670,  915,  980, 1307, 1308, 1309, 1310, 3389,\n",
       "             3390, 3529, 3530, 3531, 3532, 4079, 4080, 5398, 5399, 6798, 6799,\n",
       "             6800, 6801, 7837, 7838, 7839, 7840, 7841, 7842, 7918, 7919, 8515,\n",
       "             8520, 8521, 8723, 8927, 8928, 9605, 9606, 9684],\n",
       "            dtype='int64'),\n",
       " 'PEI     ': Int64Index([9271, 9272], dtype='int64'),\n",
       " 'PEK     ': Int64Index([2152, 2153, 2329, 2330, 2331, 2332, 2333, 2334, 2393, 2394, 2507,\n",
       "             2508, 2510, 2511, 2540, 2541, 2754, 2755, 2756, 2757, 2758, 2854,\n",
       "             2855, 2856, 2857, 3783, 3784, 3793, 3794, 3795, 3816, 3817, 3828,\n",
       "             4386, 4387, 4571, 4572, 4573, 4574, 4809, 4810, 4811, 4812, 4821,\n",
       "             4822, 4832, 4833, 4872, 4873, 4874, 4875, 4922, 4923, 5018, 5019,\n",
       "             5777, 5778, 5779, 5829, 5830, 6086, 6087, 6088, 6089, 6090, 6091,\n",
       "             6922, 6923, 6924, 6925, 6926, 6927, 7547, 7548, 7549, 7550, 7791,\n",
       "             7792, 7793, 7794, 7795, 8176, 8177, 8884, 8885, 8886, 8887, 8888,\n",
       "             9155, 9156, 9732, 9733, 9955, 9956],\n",
       "            dtype='int64'),\n",
       " 'PER     ': Int64Index([1281, 1282, 1283, 1284, 1678, 1679, 2993], dtype='int64'),\n",
       " 'PEW     ': Int64Index([1588, 1589, 3814, 3815, 9131, 9132, 9133, 9438, 9439], dtype='int64'),\n",
       " 'PHL     ': Int64Index([ 599,  600, 1247, 1248, 1320, 1321, 1322, 1323, 1324, 1325, 1817,\n",
       "             1818, 1857, 1858, 1908, 1909, 2026, 2027, 3166, 3167, 3737, 3738,\n",
       "             3739, 3740, 3741, 3742, 4246, 4529, 4753, 4754, 4755, 5306, 5307,\n",
       "             5308, 5309, 5310, 5311, 5524, 6490, 6491, 7730, 7731, 8042, 8043,\n",
       "             8477, 8478, 8596, 8597, 8719, 8793, 8794, 8795, 8844, 8845, 8846,\n",
       "             8847, 8952, 8953, 8954, 9350, 9351, 9352, 9353, 9354, 9355],\n",
       "            dtype='int64'),\n",
       " 'PHX     ': Int64Index([ 209,  210,  227,  228,  229,  230,  671,  672,  684,  685,\n",
       "             ...\n",
       "             8615, 8616, 8617, 8618, 8619, 8620, 9484, 9485, 9578, 9579],\n",
       "            dtype='int64', length=108),\n",
       " 'PIA     ': Int64Index([2494, 2495, 3285, 3286], dtype='int64'),\n",
       " 'PIT     ': Int64Index([1013, 1765, 1766, 1808, 1809, 4398, 4399, 4506, 4507, 5330, 5331,\n",
       "             5384, 5385, 6095, 6096, 6097, 6098, 6126, 6127, 6128, 6129, 6130,\n",
       "             6131, 6612, 6613, 6614, 6615, 7502, 7503, 7935, 7936, 8365, 8366,\n",
       "             8714, 8715, 8716, 9830, 9831, 9919, 9920, 9921, 9922],\n",
       "            dtype='int64'),\n",
       " 'PLQ     ': Int64Index([4107, 4108, 4109, 4110, 4111, 4112, 4113, 4114, 4115, 5076], dtype='int64'),\n",
       " 'PLS     ': Int64Index([3826, 3827, 8789, 8790, 8791, 8792], dtype='int64'),\n",
       " 'PLZ     ': Int64Index([2651, 2652, 5679, 5680], dtype='int64'),\n",
       " 'PMC     ': Int64Index([4986, 4987, 4988, 4989], dtype='int64'),\n",
       " 'PMI     ': Int64Index([4227, 4228, 7087, 7088, 7089, 7149, 7196, 7197, 7198, 7199], dtype='int64'),\n",
       " 'PMO     ': Int64Index([7577, 7578], dtype='int64'),\n",
       " 'PNA     ': Int64Index([5479, 5480], dtype='int64'),\n",
       " 'PNH     ': Int64Index([2128, 2129, 2130, 2131, 3228, 3229], dtype='int64'),\n",
       " 'POL     ': Int64Index([6348, 6349], dtype='int64'),\n",
       " 'POS     ': Int64Index([1503, 1504, 1505, 1506, 2457, 2458, 2459, 2460, 3632, 3633, 5788,\n",
       "             5789, 6968, 6969, 8504, 8505],\n",
       "            dtype='int64'),\n",
       " 'PPT     ': Int64Index([8827], dtype='int64'),\n",
       " 'PRG     ': Int64Index([2037, 2038, 3241, 3242, 4682, 4683, 4684, 4685, 6648, 6649, 8027,\n",
       "             8028, 8029, 8450, 9603, 9604, 9776, 9777],\n",
       "            dtype='int64'),\n",
       " 'PRI     ': Int64Index([2433, 2434, 2435, 2436], dtype='int64'),\n",
       " 'PRN     ': Int64Index([7767, 7768], dtype='int64'),\n",
       " 'PSA     ': Int64Index([1287, 1288], dtype='int64'),\n",
       " 'PSP     ': Int64Index([1855, 1856, 5566, 5567, 8720, 8721, 8722], dtype='int64'),\n",
       " 'PTP     ': Int64Index([3365, 3366, 3367, 3368, 7785, 7786, 7787, 7788, 7789], dtype='int64'),\n",
       " 'PTY     ': Int64Index([5725, 5726, 6385, 6386, 6387, 6644, 7708, 7709, 8872, 8873, 8874], dtype='int64'),\n",
       " 'PUJ     ': Int64Index([1442, 1443, 1444, 1445, 1446, 1447, 1448, 1452, 1453, 1454, 1455,\n",
       "             1456, 1457, 1458, 1650, 1651, 1984, 1985, 3101, 3102, 3103, 3104,\n",
       "             3281, 3282, 4352, 4353, 4354, 4355, 4830, 4831, 4981, 4982, 5455,\n",
       "             5456, 7566, 7567, 7568, 9362, 9363, 9620, 9621],\n",
       "            dtype='int64'),\n",
       " 'PUS     ': Int64Index([3539, 4052, 5860, 5861, 6905, 6906, 6907, 6908, 6909, 6910, 7582,\n",
       "             7583, 7697, 7698, 7699, 8148],\n",
       "            dtype='int64'),\n",
       " 'PVD     ': Int64Index([6616, 6617, 8501, 9225, 9226], dtype='int64'),\n",
       " 'PVG     ': Int64Index([  30,   31,   32,  172,  173,  174,  178,  179,  352,  353,\n",
       "             ...\n",
       "             9454, 9455, 9456, 9457, 9561, 9562, 9876, 9877, 9878, 9879],\n",
       "            dtype='int64', length=122),\n",
       " 'PVR     ': Int64Index([981, 982, 2214, 2215, 2216, 2217, 2632, 2633], dtype='int64'),\n",
       " 'QJZ     ': Int64Index([2844, 2845], dtype='int64'),\n",
       " 'QOW     ': Int64Index([1130], dtype='int64'),\n",
       " 'QQS     ': Int64Index([9006], dtype='int64'),\n",
       " 'RAI     ': Int64Index([1063], dtype='int64'),\n",
       " 'RAJ     ': Int64Index([4177], dtype='int64'),\n",
       " 'RAK     ': Int64Index([948, 949, 950, 951], dtype='int64'),\n",
       " 'RAP     ': Int64Index([4545, 4546], dtype='int64'),\n",
       " 'RBA     ': Int64Index([1978, 1979, 1980, 1981], dtype='int64'),\n",
       " 'RDU     ': Int64Index([1077, 1895, 1896, 1897, 2535, 2536, 2587, 2588, 2622, 2623, 3922,\n",
       "             3923, 5205, 5206, 5346, 7055, 8565, 8566],\n",
       "            dtype='int64'),\n",
       " 'REN     ': Int64Index([527, 528], dtype='int64'),\n",
       " 'RFP     ': Int64Index([6519, 6520], dtype='int64'),\n",
       " 'RGN     ': Int64Index([3682, 3683, 3684, 3685, 3686, 3687, 3688, 3689, 3690, 4103, 4104,\n",
       "             4105, 4106, 5827, 5828],\n",
       "            dtype='int64'),\n",
       " 'RHO     ': Int64Index([2614, 8137, 8138], dtype='int64'),\n",
       " 'RIC     ': Int64Index([1317, 1901, 1902], dtype='int64'),\n",
       " 'RKS     ': Int64Index([2238], dtype='int64'),\n",
       " 'RNO     ': Int64Index([2639, 2640, 2641, 2642, 2643, 2676, 3174, 3175, 6401, 6402], dtype='int64'),\n",
       " 'ROA     ': Int64Index([1329, 1330, 1331, 1844, 1845, 1846, 1847, 1848], dtype='int64'),\n",
       " 'ROB     ': Int64Index([9415, 9416], dtype='int64'),\n",
       " 'ROC     ': Int64Index([2781, 4277, 4278, 4279, 4280, 4281, 4282, 4283, 4431, 5142, 5143,\n",
       "             5144],\n",
       "            dtype='int64'),\n",
       " 'ROV     ': Int64Index([1289, 7466, 7467, 7468], dtype='int64'),\n",
       " 'RPR     ': Int64Index([3263, 5514, 5515], dtype='int64'),\n",
       " 'RST     ': Int64Index([9310], dtype='int64'),\n",
       " 'RSW     ': Int64Index([3034, 3035, 3113, 3114, 3115, 3116, 4863, 4864], dtype='int64'),\n",
       " 'RTB     ': Int64Index([1169, 1170, 1171, 2036], dtype='int64'),\n",
       " 'RUH     ': Int64Index([ 356,  357, 3094, 3095, 3888, 3889, 3890, 4578, 4579, 4580, 4581,\n",
       "             6102, 6103, 6104, 6105, 6106, 6107, 6108, 6109, 6110, 6111, 6701,\n",
       "             7164, 7165, 7519, 7520, 7521, 7522, 8348],\n",
       "            dtype='int64'),\n",
       " 'RUN     ': Int64Index([2110, 2111, 2112, 2113, 2114, 2115, 3400, 3401], dtype='int64'),\n",
       " 'SAL     ': Int64Index([8173, 8174], dtype='int64'),\n",
       " 'SAN     ': Int64Index([ 582,  583, 1905, 1906, 1910, 1911, 2059, 2060, 2061, 2062, 2094,\n",
       "             2505, 2506, 3540, 3541, 3542, 3780, 3781, 3782, 4308, 4309, 5847,\n",
       "             5848, 5952, 5953, 5954, 5955, 5956, 5957, 6036, 6037, 6607, 6608,\n",
       "             6722, 6723, 7056, 7057, 7594, 7595, 8385, 8386, 8822, 8823, 9248,\n",
       "             9249],\n",
       "            dtype='int64'),\n",
       " 'SAP     ': Int64Index([5114, 5115], dtype='int64'),\n",
       " 'SAT     ': Int64Index([ 625,  626, 1080, 1081, 1082, 1083, 1912, 1913, 2887, 2888, 2889,\n",
       "             2890, 3622, 3623, 3918, 3919, 4007, 4008, 5551, 5552, 6454, 6455,\n",
       "             6789, 6790, 7394, 7395, 7396, 7397, 9146, 9147, 9148, 9149],\n",
       "            dtype='int64'),\n",
       " 'SAV     ': Int64Index([105, 2472, 2473, 5347, 5348, 5349, 5350, 7617, 7618, 7619, 7620,\n",
       "             8984, 8985],\n",
       "            dtype='int64'),\n",
       " 'SBA     ': Int64Index([6274, 6275], dtype='int64'),\n",
       " 'SBP     ': Int64Index([4400, 4401], dtype='int64'),\n",
       " 'SBZ     ': Int64Index([9984, 9985], dtype='int64'),\n",
       " 'SCL     ': Int64Index([2875, 4990, 4991], dtype='int64'),\n",
       " 'SCQ     ': Int64Index([9285, 9286], dtype='int64'),\n",
       " 'SDF     ': Int64Index([ 120,  121,  618, 2068, 2069, 3338, 4744, 4745, 4970, 4971, 5319,\n",
       "             5320, 5563, 5564, 5565, 5794, 6513, 6514, 6730, 6731, 7058, 7059,\n",
       "             7557, 7558],\n",
       "            dtype='int64'),\n",
       " 'SDQ     ': Int64Index([ 943, 1920, 1921, 2449, 2450, 3986, 3987, 4208, 4209, 4340, 4341,\n",
       "             6032, 6278, 6279, 8191, 8192, 8193, 8194, 8195, 8196, 9669, 9670],\n",
       "            dtype='int64'),\n",
       " 'SDR     ': Int64Index([7331], dtype='int64'),\n",
       " 'SDU     ': Int64Index([427, 428, 429, 430, 4978, 6166, 6167], dtype='int64'),\n",
       " 'SEA     ': Int64Index([1553, 1554, 3168, 3169, 3170, 3171, 3172, 3173, 3192, 3193, 3521,\n",
       "             3522, 3523, 3524, 3926, 3927, 4051, 4436, 4487, 4488, 4629, 4630,\n",
       "             4631, 4632, 4725, 5430, 6223, 6224, 6225, 6226, 6227, 6292, 6293,\n",
       "             6294, 6295, 6296, 6398, 6462, 6463, 6498, 6687, 6688, 6791, 6792,\n",
       "             7232, 7233, 7332, 7333, 7406, 7407, 7408, 7409, 7410, 7411, 7712,\n",
       "             7923, 7979, 7980, 7981, 7982, 8044, 8045, 8116, 8250, 8251, 8252,\n",
       "             8253, 8510, 8511, 8512, 8513, 8535, 8863, 8864, 8865, 8937, 8938,\n",
       "             9024, 9025, 9026, 9027, 9820, 9821],\n",
       "            dtype='int64'),\n",
       " 'SFO     ': Int64Index([ 108,  370,  371,  584,  585,  601,  697,  698,  699,  700,\n",
       "             ...\n",
       "             9477, 9478, 9479, 9634, 9635, 9689, 9794, 9795, 9890, 9891],\n",
       "            dtype='int64', length=156),\n",
       " 'SGC     ': Int64Index([33], dtype='int64'),\n",
       " 'SGF     ': Int64Index([3085, 3086], dtype='int64'),\n",
       " 'SGN     ': Int64Index([ 378,  379,  383,  384,  385,  386,  387,  388,  389,  390,  720,\n",
       "              721,  722,  723, 1006, 1007, 1008, 1009, 1631, 1632, 1797, 1798,\n",
       "             1799, 1800, 2335, 2336, 2337, 2752, 2753, 3121, 3122, 3492, 3493,\n",
       "             3494, 3495, 3496, 3497, 3498, 3499, 3858, 3859, 4020, 4021, 4351,\n",
       "             4785, 4786, 5449, 5450, 5451, 5452, 5453, 5454, 6093, 6094, 6100,\n",
       "             6101, 6339, 6620, 6621, 6622, 6917, 6918, 7491, 7492, 7830, 7831,\n",
       "             7832, 7892, 7893, 7894, 7895, 7896, 7897, 8048, 9782, 9783, 9853,\n",
       "             9854, 9855, 9856, 9997, 9998],\n",
       "            dtype='int64'),\n",
       " 'SHA     ': Int64Index([175, 1841, 1842, 1843, 2132], dtype='int64'),\n",
       " 'SHV     ': Int64Index([892, 893, 894, 895], dtype='int64'),\n",
       " 'SIN     ': Int64Index([   7,    8,    9,   10,   11,   12,   13,   14,   15,   16,   17,\n",
       "               18,  340,  341, 1344, 1345, 1346, 1347, 1368, 1369, 3993, 3994,\n",
       "             4503, 4504, 4505, 6460, 6461, 6947, 6948, 6949, 6950, 7363, 7364,\n",
       "             7365, 7366, 7423, 7424, 9607, 9608, 9818, 9819],\n",
       "            dtype='int64'),\n",
       " 'SIP     ': Int64Index([9279, 9280], dtype='int64'),\n",
       " 'SJC     ': Int64Index([1232, 1233, 1234, 1235, 1250, 1258, 1259, 1761, 1762, 2828, 2829,\n",
       "             3598, 3599, 3600, 3601, 4032, 4033, 4034, 4703, 4704, 5210, 5211,\n",
       "             5212, 5213, 5214, 5215, 5216, 5217, 6029, 6542, 6543, 6955, 8471,\n",
       "             8472, 8717, 8718],\n",
       "            dtype='int64'),\n",
       " 'SJD     ': Int64Index([ 189,  190, 1952, 1953, 7534, 7535, 7944, 7945, 7946, 7947, 9080,\n",
       "             9081, 9082, 9083, 9324, 9325, 9326, 9327, 9328, 9329, 9330, 9331,\n",
       "             9780, 9781, 9915, 9916, 9964, 9965],\n",
       "            dtype='int64'),\n",
       " 'SJJ     ': Int64Index([7241, 7242, 8682, 8683, 8684], dtype='int64'),\n",
       " 'SJO     ': Int64Index([ 985,  986, 2712, 2713, 4732, 4733, 4734, 4735, 5145, 5146, 5147,\n",
       "             5148, 6557, 6558, 8099, 8100, 8395, 8396, 9764, 9765, 9766, 9767],\n",
       "            dtype='int64'),\n",
       " 'SJU     ': Int64Index([ 278,  279,  280,  281,  405,  406, 1243, 1244, 1328, 1646, 1647,\n",
       "             1648, 1649, 1903, 1904, 2777, 2778, 2947, 2948, 6626, 6627, 7713,\n",
       "             7714, 8288, 8289, 8530, 8531, 9358, 9359, 9360, 9361, 9636, 9637,\n",
       "             9638, 9639, 9640, 9641, 9860, 9861, 9862, 9863, 9864, 9865],\n",
       "            dtype='int64'),\n",
       " 'SKG     ': Int64Index([186, 1790, 2693, 2694, 3204, 3205, 5457, 7150], dtype='int64'),\n",
       " 'SKP     ': Int64Index([6474, 6475, 6476, 7959], dtype='int64'),\n",
       " 'SLC     ': Int64Index([1054, 1055, 1056, 1057, 1718, 1719, 2549, 2550, 3044, 3045, 3081,\n",
       "             3082, 3083, 3084, 4836, 4837, 5343, 5541, 5542, 5964, 5965, 5966,\n",
       "             5967, 7621, 7622, 8268, 8269, 8270, 8271, 8590, 8591, 9632, 9633,\n",
       "             9884, 9885, 9886, 9887],\n",
       "            dtype='int64'),\n",
       " 'SLL     ': Int64Index([8980, 8981], dtype='int64'),\n",
       " 'SMF     ': Int64Index([1384, 1385, 1386, 2782, 2783, 2784, 4547, 4548, 5539, 5540, 6845,\n",
       "             6846, 6847, 6848, 6849, 6850, 6851, 6852, 6853, 6854, 7400, 7401],\n",
       "            dtype='int64'),\n",
       " 'SMI     ': Int64Index([749, 3247], dtype='int64'),\n",
       " 'SNA     ': Int64Index([ 413,  414,  568,  569, 1303, 1304, 1305, 1306, 1739, 3153, 3154,\n",
       "             3182, 4073, 4074, 4697, 4698, 6515, 6618, 6619, 6804],\n",
       "            dtype='int64'),\n",
       " 'SNN     ': Int64Index([1266, 1267, 2228, 2229, 5194, 5195, 5196, 5197], dtype='int64'),\n",
       " 'SOF     ': Int64Index([ 512,  513,  514,  515,  516,  770,  771,  778,  779,  780,  781,\n",
       "              782,  783,  784,  785, 3008, 3009, 3010, 3011, 3012, 3013, 3014,\n",
       "             3015, 8175],\n",
       "            dtype='int64'),\n",
       " 'SOM     ': Int64Index([4722, 4723, 5044, 5045], dtype='int64'),\n",
       " 'SOU     ': Int64Index([4983, 4984], dtype='int64'),\n",
       " 'SPN     ': Int64Index([6997, 6998, 6999, 7000, 7001, 7002], dtype='int64'),\n",
       " 'SPS     ': Int64Index([1619], dtype='int64'),\n",
       " 'SPU     ': Int64Index([6774, 6775], dtype='int64'),\n",
       " 'SRQ     ': Int64Index([1391, 1556, 1557, 1853, 1854], dtype='int64'),\n",
       " 'SSA     ': Int64Index([644, 645, 6939, 6940], dtype='int64'),\n",
       " 'SSH     ': Int64Index([5300, 5301, 9493, 9494, 9495, 9496, 9497], dtype='int64'),\n",
       " 'STL     ': Int64Index([ 219,  220, 1529, 1878, 1879, 2419, 2580, 2599, 4249, 4250, 4326,\n",
       "             4327, 6390, 6391, 6972, 6973, 7041, 7042, 7744, 8019, 8276, 8383,\n",
       "             8384, 8576, 8577, 9039, 9040, 9041],\n",
       "            dtype='int64'),\n",
       " 'STN     ': Int64Index([8076, 8077], dtype='int64'),\n",
       " 'STS     ': Int64Index([8453, 8454, 8455], dtype='int64'),\n",
       " 'STT     ': Int64Index([1614, 1615, 1616, 2400, 2401, 3196, 3197, 8560, 8561, 9847, 9848], dtype='int64'),\n",
       " 'SUF     ': Int64Index([2517, 2518, 3853, 4575], dtype='int64'),\n",
       " 'SVG     ': Int64Index([1594, 1595, 4624, 4625, 7385, 8197], dtype='int64'),\n",
       " 'SVO     ': Int64Index([   3,    4,  457,  458,  459,  460,  461,  969,  970, 1292, 1293,\n",
       "             1582, 1583, 1584, 1585, 2985, 2986, 3352, 5623, 5624, 5625, 5626,\n",
       "             7019, 7020, 7021, 7022, 7134, 7135, 7962, 7963, 8586, 8587, 8588,\n",
       "             8589, 8883, 9492, 9692],\n",
       "            dtype='int64'),\n",
       " 'SVQ     ': Int64Index([529, 7773, 7774, 7970, 7971, 7972, 7973], dtype='int64'),\n",
       " 'SXB     ': Int64Index([7671, 7672, 7673, 7674, 7675, 7676], dtype='int64'),\n",
       " 'SXF     ': Int64Index([6941, 6942, 6943, 6944], dtype='int64'),\n",
       " 'SXM     ': Int64Index([303, 304, 305, 306], dtype='int64'),\n",
       " 'SYD     ': Int64Index([ 212,  530,  531,  756,  757, 1290, 1291, 1880, 3147, 3148, 3948,\n",
       "             3949, 3950, 3951, 4215, 4216, 4217, 4218, 4219, 4220, 4413, 4414,\n",
       "             5516, 6588, 6589, 6590, 6591, 6592, 6593, 7766, 7833, 7834, 7835,\n",
       "             7836, 8052, 8053, 9609, 9610, 9671, 9672, 9673, 9674],\n",
       "            dtype='int64'),\n",
       " 'SYR     ': Int64Index([5993, 8051, 8212], dtype='int64'),\n",
       " 'SYZ     ': Int64Index([7695, 7696], dtype='int64'),\n",
       " 'SZG     ': Int64Index([4793, 4794], dtype='int64'),\n",
       " 'SZX     ': Int64Index([2359, 2360], dtype='int64'),\n",
       " 'TAO     ': Int64Index([1570, 1571, 1572, 1573, 3211, 3212, 6013, 6014, 6015, 6016], dtype='int64'),\n",
       " 'TBS     ': Int64Index([3865], dtype='int64'),\n",
       " 'TCQ     ': Int64Index([6376, 6377], dtype='int64'),\n",
       " 'TFN     ': Int64Index([2144, 2145], dtype='int64'),\n",
       " 'TFS     ': Int64Index([9223, 9224, 9516, 9517, 9518], dtype='int64'),\n",
       " 'TGD     ': Int64Index([3226, 3227, 5502, 5503], dtype='int64'),\n",
       " 'TGU     ': Int64Index([3391, 3392], dtype='int64'),\n",
       " 'THR     ': Int64Index([5289, 5290, 5291, 5292], dtype='int64'),\n",
       " 'TIA     ': Int64Index([184, 185, 8875, 8876], dtype='int64'),\n",
       " 'TIP     ': Int64Index([1752, 1753, 1932], dtype='int64'),\n",
       " 'TLH     ': Int64Index([9687, 9688], dtype='int64'),\n",
       " 'TLS     ': Int64Index([ 543,  544,  836,  837,  838,  839, 3774, 3775, 3928, 3952, 3953,\n",
       "             3954, 7375, 7376, 7383, 7384],\n",
       "            dtype='int64'),\n",
       " 'TLV     ': Int64Index([ 128,  129,  130,  131,  952, 1066, 1067, 3072, 3073, 3385, 3386,\n",
       "             3387, 3388, 3691, 3692, 3879, 3880, 3881, 3882, 3883, 3884, 3885,\n",
       "             3886, 4508, 4509, 4510, 4511, 4512, 4513, 5441, 5442, 5443, 5444,\n",
       "             5517, 5518, 5849, 5850, 5931, 5932, 5933, 5934, 7530, 7655, 7656,\n",
       "             7657, 7658, 7659, 7660, 7661, 7662, 7663, 7664, 7665, 7666, 7667,\n",
       "             8089, 8244, 8404, 8405, 8406, 8407, 8408, 8409, 9622, 9623, 9624,\n",
       "             9625],\n",
       "            dtype='int64'),\n",
       " 'TMP     ': Int64Index([2817, 2818], dtype='int64'),\n",
       " 'TNG     ': Int64Index([7367, 7368], dtype='int64'),\n",
       " 'TNR     ': Int64Index([3353, 3354, 3355, 3356], dtype='int64'),\n",
       " 'TOF     ': Int64Index([8435, 8724], dtype='int64'),\n",
       " 'TOS     ': Int64Index([6646, 6647], dtype='int64'),\n",
       " 'TPA     ': Int64Index([  58, 1680, 1681, 1682, 1683, 1801, 1802, 2314, 2315, 2316, 2317,\n",
       "             2468, 2469, 2470, 2471, 2767, 2768, 3110, 3111, 3642, 3643, 3644,\n",
       "             3645, 3646, 3647, 4081, 4358, 4359, 4772, 4773, 4846, 4847, 4868,\n",
       "             4869, 4870, 4871, 5166, 5167, 5816, 5946, 5947, 5948, 5949, 5962,\n",
       "             5963, 6321, 6322, 6323, 6609, 6610, 6996, 7186, 7187, 7555, 7556,\n",
       "             7651, 7652, 7653, 7654, 7691, 7692, 7693, 7694, 7764, 7765, 8298,\n",
       "             8299, 8431, 8432, 8433, 8434, 8498, 8499],\n",
       "            dtype='int64'),\n",
       " 'TPE     ': Int64Index([1000, 1001, 1002, 1003, 1004, 1005, 1744, 1745, 1746, 1834, 2256,\n",
       "             2257, 2258, 2259, 2964, 2965, 2992, 3818, 3819, 3820, 3821, 3822,\n",
       "             3823, 4134, 4634, 4635, 5609, 5610, 5611, 5612, 6092, 7017, 7018,\n",
       "             7257, 7258, 7259, 7260, 7490, 8532, 8533, 8690, 9009, 9010, 9011,\n",
       "             9044, 9045, 9046, 9047, 9048, 9049, 9796, 9797],\n",
       "            dtype='int64'),\n",
       " 'TRD     ': Int64Index([2020, 2021, 9992, 9993], dtype='int64'),\n",
       " 'TRN     ': Int64Index([6438, 6439, 6440, 6441], dtype='int64'),\n",
       " 'TRV     ': Int64Index([8680, 8681], dtype='int64'),\n",
       " 'TRW     ': Int64Index([7826, 7827], dtype='int64'),\n",
       " 'TSA     ': Int64Index([3416, 3417, 5124, 5125], dtype='int64'),\n",
       " 'TSR     ': Int64Index([2533, 2534, 6778, 6779, 6780, 6781], dtype='int64'),\n",
       " 'TUL     ': Int64Index([5107, 8796, 8797], dtype='int64'),\n",
       " 'TUN     ': Int64Index([3575, 3700, 3701, 4595, 7881, 7882], dtype='int64'),\n",
       " 'TUS     ': Int64Index([19, 468, 5448], dtype='int64'),\n",
       " 'TXL     ': Int64Index([ 237,  238,  239,  240, 1405, 2249, 2250, 2262, 2263, 2378, 2379,\n",
       "             3731, 4372, 4373, 4374, 4375, 4376, 5016, 5017, 6120, 6121, 6956,\n",
       "             6957, 7426, 7427, 7428, 7429, 7532, 7533, 9204, 9205, 9275, 9276,\n",
       "             9277, 9278, 9305, 9555, 9709, 9710, 9908],\n",
       "            dtype='int64'),\n",
       " 'TYR     ': Int64Index([145, 146], dtype='int64'),\n",
       " 'TYS     ': Int64Index([2721, 2722, 9559, 9560], dtype='int64'),\n",
       " 'UBP     ': Int64Index([8771, 8772], dtype='int64'),\n",
       " 'UIO     ': Int64Index([1203, 1396, 1397, 1398, 1403, 1404, 2464, 2465, 2949, 2950, 2951,\n",
       "             2952, 2953, 2954, 3092, 3093, 4432, 6763, 6764],\n",
       "            dtype='int64'),\n",
       " 'UKK     ': Int64Index([8988, 8989, 8990, 8991, 8992, 8993], dtype='int64'),\n",
       " 'ULN     ': Int64Index([65, 66, 2063, 4848, 4849, 9685, 9686], dtype='int64'),\n",
       " 'USH     ': Int64Index([9210, 9211, 9212, 9213], dtype='int64'),\n",
       " 'USM     ': Int64Index([2278, 2279, 2280, 3273, 3274, 4688, 4689, 4690, 4691, 6317, 6318], dtype='int64'),\n",
       " 'UVF     ': Int64Index([437, 438, 439, 440, 5597], dtype='int64'),\n",
       " 'VCE     ': Int64Index([3272, 4824, 4825, 4826, 4827, 4828, 4829, 5116, 5117, 5118, 5119,\n",
       "             9471, 9472, 9473, 9474, 9949, 9950],\n",
       "            dtype='int64'),\n",
       " 'VER     ': Int64Index([4972, 4973, 7121, 9752, 9753], dtype='int64'),\n",
       " 'VIE     ': Int64Index([3584, 3585, 3586, 3587, 4485, 4486, 5408, 5409, 5481, 5482, 5483,\n",
       "             5484, 6172, 6173, 6190, 6191, 6477, 6478, 6479, 6480, 6481, 6482,\n",
       "             6483, 6900, 7093, 7094, 7569, 7570, 7571, 8084, 8277, 8782, 8783,\n",
       "             9339, 9340, 9526, 9527],\n",
       "            dtype='int64'),\n",
       " 'VKO     ': Int64Index([4788, 5120, 5121], dtype='int64'),\n",
       " 'VLC     ': Int64Index([5010, 5011], dtype='int64'),\n",
       " 'VNO     ': Int64Index([2833, 2834, 2835, 3230, 4116, 4117, 4118], dtype='int64'),\n",
       " 'VNS     ': Int64Index([6379, 6380, 6381, 6382, 6383, 6384], dtype='int64'),\n",
       " 'VPS     ': Int64Index([417, 418, 419, 420, 8995], dtype='int64'),\n",
       " 'VSA     ': Int64Index([8418], dtype='int64'),\n",
       " 'VTZ     ': Int64Index([5002, 5003, 6809, 6810], dtype='int64'),\n",
       " 'VVI     ': Int64Index([726, 727, 8423, 8424], dtype='int64'),\n",
       " 'WAW     ': Int64Index([241, 242, 243, 564, 1469, 1470, 2660, 2661, 4214, 5893, 7360, 7361,\n",
       "             7362],\n",
       "            dtype='int64'),\n",
       " 'WDH     ': Int64Index([521, 522, 523, 524], dtype='int64'),\n",
       " 'WEH     ': Int64Index([7704, 7705, 7706, 7707], dtype='int64'),\n",
       " 'WLG     ': Int64Index([5604, 9321], dtype='int64'),\n",
       " 'WRO     ': Int64Index([879, 2737, 2738, 2739, 2996, 9306, 9307, 9308, 9309], dtype='int64'),\n",
       " 'WUH     ': Int64Index([6139, 6140, 6141, 6142, 6143, 6144, 7912, 7913, 8538, 8539], dtype='int64'),\n",
       " 'XMN     ': Int64Index([7775, 7776, 7777, 7778], dtype='int64'),\n",
       " 'XNA     ': Int64Index([2477, 2478, 4855, 4856, 7942, 7943, 9378], dtype='int64'),\n",
       " 'XNB     ': Int64Index([8641, 8642], dtype='int64'),\n",
       " 'XQP     ': Int64Index([9969, 9970], dtype='int64'),\n",
       " 'YAY     ': Int64Index([1058, 1059], dtype='int64'),\n",
       " 'YCD     ': Int64Index([1242, 7398, 7399], dtype='int64'),\n",
       " 'YEG     ': Int64Index([3663, 3664, 3665, 3756, 4967, 5943, 5944, 5945, 8838, 8839], dtype='int64'),\n",
       " 'YHD     ': Int64Index([5252], dtype='int64'),\n",
       " 'YHZ     ': Int64Index([217, 218, 2653, 2654, 5938, 5939, 6388, 6389], dtype='int64'),\n",
       " 'YMM     ': Int64Index([5268, 5269, 5270, 5271], dtype='int64'),\n",
       " 'YNB     ': Int64Index([884, 885, 886, 887], dtype='int64'),\n",
       " 'YOW     ': Int64Index([3666, 5889, 5890, 5891, 5892, 6243, 7178], dtype='int64'),\n",
       " 'YQM     ': Int64Index([2486, 2487, 2488, 2489], dtype='int64'),\n",
       " 'YQQ     ': Int64Index([5281, 5282], dtype='int64'),\n",
       " 'YQT     ': Int64Index([5253, 5254, 5255], dtype='int64'),\n",
       " 'YQU     ': Int64Index([2933], dtype='int64'),\n",
       " 'YTM     ': Int64Index([9580, 9581], dtype='int64'),\n",
       " 'YUL     ': Int64Index([ 333,  334, 2070, 2071, 3231, 3232, 3733, 3734, 7177, 8951, 9376,\n",
       "             9377, 9643, 9644, 9645, 9646, 9647, 9648, 9902],\n",
       "            dtype='int64'),\n",
       " 'YVO     ': Int64Index([5209], dtype='int64'),\n",
       " 'YVR     ': Int64Index([ 116,  117,  675,  676,  677,  804,  805, 1275, 1276, 1277, 1278,\n",
       "             2191, 2192, 2763, 3187, 3381, 3382, 3383, 3384, 3604, 3863, 3864,\n",
       "             5004, 5005, 5006, 5007, 5008, 5009, 5752, 5753, 5754, 5755, 6017,\n",
       "             7983, 7984, 7985, 7986, 9157, 9158, 9971],\n",
       "            dtype='int64'),\n",
       " 'YWG     ': Int64Index([22, 23, 24, 25, 26, 27, 28, 29, 391, 392, 393, 394, 8112, 8113], dtype='int64'),\n",
       " 'YXE     ': Int64Index([621, 2230, 2231], dtype='int64'),\n",
       " 'YXS     ': Int64Index([6685, 6686], dtype='int64'),\n",
       " 'YXY     ': Int64Index([2577], dtype='int64'),\n",
       " 'YYC     ': Int64Index([ 961,  962,  963,  964, 6194, 6195, 6287, 7132, 7133, 7179, 7181,\n",
       "             7249, 7250, 7251, 7284, 7285, 7286, 7287, 7288, 7289, 7290, 8235,\n",
       "             8236, 8237, 8238, 8239, 8240, 8516, 8517, 8640, 9917],\n",
       "            dtype='int64'),\n",
       " 'YYJ     ': Int64Index([3165, 9071, 9072], dtype='int64'),\n",
       " 'YYZ     ': Int64Index([ 678,  679, 1101, 1102, 1207, 1208, 2565, 2566, 2567, 2568, 3337,\n",
       "             3758, 4057, 4058, 4070, 4244, 4245, 4749, 4750, 4751, 4752, 5041,\n",
       "             5042, 5380, 5381, 6033, 6573, 6574, 6575, 6576, 6577, 6578, 6623,\n",
       "             6624, 6658, 6659, 6660, 7065, 7180, 8220, 8221, 8222, 8223, 8224,\n",
       "             8400, 8401, 8456, 8457, 8908, 8909, 8910, 8911, 8912, 8913, 8914,\n",
       "             8915, 9341, 9342, 9806, 9807],\n",
       "            dtype='int64'),\n",
       " 'YZF     ': Int64Index([2939, 2940], dtype='int64'),\n",
       " 'ZAG     ': Int64Index([7323, 7324, 7325, 7326, 7327, 7328], dtype='int64'),\n",
       " 'ZNZ     ': Int64Index([2369, 2370, 2371, 2372, 2373], dtype='int64'),\n",
       " 'ZRH     ': Int64Index([  67,   68,   69,   70,   71,   72,   73,   74,   75,  286,  287,\n",
       "              288,  289, 1590, 1591, 1592, 1593, 2078, 2079, 2080, 2081, 2082,\n",
       "             2083, 2118, 2119, 2646, 2647, 2750, 2751, 6595, 6596, 6597, 6598,\n",
       "             6928, 6929, 7069, 7070, 7201, 7202, 7203, 7204, 7205, 7434, 7435,\n",
       "             7750, 7751, 7762, 7763, 7998, 7999, 8010],\n",
       "            dtype='int64'),\n",
       " 'ZYL     ': Int64Index([2261, 7081, 7082], dtype='int64')}"
      ]
     },
     "execution_count": 75,
     "metadata": {},
     "output_type": "execute_result"
    }
   ],
   "source": [
    "file.groupby('arr_port').groups #Tenemos espacios en blanco en el contenido de arr_port"
   ]
  },
  {
   "cell_type": "code",
   "execution_count": 51,
   "metadata": {},
   "outputs": [
    {
     "data": {
      "text/html": [
       "<div>\n",
       "<style scoped>\n",
       "    .dataframe tbody tr th:only-of-type {\n",
       "        vertical-align: middle;\n",
       "    }\n",
       "\n",
       "    .dataframe tbody tr th {\n",
       "        vertical-align: top;\n",
       "    }\n",
       "\n",
       "    .dataframe thead th {\n",
       "        text-align: right;\n",
       "    }\n",
       "</style>\n",
       "<table border=\"1\" class=\"dataframe\">\n",
       "  <thead>\n",
       "    <tr style=\"text-align: right;\">\n",
       "      <th></th>\n",
       "      <th>pax</th>\n",
       "    </tr>\n",
       "    <tr>\n",
       "      <th>arr_port</th>\n",
       "      <th></th>\n",
       "    </tr>\n",
       "  </thead>\n",
       "  <tbody>\n",
       "    <tr>\n",
       "      <th>HKG</th>\n",
       "      <td>112</td>\n",
       "    </tr>\n",
       "    <tr>\n",
       "      <th>LGA</th>\n",
       "      <td>95</td>\n",
       "    </tr>\n",
       "    <tr>\n",
       "      <th>ORD</th>\n",
       "      <td>94</td>\n",
       "    </tr>\n",
       "    <tr>\n",
       "      <th>JFK</th>\n",
       "      <td>92</td>\n",
       "    </tr>\n",
       "    <tr>\n",
       "      <th>LAX</th>\n",
       "      <td>91</td>\n",
       "    </tr>\n",
       "    <tr>\n",
       "      <th>SFO</th>\n",
       "      <td>91</td>\n",
       "    </tr>\n",
       "    <tr>\n",
       "      <th>MCO</th>\n",
       "      <td>90</td>\n",
       "    </tr>\n",
       "    <tr>\n",
       "      <th>DCA</th>\n",
       "      <td>82</td>\n",
       "    </tr>\n",
       "    <tr>\n",
       "      <th>DEN</th>\n",
       "      <td>79</td>\n",
       "    </tr>\n",
       "    <tr>\n",
       "      <th>LHR</th>\n",
       "      <td>76</td>\n",
       "    </tr>\n",
       "  </tbody>\n",
       "</table>\n",
       "</div>"
      ],
      "text/plain": [
       "          pax\n",
       "arr_port     \n",
       "HKG       112\n",
       "LGA        95\n",
       "ORD        94\n",
       "JFK        92\n",
       "LAX        91\n",
       "SFO        91\n",
       "MCO        90\n",
       "DCA        82\n",
       "DEN        79\n",
       "LHR        76"
      ]
     },
     "execution_count": 51,
     "metadata": {},
     "output_type": "execute_result"
    }
   ],
   "source": [
    "pd.DataFrame(file.groupby('arr_port')['pax'].sum()).sort_values('pax',ascending = False).head(10)"
   ]
  },
  {
   "cell_type": "markdown",
   "metadata": {},
   "source": [
    "## Ajustaremos este ejercicio para todo el archivo \"booking.csv.bz2\""
   ]
  },
  {
   "cell_type": "markdown",
   "metadata": {},
   "source": [
    "Existen dos formas de hacer las iteraciones:\n",
    "- Por iterator = True\n",
    "- Por chunsize"
   ]
  },
  {
   "cell_type": "markdown",
   "metadata": {},
   "source": [
    "**a)**"
   ]
  },
  {
   "cell_type": "code",
   "execution_count": 76,
   "metadata": {},
   "outputs": [],
   "source": [
    "file = pd.read_csv('bookings_sample.csv.bz2',sep = '^',usecols = ['year','pax','arr_port'],iterator = True)"
   ]
  },
  {
   "cell_type": "code",
   "execution_count": 77,
   "metadata": {},
   "outputs": [
    {
     "data": {
      "text/plain": [
       "(4000, 3)"
      ]
     },
     "execution_count": 77,
     "metadata": {},
     "output_type": "execute_result"
    }
   ],
   "source": [
    "file0 = file.get_chunk(4000)\n",
    "file0.shape"
   ]
  },
  {
   "cell_type": "code",
   "execution_count": 78,
   "metadata": {},
   "outputs": [
    {
     "data": {
      "text/plain": [
       "(1000, 3)"
      ]
     },
     "execution_count": 78,
     "metadata": {},
     "output_type": "execute_result"
    }
   ],
   "source": [
    "file1 = file.get_chunk(1000)\n",
    "file1.shape"
   ]
  },
  {
   "cell_type": "code",
   "execution_count": 79,
   "metadata": {},
   "outputs": [
    {
     "data": {
      "text/plain": [
       "(4999, 3)"
      ]
     },
     "execution_count": 79,
     "metadata": {},
     "output_type": "execute_result"
    }
   ],
   "source": [
    "file2 = file.get_chunk(10000)\n",
    "file2.shape"
   ]
  },
  {
   "cell_type": "markdown",
   "metadata": {},
   "source": [
    "Ojo: mientras cargamos cada file(i) se va cargando la cantidad de registros que le asignas, y el ultimo como vemos en el ejemplo toma todos los restantes"
   ]
  },
  {
   "cell_type": "markdown",
   "metadata": {},
   "source": [
    "**b)**"
   ]
  },
  {
   "cell_type": "code",
   "execution_count": 80,
   "metadata": {},
   "outputs": [
    {
     "data": {
      "text/plain": [
       "pandas.io.parsers.TextFileReader"
      ]
     },
     "execution_count": 80,
     "metadata": {},
     "output_type": "execute_result"
    }
   ],
   "source": [
    "filetot = pd.read_csv('bookings_sample.csv.bz2',sep = '^',usecols = ['year','pax','arr_port'],chunksize = 1000)\n",
    "type(filetot)"
   ]
  },
  {
   "cell_type": "code",
   "execution_count": 81,
   "metadata": {},
   "outputs": [
    {
     "data": {
      "text/plain": [
       "pandas.core.frame.DataFrame"
      ]
     },
     "execution_count": 81,
     "metadata": {},
     "output_type": "execute_result"
    }
   ],
   "source": [
    "file0 = next(filetot)\n",
    "type(file0)"
   ]
  },
  {
   "cell_type": "code",
   "execution_count": 82,
   "metadata": {},
   "outputs": [
    {
     "data": {
      "text/plain": [
       "(1000, 3)"
      ]
     },
     "execution_count": 82,
     "metadata": {},
     "output_type": "execute_result"
    }
   ],
   "source": [
    "file0.shape"
   ]
  },
  {
   "cell_type": "code",
   "execution_count": 95,
   "metadata": {
    "scrolled": true
   },
   "outputs": [],
   "source": [
    "chunk_tot = pd.DataFrame()\n",
    "filetot = pd.read_csv('bookings_sample.csv.bz2',sep = '^',usecols = ['year','pax','arr_port'],chunksize = 1000)\n",
    "for i,chunk in enumerate(filetot):\n",
    "    file = chunk.dropna()\n",
    "    file = file[ file['year'] == 2013 ]\n",
    "    file_group = pd.DataFrame(file.groupby('arr_port')['pax'].sum())\n",
    "    chunk_tot = chunk_tot.append(file_group)\n",
    "top_airports = chunk_tot.reset_index().groupby('arr_port').sum().sort_values('pax',ascending = False).head()"
   ]
  },
  {
   "cell_type": "markdown",
   "metadata": {},
   "source": [
    "Una vez que ejecutamos el método chunk en datos de muestra y obtenemos los mismos resultados que con el código simple, estamos listos para avanzar en el archivo grande."
   ]
  },
  {
   "cell_type": "markdown",
   "metadata": {},
   "source": [
    "Ahora ejecutamos el mismo proceso para el archivo completo"
   ]
  },
  {
   "cell_type": "code",
   "execution_count": 96,
   "metadata": {},
   "outputs": [],
   "source": [
    "chunk_tot = pd.DataFrame()\n",
    "filetot = pd.read_csv('bookings.csv.bz2',sep = '^',usecols = ['year','pax','arr_port'],chunksize = 1000)\n",
    "for i,chunk in enumerate(filetot):\n",
    "    file = chunk.dropna()\n",
    "    file = file[ file['year'] == 2013 ]\n",
    "    file_group = pd.DataFrame(file.groupby('arr_port')['pax'].sum())\n",
    "    chunk_tot = chunk_tot.append(file_group)\n",
    "top_airports = chunk_tot.reset_index().groupby('arr_port').sum().sort_values('pax',ascending = False)"
   ]
  },
  {
   "cell_type": "markdown",
   "metadata": {},
   "source": [
    "Para resolver el \"Bonus\" tenemos que instalar geobases pip instalar geobases"
   ]
  },
  {
   "cell_type": "code",
   "execution_count": 97,
   "metadata": {},
   "outputs": [],
   "source": [
    "from GeoBases import GeoBase"
   ]
  },
  {
   "cell_type": "code",
   "execution_count": 98,
   "metadata": {},
   "outputs": [],
   "source": [
    "geoDict=GeoBase(data='ori_por', verbose=False)"
   ]
  },
  {
   "cell_type": "code",
   "execution_count": 99,
   "metadata": {},
   "outputs": [
    {
     "data": {
      "text/plain": [
       "GeoBases.GeoBaseModule.GeoBase"
      ]
     },
     "execution_count": 99,
     "metadata": {},
     "output_type": "execute_result"
    }
   ],
   "source": [
    "type(geoDict)"
   ]
  },
  {
   "cell_type": "code",
   "execution_count": 108,
   "metadata": {
    "scrolled": true
   },
   "outputs": [
    {
     "data": {
      "text/plain": [
       "['__key__',\n",
       " '__dup__',\n",
       " '__par__',\n",
       " '__lno__',\n",
       " 'iata_code',\n",
       " 'icao_code',\n",
       " 'faa_code',\n",
       " 'is_geonames',\n",
       " 'geoname_id',\n",
       " 'valid_id',\n",
       " 'name',\n",
       " 'asciiname',\n",
       " 'lat',\n",
       " 'lng',\n",
       " 'fclass',\n",
       " 'fcode',\n",
       " 'page_rank',\n",
       " 'date_from',\n",
       " 'date_until',\n",
       " 'comment',\n",
       " 'country_code',\n",
       " 'cc2',\n",
       " 'country_name',\n",
       " 'continent_name',\n",
       " 'adm1_code',\n",
       " 'adm1_name_utf',\n",
       " 'adm1_name_ascii',\n",
       " 'adm2_code',\n",
       " 'adm2_name_utf',\n",
       " 'adm2_name_ascii',\n",
       " 'adm3_code',\n",
       " 'adm4_code',\n",
       " 'population',\n",
       " 'elevation',\n",
       " 'gtopo30',\n",
       " 'timezone',\n",
       " 'gmt_offset',\n",
       " 'dst_offset',\n",
       " 'raw_offset',\n",
       " 'moddate',\n",
       " 'city_code',\n",
       " 'city_name_utf',\n",
       " 'city_name_ascii',\n",
       " 'tvl_por_list@raw',\n",
       " 'tvl_por_list',\n",
       " 'state_code',\n",
       " 'location_type@raw',\n",
       " 'location_type',\n",
       " 'wiki_link',\n",
       " 'alt_name_section@raw',\n",
       " 'alt_name_section',\n",
       " '__gar__']"
      ]
     },
     "execution_count": 108,
     "metadata": {},
     "output_type": "execute_result"
    }
   ],
   "source": [
    "geoDict.fields # obteniendo los campos de la tabla"
   ]
  },
  {
   "cell_type": "code",
   "execution_count": 101,
   "metadata": {
    "scrolled": true
   },
   "outputs": [
    {
     "data": {
      "text/plain": [
       "{'__dup__': ['MAD@1'],\n",
       " '__gar__': [],\n",
       " '__key__': 'MAD',\n",
       " '__lno__': 7379,\n",
       " '__par__': [],\n",
       " 'adm1_code': '29',\n",
       " 'adm1_name_ascii': 'Madrid',\n",
       " 'adm1_name_utf': 'Madrid',\n",
       " 'adm2_code': 'M',\n",
       " 'adm2_name_ascii': 'Provincia de Madrid',\n",
       " 'adm2_name_utf': 'Provincia de Madrid',\n",
       " 'adm3_code': '28079',\n",
       " 'adm4_code': '',\n",
       " 'alt_name_section': (('es', 'Aeropuerto de Madrid', ''),\n",
       "  ('es', 'Barajas', ''),\n",
       "  ('de', 'Flughafen Madrid', 'p')),\n",
       " 'alt_name_section@raw': 'es|Aeropuerto de Madrid|=es|Barajas|=de|Flughafen Madrid|p',\n",
       " 'asciiname': 'Madrid / Barajas',\n",
       " 'cc2': '',\n",
       " 'city_code': 'MAD',\n",
       " 'city_name_ascii': 'Madrid',\n",
       " 'city_name_utf': 'Madrid',\n",
       " 'comment': '',\n",
       " 'continent_name': 'Europe',\n",
       " 'country_code': 'ES',\n",
       " 'country_name': 'Spain',\n",
       " 'date_from': '',\n",
       " 'date_until': '',\n",
       " 'dst_offset': '2.0',\n",
       " 'elevation': '609',\n",
       " 'faa_code': '',\n",
       " 'fclass': 'S',\n",
       " 'fcode': 'AIRP',\n",
       " 'geoname_id': '6299345',\n",
       " 'gmt_offset': '1.0',\n",
       " 'gtopo30': '575',\n",
       " 'iata_code': 'MAD',\n",
       " 'icao_code': 'LEMD',\n",
       " 'is_geonames': 'Y',\n",
       " 'lat': '40.493556',\n",
       " 'lng': '-3.566764',\n",
       " 'location_type': ('A',),\n",
       " 'location_type@raw': 'A',\n",
       " 'moddate': '2012-03-04',\n",
       " 'name': 'Madrid / Barajas',\n",
       " 'page_rank': '0.392784873731',\n",
       " 'population': '0',\n",
       " 'raw_offset': '1.0',\n",
       " 'state_code': '',\n",
       " 'timezone': 'Europe/Madrid',\n",
       " 'tvl_por_list': (),\n",
       " 'tvl_por_list@raw': '',\n",
       " 'valid_id': '',\n",
       " 'wiki_link': 'http://en.wikipedia.org/wiki/Madrid-Barajas_Airport'}"
      ]
     },
     "execution_count": 101,
     "metadata": {},
     "output_type": "execute_result"
    }
   ],
   "source": [
    "geoDict.get('MAD') # Obteniendo los datos de Madrid"
   ]
  },
  {
   "cell_type": "code",
   "execution_count": 102,
   "metadata": {},
   "outputs": [
    {
     "data": {
      "text/plain": [
       "'London Heathrow Airport'"
      ]
     },
     "execution_count": 102,
     "metadata": {},
     "output_type": "execute_result"
    }
   ],
   "source": [
    "geoDict.get('LHR')['name'] # obteniendo el nombre del aeropuerto del pais con siglas \"LHR\""
   ]
  },
  {
   "cell_type": "code",
   "execution_count": 103,
   "metadata": {},
   "outputs": [],
   "source": [
    "top_airports=top_airports.reset_index()"
   ]
  },
  {
   "cell_type": "code",
   "execution_count": 104,
   "metadata": {},
   "outputs": [
    {
     "data": {
      "text/html": [
       "<div>\n",
       "<style scoped>\n",
       "    .dataframe tbody tr th:only-of-type {\n",
       "        vertical-align: middle;\n",
       "    }\n",
       "\n",
       "    .dataframe tbody tr th {\n",
       "        vertical-align: top;\n",
       "    }\n",
       "\n",
       "    .dataframe thead th {\n",
       "        text-align: right;\n",
       "    }\n",
       "</style>\n",
       "<table border=\"1\" class=\"dataframe\">\n",
       "  <thead>\n",
       "    <tr style=\"text-align: right;\">\n",
       "      <th></th>\n",
       "      <th>arr_port</th>\n",
       "      <th>pax</th>\n",
       "    </tr>\n",
       "  </thead>\n",
       "  <tbody>\n",
       "    <tr>\n",
       "      <th>0</th>\n",
       "      <td>LHR</td>\n",
       "      <td>88809.0</td>\n",
       "    </tr>\n",
       "    <tr>\n",
       "      <th>1</th>\n",
       "      <td>MCO</td>\n",
       "      <td>70930.0</td>\n",
       "    </tr>\n",
       "    <tr>\n",
       "      <th>2</th>\n",
       "      <td>LAX</td>\n",
       "      <td>70530.0</td>\n",
       "    </tr>\n",
       "    <tr>\n",
       "      <th>3</th>\n",
       "      <td>LAS</td>\n",
       "      <td>69630.0</td>\n",
       "    </tr>\n",
       "    <tr>\n",
       "      <th>4</th>\n",
       "      <td>JFK</td>\n",
       "      <td>66270.0</td>\n",
       "    </tr>\n",
       "  </tbody>\n",
       "</table>\n",
       "</div>"
      ],
      "text/plain": [
       "   arr_port      pax\n",
       "0  LHR       88809.0\n",
       "1  MCO       70930.0\n",
       "2  LAX       70530.0\n",
       "3  LAS       69630.0\n",
       "4  JFK       66270.0"
      ]
     },
     "execution_count": 104,
     "metadata": {},
     "output_type": "execute_result"
    }
   ],
   "source": [
    "top_airports.head()"
   ]
  },
  {
   "cell_type": "code",
   "execution_count": 105,
   "metadata": {},
   "outputs": [
    {
     "data": {
      "text/plain": [
       "'LHR'"
      ]
     },
     "execution_count": 105,
     "metadata": {},
     "output_type": "execute_result"
    }
   ],
   "source": [
    "top_airports.arr_port[0].strip() #obteniendo las siglas de la primera fila"
   ]
  },
  {
   "cell_type": "code",
   "execution_count": 106,
   "metadata": {},
   "outputs": [
    {
     "data": {
      "text/plain": [
       "'London Heathrow Airport'"
      ]
     },
     "execution_count": 106,
     "metadata": {},
     "output_type": "execute_result"
    }
   ],
   "source": [
    "geoDict.get( top_airports.arr_port[0].strip() )['name'] # obteniendo el aeropuerto de la primera fila de la tabla"
   ]
  },
  {
   "cell_type": "markdown",
   "metadata": {},
   "source": [
    "Agregando los aeropuertos"
   ]
  },
  {
   "cell_type": "code",
   "execution_count": 110,
   "metadata": {},
   "outputs": [],
   "source": [
    "top_airports['aeropuertos'] = top_airports.arr_port.map( lambda x: geoDict.get( x.strip() )['name'] )"
   ]
  },
  {
   "cell_type": "code",
   "execution_count": 111,
   "metadata": {},
   "outputs": [
    {
     "data": {
      "text/html": [
       "<div>\n",
       "<style scoped>\n",
       "    .dataframe tbody tr th:only-of-type {\n",
       "        vertical-align: middle;\n",
       "    }\n",
       "\n",
       "    .dataframe tbody tr th {\n",
       "        vertical-align: top;\n",
       "    }\n",
       "\n",
       "    .dataframe thead th {\n",
       "        text-align: right;\n",
       "    }\n",
       "</style>\n",
       "<table border=\"1\" class=\"dataframe\">\n",
       "  <thead>\n",
       "    <tr style=\"text-align: right;\">\n",
       "      <th></th>\n",
       "      <th>arr_port</th>\n",
       "      <th>pax</th>\n",
       "      <th>aeropuertos</th>\n",
       "    </tr>\n",
       "  </thead>\n",
       "  <tbody>\n",
       "    <tr>\n",
       "      <th>0</th>\n",
       "      <td>LHR</td>\n",
       "      <td>88809.0</td>\n",
       "      <td>London Heathrow Airport</td>\n",
       "    </tr>\n",
       "    <tr>\n",
       "      <th>1</th>\n",
       "      <td>MCO</td>\n",
       "      <td>70930.0</td>\n",
       "      <td>Orlando International Airport</td>\n",
       "    </tr>\n",
       "    <tr>\n",
       "      <th>2</th>\n",
       "      <td>LAX</td>\n",
       "      <td>70530.0</td>\n",
       "      <td>Los Angeles International Airport</td>\n",
       "    </tr>\n",
       "    <tr>\n",
       "      <th>3</th>\n",
       "      <td>LAS</td>\n",
       "      <td>69630.0</td>\n",
       "      <td>Mc Carran International Airport</td>\n",
       "    </tr>\n",
       "    <tr>\n",
       "      <th>4</th>\n",
       "      <td>JFK</td>\n",
       "      <td>66270.0</td>\n",
       "      <td>John F Kennedy International Airport</td>\n",
       "    </tr>\n",
       "  </tbody>\n",
       "</table>\n",
       "</div>"
      ],
      "text/plain": [
       "   arr_port      pax                           aeropuertos\n",
       "0  LHR       88809.0               London Heathrow Airport\n",
       "1  MCO       70930.0         Orlando International Airport\n",
       "2  LAX       70530.0     Los Angeles International Airport\n",
       "3  LAS       69630.0       Mc Carran International Airport\n",
       "4  JFK       66270.0  John F Kennedy International Airport"
      ]
     },
     "execution_count": 111,
     "metadata": {},
     "output_type": "execute_result"
    }
   ],
   "source": [
    "top_airports.head()"
   ]
  },
  {
   "cell_type": "code",
   "execution_count": 114,
   "metadata": {},
   "outputs": [],
   "source": [
    "top_airports = top_airports.astype({'pax':int})"
   ]
  },
  {
   "cell_type": "markdown",
   "metadata": {},
   "source": [
    "Exportando en un archivo .csv"
   ]
  },
  {
   "cell_type": "code",
   "execution_count": 115,
   "metadata": {},
   "outputs": [],
   "source": [
    "top_airports.to_csv('airports_pax.csv',sep = '^',index = False)"
   ]
  },
  {
   "cell_type": "markdown",
   "metadata": {},
   "source": [
    "## Ejercicio 5"
   ]
  },
  {
   "cell_type": "markdown",
   "metadata": {},
   "source": [
    "### Escribe un servicio web"
   ]
  },
  {
   "cell_type": "markdown",
   "metadata": {},
   "source": [
    "Envuelva la salida del segundo ejercicio en un servicio web que devuelve los datos en formato .json (en lugar de imprimir en la salida estándar).\n",
    "\n",
    "El servicio web debe aceptar un parámetro n> 0. Para los 10 aeropuertos principales, n es 10. Para los X aeropuertos principales, n es X"
   ]
  },
  {
   "cell_type": "code",
   "execution_count": 116,
   "metadata": {},
   "outputs": [],
   "source": [
    "from flask import Flask"
   ]
  },
  {
   "cell_type": "code",
   "execution_count": 117,
   "metadata": {},
   "outputs": [],
   "source": [
    "app = Flask('My first web service')\n",
    "@app.route('/hello',methods=['GET'])  # GET significa devolver el mensaje en return\n",
    "\n",
    "def get_hello():\n",
    "    return \"Hello from the web service\""
   ]
  },
  {
   "cell_type": "code",
   "execution_count": 118,
   "metadata": {},
   "outputs": [
    {
     "name": "stderr",
     "output_type": "stream",
     "text": [
      " * Running on http://127.0.0.1:5000/ (Press CTRL+C to quit)\n",
      "127.0.0.1 - - [06/Feb/2019 02:54:30] \"\u001b[33mGET / HTTP/1.1\u001b[0m\" 404 -\n",
      "127.0.0.1 - - [06/Feb/2019 02:54:30] \"\u001b[33mGET /favicon.ico HTTP/1.1\u001b[0m\" 404 -\n",
      "127.0.0.1 - - [06/Feb/2019 02:54:42] \"\u001b[37mGET /hello HTTP/1.1\u001b[0m\" 200 -\n",
      "127.0.0.1 - - [06/Feb/2019 02:54:42] \"\u001b[33mGET /favicon.ico HTTP/1.1\u001b[0m\" 404 -\n"
     ]
    }
   ],
   "source": [
    "app.run()"
   ]
  },
  {
   "cell_type": "code",
   "execution_count": 119,
   "metadata": {},
   "outputs": [],
   "source": [
    "app = Flask('My first web service')\n",
    "@app.route('/ret_number/<n>',methods=['GET'])  # GET significa devolver el mensaje en return\n",
    "\n",
    "def get_number_1(n):\n",
    "    try:\n",
    "        numb=int(n)\n",
    "        return 'The number is %i' % numb\n",
    "    except:\n",
    "        return 'Not a number'"
   ]
  },
  {
   "cell_type": "code",
   "execution_count": 121,
   "metadata": {},
   "outputs": [
    {
     "name": "stderr",
     "output_type": "stream",
     "text": [
      " * Running on http://127.0.0.1:5000/ (Press CTRL+C to quit)\n",
      "127.0.0.1 - - [06/Feb/2019 02:56:42] \"\u001b[33mGET / HTTP/1.1\u001b[0m\" 404 -\n",
      "127.0.0.1 - - [06/Feb/2019 02:56:42] \"\u001b[33mGET /favicon.ico HTTP/1.1\u001b[0m\" 404 -\n",
      "127.0.0.1 - - [06/Feb/2019 02:57:16] \"\u001b[37mGET /ret_number/5 HTTP/1.1\u001b[0m\" 200 -\n",
      "127.0.0.1 - - [06/Feb/2019 02:57:16] \"\u001b[33mGET /favicon.ico HTTP/1.1\u001b[0m\" 404 -\n"
     ]
    }
   ],
   "source": [
    "app.run()"
   ]
  },
  {
   "cell_type": "code",
   "execution_count": 122,
   "metadata": {},
   "outputs": [],
   "source": [
    "app = Flask('My first web service')\n",
    "@app.route('/ret_number/<n>',methods=['GET'])  # GET significa devolver el mensaje en return\n",
    "\n",
    "def get_number(n):\n",
    "    try:\n",
    "        numb=int(n)\n",
    "        return 'The number is %i' % numb\n",
    "    except:\n",
    "        return 'Not a number'\n",
    "\n",
    "@app.route('/hello',methods=['GET'])\n",
    "\n",
    "def get_hello_1():\n",
    "    return \"Hello from the web service\""
   ]
  },
  {
   "cell_type": "code",
   "execution_count": 123,
   "metadata": {},
   "outputs": [
    {
     "name": "stderr",
     "output_type": "stream",
     "text": [
      " * Running on http://127.0.0.1:5000/ (Press CTRL+C to quit)\n",
      "127.0.0.1 - - [06/Feb/2019 02:58:09] \"\u001b[33mGET / HTTP/1.1\u001b[0m\" 404 -\n",
      "127.0.0.1 - - [06/Feb/2019 02:58:09] \"\u001b[33mGET /favicon.ico HTTP/1.1\u001b[0m\" 404 -\n",
      "127.0.0.1 - - [06/Feb/2019 02:58:17] \"\u001b[37mGET /ret_number/3 HTTP/1.1\u001b[0m\" 200 -\n",
      "127.0.0.1 - - [06/Feb/2019 02:58:17] \"\u001b[33mGET /favicon.ico HTTP/1.1\u001b[0m\" 404 -\n",
      "127.0.0.1 - - [06/Feb/2019 02:58:23] \"\u001b[37mGET /hello HTTP/1.1\u001b[0m\" 200 -\n",
      "127.0.0.1 - - [06/Feb/2019 02:58:23] \"\u001b[33mGET /favicon.ico HTTP/1.1\u001b[0m\" 404 -\n"
     ]
    }
   ],
   "source": [
    "app.run()"
   ]
  },
  {
   "cell_type": "code",
   "execution_count": 124,
   "metadata": {},
   "outputs": [],
   "source": [
    "import pandas as pd"
   ]
  },
  {
   "cell_type": "code",
   "execution_count": 126,
   "metadata": {},
   "outputs": [
    {
     "data": {
      "text/html": [
       "<div>\n",
       "<style scoped>\n",
       "    .dataframe tbody tr th:only-of-type {\n",
       "        vertical-align: middle;\n",
       "    }\n",
       "\n",
       "    .dataframe tbody tr th {\n",
       "        vertical-align: top;\n",
       "    }\n",
       "\n",
       "    .dataframe thead th {\n",
       "        text-align: right;\n",
       "    }\n",
       "</style>\n",
       "<table border=\"1\" class=\"dataframe\">\n",
       "  <thead>\n",
       "    <tr style=\"text-align: right;\">\n",
       "      <th></th>\n",
       "      <th>arr_port</th>\n",
       "      <th>pax</th>\n",
       "      <th>aeropuertos</th>\n",
       "    </tr>\n",
       "  </thead>\n",
       "  <tbody>\n",
       "    <tr>\n",
       "      <th>0</th>\n",
       "      <td>LHR</td>\n",
       "      <td>88809</td>\n",
       "      <td>London Heathrow Airport</td>\n",
       "    </tr>\n",
       "    <tr>\n",
       "      <th>1</th>\n",
       "      <td>MCO</td>\n",
       "      <td>70930</td>\n",
       "      <td>Orlando International Airport</td>\n",
       "    </tr>\n",
       "    <tr>\n",
       "      <th>2</th>\n",
       "      <td>LAX</td>\n",
       "      <td>70530</td>\n",
       "      <td>Los Angeles International Airport</td>\n",
       "    </tr>\n",
       "    <tr>\n",
       "      <th>3</th>\n",
       "      <td>LAS</td>\n",
       "      <td>69630</td>\n",
       "      <td>Mc Carran International Airport</td>\n",
       "    </tr>\n",
       "    <tr>\n",
       "      <th>4</th>\n",
       "      <td>JFK</td>\n",
       "      <td>66270</td>\n",
       "      <td>John F Kennedy International Airport</td>\n",
       "    </tr>\n",
       "  </tbody>\n",
       "</table>\n",
       "</div>"
      ],
      "text/plain": [
       "   arr_port    pax                           aeropuertos\n",
       "0  LHR       88809               London Heathrow Airport\n",
       "1  MCO       70930         Orlando International Airport\n",
       "2  LAX       70530     Los Angeles International Airport\n",
       "3  LAS       69630       Mc Carran International Airport\n",
       "4  JFK       66270  John F Kennedy International Airport"
      ]
     },
     "execution_count": 126,
     "metadata": {},
     "output_type": "execute_result"
    }
   ],
   "source": [
    "top_airports = pd.read_csv('airports_pax.csv',sep='^')\n",
    "top_airports.head()"
   ]
  },
  {
   "cell_type": "markdown",
   "metadata": {},
   "source": [
    "Convirtiendo a formato .json"
   ]
  },
  {
   "cell_type": "code",
   "execution_count": 128,
   "metadata": {},
   "outputs": [
    {
     "data": {
      "text/plain": [
       "'{\"arr_port\":{\"0\":\"LHR     \",\"1\":\"MCO     \",\"2\":\"LAX     \",\"3\":\"LAS     \",\"4\":\"JFK     \"},\"pax\":{\"0\":88809,\"1\":70930,\"2\":70530,\"3\":69630,\"4\":66270},\"aeropuertos\":{\"0\":\"London Heathrow Airport\",\"1\":\"Orlando International Airport\",\"2\":\"Los Angeles International Airport\",\"3\":\"Mc Carran International Airport\",\"4\":\"John F Kennedy International Airport\"}}'"
      ]
     },
     "execution_count": 128,
     "metadata": {},
     "output_type": "execute_result"
    }
   ],
   "source": [
    "top_airports.head(5).to_json()"
   ]
  },
  {
   "cell_type": "markdown",
   "metadata": {},
   "source": [
    "Utilice estas páginas para verificar fácilmente la estructura y el contenido de JSON:\n",
    "    \n",
    "http://jsonprettyprint.com/\n",
    "    \n",
    "https://jsonformatter.curiousconcept.com/"
   ]
  },
  {
   "cell_type": "code",
   "execution_count": 129,
   "metadata": {},
   "outputs": [],
   "source": [
    "app2 = Flask(\"Top Airports\")\n",
    "@app2.route('/top/<int:n>',methods=['GET'])\n",
    "\n",
    "def get_top(n):\n",
    "    d = top_airports.head(n)\n",
    "    return d.to_json()"
   ]
  },
  {
   "cell_type": "code",
   "execution_count": 137,
   "metadata": {},
   "outputs": [
    {
     "name": "stderr",
     "output_type": "stream",
     "text": [
      " * Running on http://127.0.0.1:5000/ (Press CTRL+C to quit)\n",
      "127.0.0.1 - - [06/Feb/2019 03:16:35] \"\u001b[37mGET /top/15 HTTP/1.1\u001b[0m\" 200 -\n"
     ]
    }
   ],
   "source": [
    "app2.run()"
   ]
  },
  {
   "cell_type": "markdown",
   "metadata": {},
   "source": [
    "En paralelo se puede escribir el siguiente codigo desde otro notebook:"
   ]
  },
  {
   "cell_type": "code",
   "execution_count": null,
   "metadata": {},
   "outputs": [],
   "source": [
    "r = pd.read_json('http://127.0.0.1:5000/top/15')"
   ]
  },
  {
   "cell_type": "code",
   "execution_count": null,
   "metadata": {},
   "outputs": [],
   "source": [
    "r.head()"
   ]
  },
  {
   "cell_type": "markdown",
   "metadata": {},
   "source": [
    "## Ejercicio 3"
   ]
  },
  {
   "cell_type": "markdown",
   "metadata": {},
   "source": [
    "### Grafique el número de búsquedas mensuales de vuelos que llegan a Málaga, Madrid o Barcelona."
   ]
  },
  {
   "cell_type": "markdown",
   "metadata": {},
   "source": [
    "Para el aeropuerto que llega, puede usar la columna Destination  en el archivo searches.csv.bz2.\n",
    "\n",
    "Graficar una curva para Málaga, otra para Madrid y otra para Barcelona, en la misma figura."
   ]
  },
  {
   "cell_type": "markdown",
   "metadata": {},
   "source": [
    "**Pasos a seguir:**"
   ]
  },
  {
   "cell_type": "markdown",
   "metadata": {},
   "source": [
    "**1) Familiarizate con los datos**"
   ]
  },
  {
   "cell_type": "code",
   "execution_count": 138,
   "metadata": {},
   "outputs": [],
   "source": [
    "import pandas as pd"
   ]
  },
  {
   "cell_type": "code",
   "execution_count": 143,
   "metadata": {},
   "outputs": [],
   "source": [
    "s=pd.read_csv('./searches_sample.csv.bz2',sep = '^')\n",
    "#s=pd.read_csv('./searches.csv.bz2',sep = '^',nrows = 10000)"
   ]
  },
  {
   "cell_type": "code",
   "execution_count": 144,
   "metadata": {},
   "outputs": [
    {
     "data": {
      "text/html": [
       "<div>\n",
       "<style scoped>\n",
       "    .dataframe tbody tr th:only-of-type {\n",
       "        vertical-align: middle;\n",
       "    }\n",
       "\n",
       "    .dataframe tbody tr th {\n",
       "        vertical-align: top;\n",
       "    }\n",
       "\n",
       "    .dataframe thead th {\n",
       "        text-align: right;\n",
       "    }\n",
       "</style>\n",
       "<table border=\"1\" class=\"dataframe\">\n",
       "  <thead>\n",
       "    <tr style=\"text-align: right;\">\n",
       "      <th></th>\n",
       "      <th>Date</th>\n",
       "      <th>Time</th>\n",
       "      <th>TxnCode</th>\n",
       "      <th>OfficeID</th>\n",
       "      <th>Country</th>\n",
       "      <th>Origin</th>\n",
       "      <th>Destination</th>\n",
       "      <th>RoundTrip</th>\n",
       "      <th>NbSegments</th>\n",
       "      <th>Seg1Departure</th>\n",
       "      <th>Seg1Arrival</th>\n",
       "      <th>Seg1Date</th>\n",
       "      <th>Seg1Carrier</th>\n",
       "      <th>Seg1BookingCode</th>\n",
       "      <th>Seg2Departure</th>\n",
       "      <th>Seg2Arrival</th>\n",
       "      <th>Seg2Date</th>\n",
       "      <th>Seg2Carrier</th>\n",
       "      <th>Seg2BookingCode</th>\n",
       "      <th>Seg3Departure</th>\n",
       "      <th>Seg3Arrival</th>\n",
       "      <th>Seg3Date</th>\n",
       "      <th>Seg3Carrier</th>\n",
       "      <th>Seg3BookingCode</th>\n",
       "      <th>Seg4Departure</th>\n",
       "      <th>Seg4Arrival</th>\n",
       "      <th>Seg4Date</th>\n",
       "      <th>Seg4Carrier</th>\n",
       "      <th>Seg4BookingCode</th>\n",
       "      <th>Seg5Departure</th>\n",
       "      <th>Seg5Arrival</th>\n",
       "      <th>Seg5Date</th>\n",
       "      <th>Seg5Carrier</th>\n",
       "      <th>Seg5BookingCode</th>\n",
       "      <th>Seg6Departure</th>\n",
       "      <th>Seg6Arrival</th>\n",
       "      <th>Seg6Date</th>\n",
       "      <th>Seg6Carrier</th>\n",
       "      <th>Seg6BookingCode</th>\n",
       "      <th>From</th>\n",
       "      <th>IsPublishedForNeg</th>\n",
       "      <th>IsFromInternet</th>\n",
       "      <th>IsFromVista</th>\n",
       "      <th>TerminalID</th>\n",
       "      <th>InternetOffice</th>\n",
       "    </tr>\n",
       "  </thead>\n",
       "  <tbody>\n",
       "    <tr>\n",
       "      <th>0</th>\n",
       "      <td>2013-01-01</td>\n",
       "      <td>20:25:57</td>\n",
       "      <td>MPT</td>\n",
       "      <td>624d8c3ac0b3a7ca03e3c167e0f48327</td>\n",
       "      <td>DE</td>\n",
       "      <td>TXL</td>\n",
       "      <td>AUH</td>\n",
       "      <td>1</td>\n",
       "      <td>2</td>\n",
       "      <td>TXL</td>\n",
       "      <td>AUH</td>\n",
       "      <td>2013-01-26</td>\n",
       "      <td>D2</td>\n",
       "      <td>NaN</td>\n",
       "      <td>AUH</td>\n",
       "      <td>TXL</td>\n",
       "      <td>2013-02-02</td>\n",
       "      <td>D2</td>\n",
       "      <td>NaN</td>\n",
       "      <td>NaN</td>\n",
       "      <td>NaN</td>\n",
       "      <td>NaN</td>\n",
       "      <td>NaN</td>\n",
       "      <td>NaN</td>\n",
       "      <td>NaN</td>\n",
       "      <td>NaN</td>\n",
       "      <td>NaN</td>\n",
       "      <td>NaN</td>\n",
       "      <td>NaN</td>\n",
       "      <td>NaN</td>\n",
       "      <td>NaN</td>\n",
       "      <td>NaN</td>\n",
       "      <td>NaN</td>\n",
       "      <td>NaN</td>\n",
       "      <td>NaN</td>\n",
       "      <td>NaN</td>\n",
       "      <td>NaN</td>\n",
       "      <td>NaN</td>\n",
       "      <td>NaN</td>\n",
       "      <td>1ASIWS</td>\n",
       "      <td>0</td>\n",
       "      <td>0</td>\n",
       "      <td>0</td>\n",
       "      <td>d41d8cd98f00b204e9800998ecf8427e</td>\n",
       "      <td>FRA</td>\n",
       "    </tr>\n",
       "    <tr>\n",
       "      <th>1</th>\n",
       "      <td>2013-01-01</td>\n",
       "      <td>10:15:33</td>\n",
       "      <td>MPT</td>\n",
       "      <td>b0af35b31588dc4ab06d5cf2986e8e02</td>\n",
       "      <td>MD</td>\n",
       "      <td>ATH</td>\n",
       "      <td>MIL</td>\n",
       "      <td>0</td>\n",
       "      <td>1</td>\n",
       "      <td>ATH</td>\n",
       "      <td>MIL</td>\n",
       "      <td>2013-01-04</td>\n",
       "      <td>NaN</td>\n",
       "      <td>NaN</td>\n",
       "      <td>NaN</td>\n",
       "      <td>NaN</td>\n",
       "      <td>NaN</td>\n",
       "      <td>NaN</td>\n",
       "      <td>NaN</td>\n",
       "      <td>NaN</td>\n",
       "      <td>NaN</td>\n",
       "      <td>NaN</td>\n",
       "      <td>NaN</td>\n",
       "      <td>NaN</td>\n",
       "      <td>NaN</td>\n",
       "      <td>NaN</td>\n",
       "      <td>NaN</td>\n",
       "      <td>NaN</td>\n",
       "      <td>NaN</td>\n",
       "      <td>NaN</td>\n",
       "      <td>NaN</td>\n",
       "      <td>NaN</td>\n",
       "      <td>NaN</td>\n",
       "      <td>NaN</td>\n",
       "      <td>NaN</td>\n",
       "      <td>NaN</td>\n",
       "      <td>NaN</td>\n",
       "      <td>NaN</td>\n",
       "      <td>NaN</td>\n",
       "      <td>1ASIWS</td>\n",
       "      <td>0</td>\n",
       "      <td>0</td>\n",
       "      <td>0</td>\n",
       "      <td>d41d8cd98f00b204e9800998ecf8427e</td>\n",
       "      <td>KIV</td>\n",
       "    </tr>\n",
       "    <tr>\n",
       "      <th>2</th>\n",
       "      <td>2013-01-01</td>\n",
       "      <td>18:04:49</td>\n",
       "      <td>MPT</td>\n",
       "      <td>3561a60621de06ab1badc8ca55699ef3</td>\n",
       "      <td>US</td>\n",
       "      <td>ICT</td>\n",
       "      <td>SFO</td>\n",
       "      <td>1</td>\n",
       "      <td>2</td>\n",
       "      <td>ICT</td>\n",
       "      <td>SFO</td>\n",
       "      <td>2013-08-02</td>\n",
       "      <td>NaN</td>\n",
       "      <td>NaN</td>\n",
       "      <td>SFO</td>\n",
       "      <td>ICT</td>\n",
       "      <td>2013-08-09</td>\n",
       "      <td>NaN</td>\n",
       "      <td>NaN</td>\n",
       "      <td>NaN</td>\n",
       "      <td>NaN</td>\n",
       "      <td>NaN</td>\n",
       "      <td>NaN</td>\n",
       "      <td>NaN</td>\n",
       "      <td>NaN</td>\n",
       "      <td>NaN</td>\n",
       "      <td>NaN</td>\n",
       "      <td>NaN</td>\n",
       "      <td>NaN</td>\n",
       "      <td>NaN</td>\n",
       "      <td>NaN</td>\n",
       "      <td>NaN</td>\n",
       "      <td>NaN</td>\n",
       "      <td>NaN</td>\n",
       "      <td>NaN</td>\n",
       "      <td>NaN</td>\n",
       "      <td>NaN</td>\n",
       "      <td>NaN</td>\n",
       "      <td>NaN</td>\n",
       "      <td>1ASIWS</td>\n",
       "      <td>0</td>\n",
       "      <td>0</td>\n",
       "      <td>0</td>\n",
       "      <td>d41d8cd98f00b204e9800998ecf8427e</td>\n",
       "      <td>NYC</td>\n",
       "    </tr>\n",
       "    <tr>\n",
       "      <th>3</th>\n",
       "      <td>2013-01-01</td>\n",
       "      <td>17:42:40</td>\n",
       "      <td>FXP</td>\n",
       "      <td>1864e5e8013d9414150e91d26b6a558b</td>\n",
       "      <td>SE</td>\n",
       "      <td>RNB</td>\n",
       "      <td>ARN</td>\n",
       "      <td>0</td>\n",
       "      <td>1</td>\n",
       "      <td>RNB</td>\n",
       "      <td>ARN</td>\n",
       "      <td>2013-01-02</td>\n",
       "      <td>DU</td>\n",
       "      <td>W</td>\n",
       "      <td>NaN</td>\n",
       "      <td>NaN</td>\n",
       "      <td>NaN</td>\n",
       "      <td>NaN</td>\n",
       "      <td>NaN</td>\n",
       "      <td>NaN</td>\n",
       "      <td>NaN</td>\n",
       "      <td>NaN</td>\n",
       "      <td>NaN</td>\n",
       "      <td>NaN</td>\n",
       "      <td>NaN</td>\n",
       "      <td>NaN</td>\n",
       "      <td>NaN</td>\n",
       "      <td>NaN</td>\n",
       "      <td>NaN</td>\n",
       "      <td>NaN</td>\n",
       "      <td>NaN</td>\n",
       "      <td>NaN</td>\n",
       "      <td>NaN</td>\n",
       "      <td>NaN</td>\n",
       "      <td>NaN</td>\n",
       "      <td>NaN</td>\n",
       "      <td>NaN</td>\n",
       "      <td>NaN</td>\n",
       "      <td>NaN</td>\n",
       "      <td>1ASI</td>\n",
       "      <td>0</td>\n",
       "      <td>0</td>\n",
       "      <td>0</td>\n",
       "      <td>d41d8cd98f00b204e9800998ecf8427e</td>\n",
       "      <td>STO</td>\n",
       "    </tr>\n",
       "    <tr>\n",
       "      <th>4</th>\n",
       "      <td>2013-01-01</td>\n",
       "      <td>17:48:29</td>\n",
       "      <td>MPT</td>\n",
       "      <td>1ec336348f44207d2e0027dc3a68c118</td>\n",
       "      <td>NO</td>\n",
       "      <td>OSL</td>\n",
       "      <td>MAD</td>\n",
       "      <td>1</td>\n",
       "      <td>2</td>\n",
       "      <td>OSL</td>\n",
       "      <td>MAD</td>\n",
       "      <td>2013-03-22</td>\n",
       "      <td>NaN</td>\n",
       "      <td>NaN</td>\n",
       "      <td>MAD</td>\n",
       "      <td>OSL</td>\n",
       "      <td>2013-03-31</td>\n",
       "      <td>NaN</td>\n",
       "      <td>NaN</td>\n",
       "      <td>NaN</td>\n",
       "      <td>NaN</td>\n",
       "      <td>NaN</td>\n",
       "      <td>NaN</td>\n",
       "      <td>NaN</td>\n",
       "      <td>NaN</td>\n",
       "      <td>NaN</td>\n",
       "      <td>NaN</td>\n",
       "      <td>NaN</td>\n",
       "      <td>NaN</td>\n",
       "      <td>NaN</td>\n",
       "      <td>NaN</td>\n",
       "      <td>NaN</td>\n",
       "      <td>NaN</td>\n",
       "      <td>NaN</td>\n",
       "      <td>NaN</td>\n",
       "      <td>NaN</td>\n",
       "      <td>NaN</td>\n",
       "      <td>NaN</td>\n",
       "      <td>NaN</td>\n",
       "      <td>1ASIWS</td>\n",
       "      <td>0</td>\n",
       "      <td>0</td>\n",
       "      <td>0</td>\n",
       "      <td>d41d8cd98f00b204e9800998ecf8427e</td>\n",
       "      <td>OSL</td>\n",
       "    </tr>\n",
       "  </tbody>\n",
       "</table>\n",
       "</div>"
      ],
      "text/plain": [
       "         Date      Time TxnCode                          OfficeID Country  \\\n",
       "0  2013-01-01  20:25:57     MPT  624d8c3ac0b3a7ca03e3c167e0f48327      DE   \n",
       "1  2013-01-01  10:15:33     MPT  b0af35b31588dc4ab06d5cf2986e8e02      MD   \n",
       "2  2013-01-01  18:04:49     MPT  3561a60621de06ab1badc8ca55699ef3      US   \n",
       "3  2013-01-01  17:42:40     FXP  1864e5e8013d9414150e91d26b6a558b      SE   \n",
       "4  2013-01-01  17:48:29     MPT  1ec336348f44207d2e0027dc3a68c118      NO   \n",
       "\n",
       "  Origin Destination  RoundTrip  NbSegments Seg1Departure Seg1Arrival  \\\n",
       "0    TXL         AUH          1           2           TXL         AUH   \n",
       "1    ATH         MIL          0           1           ATH         MIL   \n",
       "2    ICT         SFO          1           2           ICT         SFO   \n",
       "3    RNB         ARN          0           1           RNB         ARN   \n",
       "4    OSL         MAD          1           2           OSL         MAD   \n",
       "\n",
       "     Seg1Date Seg1Carrier Seg1BookingCode Seg2Departure Seg2Arrival  \\\n",
       "0  2013-01-26          D2             NaN           AUH         TXL   \n",
       "1  2013-01-04         NaN             NaN           NaN         NaN   \n",
       "2  2013-08-02         NaN             NaN           SFO         ICT   \n",
       "3  2013-01-02          DU               W           NaN         NaN   \n",
       "4  2013-03-22         NaN             NaN           MAD         OSL   \n",
       "\n",
       "     Seg2Date Seg2Carrier Seg2BookingCode Seg3Departure Seg3Arrival Seg3Date  \\\n",
       "0  2013-02-02          D2             NaN           NaN         NaN      NaN   \n",
       "1         NaN         NaN             NaN           NaN         NaN      NaN   \n",
       "2  2013-08-09         NaN             NaN           NaN         NaN      NaN   \n",
       "3         NaN         NaN             NaN           NaN         NaN      NaN   \n",
       "4  2013-03-31         NaN             NaN           NaN         NaN      NaN   \n",
       "\n",
       "  Seg3Carrier Seg3BookingCode Seg4Departure Seg4Arrival Seg4Date Seg4Carrier  \\\n",
       "0         NaN             NaN           NaN         NaN      NaN         NaN   \n",
       "1         NaN             NaN           NaN         NaN      NaN         NaN   \n",
       "2         NaN             NaN           NaN         NaN      NaN         NaN   \n",
       "3         NaN             NaN           NaN         NaN      NaN         NaN   \n",
       "4         NaN             NaN           NaN         NaN      NaN         NaN   \n",
       "\n",
       "  Seg4BookingCode Seg5Departure Seg5Arrival Seg5Date Seg5Carrier  \\\n",
       "0             NaN           NaN         NaN      NaN         NaN   \n",
       "1             NaN           NaN         NaN      NaN         NaN   \n",
       "2             NaN           NaN         NaN      NaN         NaN   \n",
       "3             NaN           NaN         NaN      NaN         NaN   \n",
       "4             NaN           NaN         NaN      NaN         NaN   \n",
       "\n",
       "  Seg5BookingCode Seg6Departure Seg6Arrival Seg6Date Seg6Carrier  \\\n",
       "0             NaN           NaN         NaN      NaN         NaN   \n",
       "1             NaN           NaN         NaN      NaN         NaN   \n",
       "2             NaN           NaN         NaN      NaN         NaN   \n",
       "3             NaN           NaN         NaN      NaN         NaN   \n",
       "4             NaN           NaN         NaN      NaN         NaN   \n",
       "\n",
       "  Seg6BookingCode    From  IsPublishedForNeg  IsFromInternet  IsFromVista  \\\n",
       "0             NaN  1ASIWS                  0               0            0   \n",
       "1             NaN  1ASIWS                  0               0            0   \n",
       "2             NaN  1ASIWS                  0               0            0   \n",
       "3             NaN    1ASI                  0               0            0   \n",
       "4             NaN  1ASIWS                  0               0            0   \n",
       "\n",
       "                         TerminalID InternetOffice  \n",
       "0  d41d8cd98f00b204e9800998ecf8427e            FRA  \n",
       "1  d41d8cd98f00b204e9800998ecf8427e            KIV  \n",
       "2  d41d8cd98f00b204e9800998ecf8427e            NYC  \n",
       "3  d41d8cd98f00b204e9800998ecf8427e            STO  \n",
       "4  d41d8cd98f00b204e9800998ecf8427e            OSL  "
      ]
     },
     "execution_count": 144,
     "metadata": {},
     "output_type": "execute_result"
    }
   ],
   "source": [
    "s.head()"
   ]
  },
  {
   "cell_type": "code",
   "execution_count": 145,
   "metadata": {},
   "outputs": [],
   "source": [
    "pd.set_option('display.max_columns', None)"
   ]
  },
  {
   "cell_type": "code",
   "execution_count": 146,
   "metadata": {},
   "outputs": [
    {
     "data": {
      "text/html": [
       "<div>\n",
       "<style scoped>\n",
       "    .dataframe tbody tr th:only-of-type {\n",
       "        vertical-align: middle;\n",
       "    }\n",
       "\n",
       "    .dataframe tbody tr th {\n",
       "        vertical-align: top;\n",
       "    }\n",
       "\n",
       "    .dataframe thead th {\n",
       "        text-align: right;\n",
       "    }\n",
       "</style>\n",
       "<table border=\"1\" class=\"dataframe\">\n",
       "  <thead>\n",
       "    <tr style=\"text-align: right;\">\n",
       "      <th></th>\n",
       "      <th>RoundTrip</th>\n",
       "      <th>NbSegments</th>\n",
       "      <th>IsPublishedForNeg</th>\n",
       "      <th>IsFromInternet</th>\n",
       "      <th>IsFromVista</th>\n",
       "    </tr>\n",
       "  </thead>\n",
       "  <tbody>\n",
       "    <tr>\n",
       "      <th>count</th>\n",
       "      <td>9999.000000</td>\n",
       "      <td>9999.000000</td>\n",
       "      <td>9999.0</td>\n",
       "      <td>9999.0</td>\n",
       "      <td>9999.0</td>\n",
       "    </tr>\n",
       "    <tr>\n",
       "      <th>mean</th>\n",
       "      <td>0.700670</td>\n",
       "      <td>1.833583</td>\n",
       "      <td>0.0</td>\n",
       "      <td>0.0</td>\n",
       "      <td>0.0</td>\n",
       "    </tr>\n",
       "    <tr>\n",
       "      <th>std</th>\n",
       "      <td>0.457987</td>\n",
       "      <td>0.731857</td>\n",
       "      <td>0.0</td>\n",
       "      <td>0.0</td>\n",
       "      <td>0.0</td>\n",
       "    </tr>\n",
       "    <tr>\n",
       "      <th>min</th>\n",
       "      <td>0.000000</td>\n",
       "      <td>1.000000</td>\n",
       "      <td>0.0</td>\n",
       "      <td>0.0</td>\n",
       "      <td>0.0</td>\n",
       "    </tr>\n",
       "    <tr>\n",
       "      <th>25%</th>\n",
       "      <td>0.000000</td>\n",
       "      <td>1.000000</td>\n",
       "      <td>0.0</td>\n",
       "      <td>0.0</td>\n",
       "      <td>0.0</td>\n",
       "    </tr>\n",
       "    <tr>\n",
       "      <th>50%</th>\n",
       "      <td>1.000000</td>\n",
       "      <td>2.000000</td>\n",
       "      <td>0.0</td>\n",
       "      <td>0.0</td>\n",
       "      <td>0.0</td>\n",
       "    </tr>\n",
       "    <tr>\n",
       "      <th>75%</th>\n",
       "      <td>1.000000</td>\n",
       "      <td>2.000000</td>\n",
       "      <td>0.0</td>\n",
       "      <td>0.0</td>\n",
       "      <td>0.0</td>\n",
       "    </tr>\n",
       "    <tr>\n",
       "      <th>max</th>\n",
       "      <td>1.000000</td>\n",
       "      <td>9.000000</td>\n",
       "      <td>0.0</td>\n",
       "      <td>0.0</td>\n",
       "      <td>0.0</td>\n",
       "    </tr>\n",
       "  </tbody>\n",
       "</table>\n",
       "</div>"
      ],
      "text/plain": [
       "         RoundTrip   NbSegments  IsPublishedForNeg  IsFromInternet  \\\n",
       "count  9999.000000  9999.000000             9999.0          9999.0   \n",
       "mean      0.700670     1.833583                0.0             0.0   \n",
       "std       0.457987     0.731857                0.0             0.0   \n",
       "min       0.000000     1.000000                0.0             0.0   \n",
       "25%       0.000000     1.000000                0.0             0.0   \n",
       "50%       1.000000     2.000000                0.0             0.0   \n",
       "75%       1.000000     2.000000                0.0             0.0   \n",
       "max       1.000000     9.000000                0.0             0.0   \n",
       "\n",
       "       IsFromVista  \n",
       "count       9999.0  \n",
       "mean           0.0  \n",
       "std            0.0  \n",
       "min            0.0  \n",
       "25%            0.0  \n",
       "50%            0.0  \n",
       "75%            0.0  \n",
       "max            0.0  "
      ]
     },
     "execution_count": 146,
     "metadata": {},
     "output_type": "execute_result"
    }
   ],
   "source": [
    "s.describe()"
   ]
  },
  {
   "cell_type": "code",
   "execution_count": 149,
   "metadata": {
    "scrolled": true
   },
   "outputs": [
    {
     "name": "stdout",
     "output_type": "stream",
     "text": [
      "<class 'pandas.core.frame.DataFrame'>\n",
      "RangeIndex: 9999 entries, 0 to 9998\n",
      "Data columns (total 45 columns):\n",
      "Date                 9999 non-null object\n",
      "Time                 9999 non-null object\n",
      "TxnCode              9999 non-null object\n",
      "OfficeID             9999 non-null object\n",
      "Country              9999 non-null object\n",
      "Origin               9999 non-null object\n",
      "Destination          9999 non-null object\n",
      "RoundTrip            9999 non-null int64\n",
      "NbSegments           9999 non-null int64\n",
      "Seg1Departure        9999 non-null object\n",
      "Seg1Arrival          9999 non-null object\n",
      "Seg1Date             9972 non-null object\n",
      "Seg1Carrier          4047 non-null object\n",
      "Seg1BookingCode      1143 non-null object\n",
      "Seg2Departure        7195 non-null object\n",
      "Seg2Arrival          7195 non-null object\n",
      "Seg2Date             7160 non-null object\n",
      "Seg2Carrier          2870 non-null object\n",
      "Seg2BookingCode      998 non-null object\n",
      "Seg3Departure        534 non-null object\n",
      "Seg3Arrival          534 non-null object\n",
      "Seg3Date             531 non-null object\n",
      "Seg3Carrier          517 non-null object\n",
      "Seg3BookingCode      508 non-null object\n",
      "Seg4Departure        440 non-null object\n",
      "Seg4Arrival          440 non-null object\n",
      "Seg4Date             439 non-null object\n",
      "Seg4Carrier          438 non-null object\n",
      "Seg4BookingCode      436 non-null object\n",
      "Seg5Departure        103 non-null object\n",
      "Seg5Arrival          103 non-null object\n",
      "Seg5Date             103 non-null object\n",
      "Seg5Carrier          103 non-null object\n",
      "Seg5BookingCode      103 non-null object\n",
      "Seg6Departure        58 non-null object\n",
      "Seg6Arrival          58 non-null object\n",
      "Seg6Date             58 non-null object\n",
      "Seg6Carrier          58 non-null object\n",
      "Seg6BookingCode      58 non-null object\n",
      "From                 9924 non-null object\n",
      "IsPublishedForNeg    9999 non-null int64\n",
      "IsFromInternet       9999 non-null int64\n",
      "IsFromVista          9999 non-null int64\n",
      "TerminalID           9999 non-null object\n",
      "InternetOffice       9999 non-null object\n",
      "dtypes: int64(5), object(40)\n",
      "memory usage: 3.4+ MB\n"
     ]
    }
   ],
   "source": [
    "s.info()"
   ]
  },
  {
   "cell_type": "code",
   "execution_count": 150,
   "metadata": {},
   "outputs": [
    {
     "data": {
      "text/plain": [
       "(9999, 45)"
      ]
     },
     "execution_count": 150,
     "metadata": {},
     "output_type": "execute_result"
    }
   ],
   "source": [
    "s.shape"
   ]
  },
  {
   "cell_type": "code",
   "execution_count": 151,
   "metadata": {
    "scrolled": true
   },
   "outputs": [
    {
     "data": {
      "text/plain": [
       "['Date',\n",
       " 'Time',\n",
       " 'TxnCode',\n",
       " 'OfficeID',\n",
       " 'Country',\n",
       " 'Origin',\n",
       " 'Destination',\n",
       " 'RoundTrip',\n",
       " 'NbSegments',\n",
       " 'Seg1Departure',\n",
       " 'Seg1Arrival',\n",
       " 'Seg1Date',\n",
       " 'Seg1Carrier',\n",
       " 'Seg1BookingCode',\n",
       " 'Seg2Departure',\n",
       " 'Seg2Arrival',\n",
       " 'Seg2Date',\n",
       " 'Seg2Carrier',\n",
       " 'Seg2BookingCode',\n",
       " 'Seg3Departure',\n",
       " 'Seg3Arrival',\n",
       " 'Seg3Date',\n",
       " 'Seg3Carrier',\n",
       " 'Seg3BookingCode',\n",
       " 'Seg4Departure',\n",
       " 'Seg4Arrival',\n",
       " 'Seg4Date',\n",
       " 'Seg4Carrier',\n",
       " 'Seg4BookingCode',\n",
       " 'Seg5Departure',\n",
       " 'Seg5Arrival',\n",
       " 'Seg5Date',\n",
       " 'Seg5Carrier',\n",
       " 'Seg5BookingCode',\n",
       " 'Seg6Departure',\n",
       " 'Seg6Arrival',\n",
       " 'Seg6Date',\n",
       " 'Seg6Carrier',\n",
       " 'Seg6BookingCode',\n",
       " 'From',\n",
       " 'IsPublishedForNeg',\n",
       " 'IsFromInternet',\n",
       " 'IsFromVista',\n",
       " 'TerminalID',\n",
       " 'InternetOffice']"
      ]
     },
     "execution_count": 151,
     "metadata": {},
     "output_type": "execute_result"
    }
   ],
   "source": [
    "list(s.columns)"
   ]
  },
  {
   "cell_type": "markdown",
   "metadata": {},
   "source": [
    "**2) Selecciona las columnas de interés.**"
   ]
  },
  {
   "cell_type": "code",
   "execution_count": 152,
   "metadata": {},
   "outputs": [
    {
     "data": {
      "text/html": [
       "<div>\n",
       "<style scoped>\n",
       "    .dataframe tbody tr th:only-of-type {\n",
       "        vertical-align: middle;\n",
       "    }\n",
       "\n",
       "    .dataframe tbody tr th {\n",
       "        vertical-align: top;\n",
       "    }\n",
       "\n",
       "    .dataframe thead th {\n",
       "        text-align: right;\n",
       "    }\n",
       "</style>\n",
       "<table border=\"1\" class=\"dataframe\">\n",
       "  <thead>\n",
       "    <tr style=\"text-align: right;\">\n",
       "      <th></th>\n",
       "      <th>Date</th>\n",
       "      <th>Destination</th>\n",
       "    </tr>\n",
       "  </thead>\n",
       "  <tbody>\n",
       "    <tr>\n",
       "      <th>0</th>\n",
       "      <td>2013-01-01</td>\n",
       "      <td>AUH</td>\n",
       "    </tr>\n",
       "    <tr>\n",
       "      <th>1</th>\n",
       "      <td>2013-01-01</td>\n",
       "      <td>MIL</td>\n",
       "    </tr>\n",
       "    <tr>\n",
       "      <th>2</th>\n",
       "      <td>2013-01-01</td>\n",
       "      <td>SFO</td>\n",
       "    </tr>\n",
       "    <tr>\n",
       "      <th>3</th>\n",
       "      <td>2013-01-01</td>\n",
       "      <td>ARN</td>\n",
       "    </tr>\n",
       "    <tr>\n",
       "      <th>4</th>\n",
       "      <td>2013-01-01</td>\n",
       "      <td>MAD</td>\n",
       "    </tr>\n",
       "  </tbody>\n",
       "</table>\n",
       "</div>"
      ],
      "text/plain": [
       "         Date Destination\n",
       "0  2013-01-01         AUH\n",
       "1  2013-01-01         MIL\n",
       "2  2013-01-01         SFO\n",
       "3  2013-01-01         ARN\n",
       "4  2013-01-01         MAD"
      ]
     },
     "execution_count": 152,
     "metadata": {},
     "output_type": "execute_result"
    }
   ],
   "source": [
    "s = pd.read_csv('searches_sample.csv.bz2',sep = '^',usecols = ['Date','Destination'])\n",
    "s.head()"
   ]
  },
  {
   "cell_type": "markdown",
   "metadata": {},
   "source": [
    "**3) ¿Qué hacer con NaN?**"
   ]
  },
  {
   "cell_type": "code",
   "execution_count": 153,
   "metadata": {},
   "outputs": [],
   "source": [
    "s = s.dropna()"
   ]
  },
  {
   "cell_type": "markdown",
   "metadata": {},
   "source": [
    "**4) Hacer plan de accion**"
   ]
  },
  {
   "cell_type": "markdown",
   "metadata": {},
   "source": [
    "1. filtrar solo MAD, AGP, BCN\n",
    "2. crear la columna \"año-mes\"\n",
    "3. grupo por aeropuerto, \"año-mes\"\n",
    "4. sumar búsquedas\n",
    "5. parcela"
   ]
  },
  {
   "cell_type": "code",
   "execution_count": 154,
   "metadata": {},
   "outputs": [],
   "source": [
    "s = s[ s.isin(['MAD','AGP','BCN']) ]"
   ]
  },
  {
   "cell_type": "code",
   "execution_count": 155,
   "metadata": {},
   "outputs": [
    {
     "name": "stdout",
     "output_type": "stream",
     "text": [
      "<class 'pandas.core.frame.DataFrame'>\n",
      "Int64Index: 9999 entries, 0 to 9998\n",
      "Data columns (total 2 columns):\n",
      "Date           0 non-null object\n",
      "Destination    335 non-null object\n",
      "dtypes: object(2)\n",
      "memory usage: 234.4+ KB\n"
     ]
    }
   ],
   "source": [
    "s.info()"
   ]
  },
  {
   "cell_type": "markdown",
   "metadata": {},
   "source": [
    "no podemos usar la función de fecha en la columna 'fecha' ya que es una cadena que necesita tener algo así como año-mes"
   ]
  },
  {
   "cell_type": "markdown",
   "metadata": {},
   "source": [
    "Opciones:\n",
    "\n",
    "1) Transfming cadena hasta la fecha:\n",
    "\n",
    "         a) parse_dates = ['Date'] - en la función csv_read\n",
    "         b) pd.to_datetime - función\n",
    "        \n",
    "         ab-> y crea una nueva columna con funciones .month .year\n",
    "    \n",
    "2) usando una cuerda y obteniendo aaaa-mm directamente de ella"
   ]
  },
  {
   "cell_type": "markdown",
   "metadata": {},
   "source": [
    "**1)**"
   ]
  },
  {
   "cell_type": "markdown",
   "metadata": {},
   "source": [
    "#### a)"
   ]
  },
  {
   "cell_type": "code",
   "execution_count": 156,
   "metadata": {},
   "outputs": [
    {
     "name": "stdout",
     "output_type": "stream",
     "text": [
      "<class 'pandas.core.frame.DataFrame'>\n",
      "Int64Index: 335 entries, 4 to 9950\n",
      "Data columns (total 2 columns):\n",
      "Date           335 non-null datetime64[ns]\n",
      "Destination    335 non-null object\n",
      "dtypes: datetime64[ns](1), object(1)\n",
      "memory usage: 7.9+ KB\n"
     ]
    }
   ],
   "source": [
    "s=pd.read_csv('./searches_sample.csv.bz2', sep='^', usecols=['Date', 'Destination'], parse_dates=['Date'])\n",
    "s=s.dropna()\n",
    "s=s[ s['Destination'].isin(['MAD', 'AGP', 'BCN']) ]\n",
    "s.info()"
   ]
  },
  {
   "cell_type": "code",
   "execution_count": 157,
   "metadata": {},
   "outputs": [
    {
     "data": {
      "text/plain": [
       "1"
      ]
     },
     "execution_count": 157,
     "metadata": {},
     "output_type": "execute_result"
    }
   ],
   "source": [
    "s['Date'].iloc[0].month"
   ]
  },
  {
   "cell_type": "markdown",
   "metadata": {},
   "source": [
    "#### b)"
   ]
  },
  {
   "cell_type": "code",
   "execution_count": 159,
   "metadata": {},
   "outputs": [
    {
     "name": "stdout",
     "output_type": "stream",
     "text": [
      "<class 'pandas.core.frame.DataFrame'>\n",
      "Int64Index: 335 entries, 4 to 9950\n",
      "Data columns (total 2 columns):\n",
      "Date           335 non-null object\n",
      "Destination    335 non-null object\n",
      "dtypes: object(2)\n",
      "memory usage: 7.9+ KB\n"
     ]
    }
   ],
   "source": [
    "s=pd.read_csv('./searches_sample.csv.bz2', sep='^', usecols=['Date', 'Destination'])\n",
    "s=s.dropna()\n",
    "s=s[ s['Destination'].isin(['MAD', 'AGP', 'BCN']) ]\n",
    "s.info()"
   ]
  },
  {
   "cell_type": "code",
   "execution_count": 160,
   "metadata": {
    "scrolled": true
   },
   "outputs": [
    {
     "data": {
      "text/plain": [
       "Timestamp('2013-01-01 00:00:00')"
      ]
     },
     "execution_count": 160,
     "metadata": {},
     "output_type": "execute_result"
    }
   ],
   "source": [
    "pd.to_datetime(s['Date'].iloc[0])"
   ]
  },
  {
   "cell_type": "markdown",
   "metadata": {},
   "source": [
    "**2)**"
   ]
  },
  {
   "cell_type": "code",
   "execution_count": 177,
   "metadata": {},
   "outputs": [
    {
     "name": "stdout",
     "output_type": "stream",
     "text": [
      "<class 'pandas.core.frame.DataFrame'>\n",
      "Int64Index: 7283 entries, 4 to 199989\n",
      "Data columns (total 2 columns):\n",
      "Date           7283 non-null object\n",
      "Destination    7283 non-null object\n",
      "dtypes: object(2)\n",
      "memory usage: 170.7+ KB\n"
     ]
    }
   ],
   "source": [
    "s=pd.read_csv('./searches.csv.bz2', sep='^', usecols=['Date', 'Destination'],nrows = 200000)\n",
    "s=s.dropna()\n",
    "s=s[ s['Destination'].isin(['MAD', 'AGP', 'BCN']) ]\n",
    "s.info()"
   ]
  },
  {
   "cell_type": "code",
   "execution_count": 178,
   "metadata": {},
   "outputs": [
    {
     "data": {
      "text/html": [
       "<div>\n",
       "<style scoped>\n",
       "    .dataframe tbody tr th:only-of-type {\n",
       "        vertical-align: middle;\n",
       "    }\n",
       "\n",
       "    .dataframe tbody tr th {\n",
       "        vertical-align: top;\n",
       "    }\n",
       "\n",
       "    .dataframe thead th {\n",
       "        text-align: right;\n",
       "    }\n",
       "</style>\n",
       "<table border=\"1\" class=\"dataframe\">\n",
       "  <thead>\n",
       "    <tr style=\"text-align: right;\">\n",
       "      <th></th>\n",
       "      <th>Date</th>\n",
       "      <th>Destination</th>\n",
       "      <th>Year-Month</th>\n",
       "    </tr>\n",
       "  </thead>\n",
       "  <tbody>\n",
       "    <tr>\n",
       "      <th>4</th>\n",
       "      <td>2013-01-01</td>\n",
       "      <td>MAD</td>\n",
       "      <td>2013-01</td>\n",
       "    </tr>\n",
       "    <tr>\n",
       "      <th>93</th>\n",
       "      <td>2013-01-01</td>\n",
       "      <td>AGP</td>\n",
       "      <td>2013-01</td>\n",
       "    </tr>\n",
       "    <tr>\n",
       "      <th>113</th>\n",
       "      <td>2013-01-01</td>\n",
       "      <td>BCN</td>\n",
       "      <td>2013-01</td>\n",
       "    </tr>\n",
       "    <tr>\n",
       "      <th>147</th>\n",
       "      <td>2013-01-01</td>\n",
       "      <td>AGP</td>\n",
       "      <td>2013-01</td>\n",
       "    </tr>\n",
       "    <tr>\n",
       "      <th>151</th>\n",
       "      <td>2013-01-01</td>\n",
       "      <td>MAD</td>\n",
       "      <td>2013-01</td>\n",
       "    </tr>\n",
       "  </tbody>\n",
       "</table>\n",
       "</div>"
      ],
      "text/plain": [
       "           Date Destination Year-Month\n",
       "4    2013-01-01         MAD    2013-01\n",
       "93   2013-01-01         AGP    2013-01\n",
       "113  2013-01-01         BCN    2013-01\n",
       "147  2013-01-01         AGP    2013-01\n",
       "151  2013-01-01         MAD    2013-01"
      ]
     },
     "execution_count": 178,
     "metadata": {},
     "output_type": "execute_result"
    }
   ],
   "source": [
    "s['Year-Month']=s['Date'].str[0:7]\n",
    "s.head()"
   ]
  },
  {
   "cell_type": "code",
   "execution_count": 180,
   "metadata": {},
   "outputs": [],
   "source": [
    "s['searches'] = 1"
   ]
  },
  {
   "cell_type": "code",
   "execution_count": 181,
   "metadata": {
    "scrolled": true
   },
   "outputs": [
    {
     "data": {
      "text/html": [
       "<div>\n",
       "<style scoped>\n",
       "    .dataframe tbody tr th:only-of-type {\n",
       "        vertical-align: middle;\n",
       "    }\n",
       "\n",
       "    .dataframe tbody tr th {\n",
       "        vertical-align: top;\n",
       "    }\n",
       "\n",
       "    .dataframe thead th {\n",
       "        text-align: right;\n",
       "    }\n",
       "</style>\n",
       "<table border=\"1\" class=\"dataframe\">\n",
       "  <thead>\n",
       "    <tr style=\"text-align: right;\">\n",
       "      <th></th>\n",
       "      <th>Year-Month</th>\n",
       "      <th>Destination</th>\n",
       "      <th>searches</th>\n",
       "    </tr>\n",
       "  </thead>\n",
       "  <tbody>\n",
       "    <tr>\n",
       "      <th>0</th>\n",
       "      <td>2013-01</td>\n",
       "      <td>AGP</td>\n",
       "      <td>169</td>\n",
       "    </tr>\n",
       "    <tr>\n",
       "      <th>1</th>\n",
       "      <td>2013-01</td>\n",
       "      <td>BCN</td>\n",
       "      <td>517</td>\n",
       "    </tr>\n",
       "    <tr>\n",
       "      <th>2</th>\n",
       "      <td>2013-01</td>\n",
       "      <td>MAD</td>\n",
       "      <td>425</td>\n",
       "    </tr>\n",
       "    <tr>\n",
       "      <th>3</th>\n",
       "      <td>2013-02</td>\n",
       "      <td>AGP</td>\n",
       "      <td>147</td>\n",
       "    </tr>\n",
       "    <tr>\n",
       "      <th>4</th>\n",
       "      <td>2013-02</td>\n",
       "      <td>BCN</td>\n",
       "      <td>497</td>\n",
       "    </tr>\n",
       "  </tbody>\n",
       "</table>\n",
       "</div>"
      ],
      "text/plain": [
       "  Year-Month Destination  searches\n",
       "0    2013-01         AGP       169\n",
       "1    2013-01         BCN       517\n",
       "2    2013-01         MAD       425\n",
       "3    2013-02         AGP       147\n",
       "4    2013-02         BCN       497"
      ]
     },
     "execution_count": 181,
     "metadata": {},
     "output_type": "execute_result"
    }
   ],
   "source": [
    "s_groupby = s.groupby(['Year-Month','Destination'])['searches'].count().reset_index() # en vez de count() se puede usar size() ya que no tenemos campo de conteo\n",
    "s_groupby.head()"
   ]
  },
  {
   "cell_type": "code",
   "execution_count": 183,
   "metadata": {},
   "outputs": [
    {
     "data": {
      "text/html": [
       "<div>\n",
       "<style scoped>\n",
       "    .dataframe tbody tr th:only-of-type {\n",
       "        vertical-align: middle;\n",
       "    }\n",
       "\n",
       "    .dataframe tbody tr th {\n",
       "        vertical-align: top;\n",
       "    }\n",
       "\n",
       "    .dataframe thead th {\n",
       "        text-align: right;\n",
       "    }\n",
       "</style>\n",
       "<table border=\"1\" class=\"dataframe\">\n",
       "  <thead>\n",
       "    <tr style=\"text-align: right;\">\n",
       "      <th>Destination</th>\n",
       "      <th>AGP</th>\n",
       "      <th>BCN</th>\n",
       "      <th>MAD</th>\n",
       "    </tr>\n",
       "    <tr>\n",
       "      <th>Year-Month</th>\n",
       "      <th></th>\n",
       "      <th></th>\n",
       "      <th></th>\n",
       "    </tr>\n",
       "  </thead>\n",
       "  <tbody>\n",
       "    <tr>\n",
       "      <th>2013-01</th>\n",
       "      <td>169</td>\n",
       "      <td>517</td>\n",
       "      <td>425</td>\n",
       "    </tr>\n",
       "    <tr>\n",
       "      <th>2013-02</th>\n",
       "      <td>147</td>\n",
       "      <td>497</td>\n",
       "      <td>400</td>\n",
       "    </tr>\n",
       "    <tr>\n",
       "      <th>2013-03</th>\n",
       "      <td>187</td>\n",
       "      <td>536</td>\n",
       "      <td>433</td>\n",
       "    </tr>\n",
       "    <tr>\n",
       "      <th>2013-04</th>\n",
       "      <td>145</td>\n",
       "      <td>548</td>\n",
       "      <td>443</td>\n",
       "    </tr>\n",
       "    <tr>\n",
       "      <th>2013-05</th>\n",
       "      <td>190</td>\n",
       "      <td>504</td>\n",
       "      <td>462</td>\n",
       "    </tr>\n",
       "    <tr>\n",
       "      <th>2013-06</th>\n",
       "      <td>139</td>\n",
       "      <td>465</td>\n",
       "      <td>400</td>\n",
       "    </tr>\n",
       "    <tr>\n",
       "      <th>2013-07</th>\n",
       "      <td>90</td>\n",
       "      <td>320</td>\n",
       "      <td>266</td>\n",
       "    </tr>\n",
       "  </tbody>\n",
       "</table>\n",
       "</div>"
      ],
      "text/plain": [
       "Destination  AGP  BCN  MAD\n",
       "Year-Month                \n",
       "2013-01      169  517  425\n",
       "2013-02      147  497  400\n",
       "2013-03      187  536  433\n",
       "2013-04      145  548  443\n",
       "2013-05      190  504  462\n",
       "2013-06      139  465  400\n",
       "2013-07       90  320  266"
      ]
     },
     "execution_count": 183,
     "metadata": {},
     "output_type": "execute_result"
    }
   ],
   "source": [
    "A = s_groupby.pivot('Year-Month','Destination','searches')\n",
    "A"
   ]
  },
  {
   "cell_type": "code",
   "execution_count": 185,
   "metadata": {},
   "outputs": [],
   "source": [
    "import matplotlib.pyplot as plt"
   ]
  },
  {
   "cell_type": "code",
   "execution_count": 186,
   "metadata": {},
   "outputs": [
    {
     "data": {
      "text/plain": [
       "<matplotlib.axes._subplots.AxesSubplot at 0x7fd385721cf8>"
      ]
     },
     "execution_count": 186,
     "metadata": {},
     "output_type": "execute_result"
    },
    {
     "data": {
      "image/png": "[encoded data removed]",
      "text/plain": [
       "<Figure size 432x288 with 1 Axes>"
      ]
     },
     "metadata": {},
     "output_type": "display_data"
    }
   ],
   "source": [
    "A.plot()"
   ]
  },
  {
   "cell_type": "markdown",
   "metadata": {},
   "source": [
    "## Ajustaremos este ejercicio para todo el archivo \"searches.csv.bz2\""
   ]
  },
  {
   "cell_type": "code",
   "execution_count": 189,
   "metadata": {},
   "outputs": [
    {
     "data": {
      "text/plain": [
       "<matplotlib.axes._subplots.AxesSubplot at 0x7fd3872c6f98>"
      ]
     },
     "execution_count": 189,
     "metadata": {},
     "output_type": "execute_result"
    },
    {
     "data": {
      "image/png": "[encoded data removed]",
      "text/plain": [
       "<Figure size 432x288 with 1 Axes>"
      ]
     },
     "metadata": {},
     "output_type": "display_data"
    }
   ],
   "source": [
    "s_tot = pd.read_csv('./searches.csv.bz2',sep = '^',usecols = ['Date','Destination'],chunksize=10000)\n",
    "sum_all_chunks = pd.DataFrame()\n",
    "tot_sum_months = pd.DataFrame()\n",
    "for i,chunk in enumerate(s_tot):\n",
    "    s=chunk.dropna()\n",
    "    s = s[  s['Destination'].isin(['MAD','AGP','BCN']) ]  # or s[  s['Destination'] == 'MAD' | s['Destination'] == 'AGP' | s['Destination'] == 'BCN' ]\n",
    "    s['Year-Month'] = s['Date'].str[0:7]  #  or s['Date'].str.slice(stop=7)\n",
    "    del s['Date']\n",
    "    s['searches'] = 1\n",
    "    s_group = s.groupby(['Destination','Year-Month'])['searches']\n",
    "    chunk_months = s_group.count().reset_index()\n",
    "    sum_all_chunks = sum_all_chunks.append(chunk_months)\n",
    "tot_months = sum_all_chunks.groupby(['Destination','Year-Month'])['searches']\n",
    "tot_sum_months = tot_months.sum().reset_index()\n",
    "A = tot_sum_months.pivot('Year-Month','Destination','searches')\n",
    "A.plot()"
   ]
  },
  {
   "cell_type": "markdown",
   "metadata": {},
   "source": [
    "**Graficando con mas opciones:**"
   ]
  },
  {
   "cell_type": "code",
   "execution_count": 190,
   "metadata": {},
   "outputs": [
    {
     "data": {
      "text/plain": [
       "0      9633\n",
       "1      8379\n",
       "2     10659\n",
       "3      8265\n",
       "4     10830\n",
       "5      7923\n",
       "6      8892\n",
       "7      7866\n",
       "8      8151\n",
       "9      6499\n",
       "10     6384\n",
       "11     3696\n",
       "Name: searches, dtype: int64"
      ]
     },
     "execution_count": 190,
     "metadata": {},
     "output_type": "execute_result"
    }
   ],
   "source": [
    "tot_sum_months[tot_sum_months['Destination']=='AGP'].reset_index()['searches']"
   ]
  },
  {
   "cell_type": "code",
   "execution_count": 191,
   "metadata": {},
   "outputs": [
    {
     "data": {
      "text/plain": [
       "[9633, 8379, 10659, 8265, 10830, 7923, 8892, 7866, 8151, 6499, 6384, 3696]"
      ]
     },
     "execution_count": 191,
     "metadata": {},
     "output_type": "execute_result"
    }
   ],
   "source": [
    "list(tot_sum_months[tot_sum_months['Destination']=='AGP'].reset_index()['searches'])"
   ]
  },
  {
   "cell_type": "code",
   "execution_count": 192,
   "metadata": {},
   "outputs": [],
   "source": [
    "agp=list(tot_sum_months[tot_sum_months['Destination']=='AGP'].reset_index()['searches'])\n",
    "mad=list(tot_sum_months[tot_sum_months['Destination']=='MAD'].reset_index()['searches'])\n",
    "bcn=list(tot_sum_months[tot_sum_months['Destination']=='BCN'].reset_index()['searches'])"
   ]
  },
  {
   "cell_type": "code",
   "execution_count": 203,
   "metadata": {},
   "outputs": [
    {
     "data": {
      "text/html": [
       "<div>\n",
       "<style scoped>\n",
       "    .dataframe tbody tr th:only-of-type {\n",
       "        vertical-align: middle;\n",
       "    }\n",
       "\n",
       "    .dataframe tbody tr th {\n",
       "        vertical-align: top;\n",
       "    }\n",
       "\n",
       "    .dataframe thead th {\n",
       "        text-align: right;\n",
       "    }\n",
       "</style>\n",
       "<table border=\"1\" class=\"dataframe\">\n",
       "  <thead>\n",
       "    <tr style=\"text-align: right;\">\n",
       "      <th></th>\n",
       "      <th>Destination</th>\n",
       "      <th>Year-Month</th>\n",
       "      <th>searches</th>\n",
       "      <th>Month</th>\n",
       "    </tr>\n",
       "  </thead>\n",
       "  <tbody>\n",
       "    <tr>\n",
       "      <th>0</th>\n",
       "      <td>AGP</td>\n",
       "      <td>2013-01</td>\n",
       "      <td>9633</td>\n",
       "      <td>01</td>\n",
       "    </tr>\n",
       "    <tr>\n",
       "      <th>1</th>\n",
       "      <td>AGP</td>\n",
       "      <td>2013-02</td>\n",
       "      <td>8379</td>\n",
       "      <td>02</td>\n",
       "    </tr>\n",
       "    <tr>\n",
       "      <th>2</th>\n",
       "      <td>AGP</td>\n",
       "      <td>2013-03</td>\n",
       "      <td>10659</td>\n",
       "      <td>03</td>\n",
       "    </tr>\n",
       "    <tr>\n",
       "      <th>3</th>\n",
       "      <td>AGP</td>\n",
       "      <td>2013-04</td>\n",
       "      <td>8265</td>\n",
       "      <td>04</td>\n",
       "    </tr>\n",
       "    <tr>\n",
       "      <th>4</th>\n",
       "      <td>AGP</td>\n",
       "      <td>2013-05</td>\n",
       "      <td>10830</td>\n",
       "      <td>05</td>\n",
       "    </tr>\n",
       "  </tbody>\n",
       "</table>\n",
       "</div>"
      ],
      "text/plain": [
       "  Destination Year-Month  searches Month\n",
       "0         AGP    2013-01      9633    01\n",
       "1         AGP    2013-02      8379    02\n",
       "2         AGP    2013-03     10659    03\n",
       "3         AGP    2013-04      8265    04\n",
       "4         AGP    2013-05     10830    05"
      ]
     },
     "execution_count": 203,
     "metadata": {},
     "output_type": "execute_result"
    }
   ],
   "source": [
    "tot_sum_months['Month'] = tot_sum_months['Year-Month'].str[5:7]\n",
    "tot_sum_months.head()"
   ]
  },
  {
   "cell_type": "code",
   "execution_count": 204,
   "metadata": {},
   "outputs": [],
   "source": [
    "plotdate=list(tot_sum_months.reset_index()['Month'].unique())"
   ]
  },
  {
   "cell_type": "code",
   "execution_count": 205,
   "metadata": {},
   "outputs": [
    {
     "data": {
      "text/plain": [
       "Text(0.5,1,'Year 2013')"
      ]
     },
     "execution_count": 205,
     "metadata": {},
     "output_type": "execute_result"
    },
    {
     "data": {
      "image/png": "[encoded data removed]",
      "text/plain": [
       "<Figure size 432x288 with 1 Axes>"
      ]
     },
     "metadata": {},
     "output_type": "display_data"
    }
   ],
   "source": [
    "import numpy as np\n",
    "fig=plt.figure() \n",
    "#fig.set_size_inches(12,6) \n",
    "\n",
    "ax = plt.gca() #get current axes\n",
    "#.add_subplot(1,1,1)  \n",
    "plt.xlabel(\"Date\")\n",
    "plt.ylabel(\"searches\")\n",
    "#plt.xticks(range(len(plotdate)), plotdate,size='small')\n",
    "plt.xticks(range(len(plotdate)), plotdate)\n",
    "\n",
    "major_ticks = range(len(plotdate))                                             \n",
    "minor_ticks = np.arange(0, len(plotdate), 0.5) \n",
    "plt.gca().set_xticks(major_ticks)                                                       \n",
    "ax.set_xticks(minor_ticks, minor=True)   \n",
    "ax.grid(which='both') \n",
    "ax.grid(which='minor', alpha=0.5)                                                \n",
    "ax.grid(which='major', alpha=1)\n",
    "\n",
    "plt.plot(agp, label='AGP')\n",
    "plt.plot(bcn, label='BCN')\n",
    "plt.plot(mad, label='MAD')\n",
    "\n",
    "plt.grid(True)\n",
    "\n",
    "#plt.legend([\"Madrid\", \"Barcelona\", \"Malaga\"],loc='center left', frameon=True)\n",
    "plt.legend([\"AGP\",\"BCN\", \"MAD\"],loc='best', frameon=True, title=\"Destinations\")\n",
    "\n",
    "#plt.bar(range(len(y)), y, align='center')\n",
    "\n",
    "plt.title(\"Year 2013\")"
   ]
  }
 ],
 "metadata": {
  "kernelspec": {
   "display_name": "Python 3",
   "language": "python",
   "name": "python3"
  },
  "language_info": {
   "codemirror_mode": {
    "name": "ipython",
    "version": 3
   },
   "file_extension": ".py",
   "mimetype": "text/x-python",
   "name": "python",
   "nbconvert_exporter": "python",
   "pygments_lexer": "ipython3",
   "version": "3.6.8"
  }
 },
 "nbformat": 4,
 "nbformat_minor": 2
}
